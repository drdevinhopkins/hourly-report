{
 "cells": [
  {
   "cell_type": "code",
   "execution_count": 2,
   "metadata": {},
   "outputs": [],
   "source": [
    "import pandas as pd\n",
    "import datetime"
   ]
  },
  {
   "cell_type": "code",
   "execution_count": 8,
   "metadata": {},
   "outputs": [],
   "source": [
    "# Clean up datetimes\n",
    "\n",
    "df9 = pd.read_csv(\"../data/recent.csv\")\n",
    "\n",
    "hours_added = datetime.timedelta(hours=1)\n",
    "\n",
    "df9[\"ds\"] = pd.to_datetime(\n",
    "    df9[\"Date\"] + \" \" + (df9[\"Time\"] - 1).astype(str) + \":00\") + datetime.timedelta(hours=1)\n",
    "\n",
    "df9 = df9.sort_values(by='ds', ascending=False)\n",
    "\n",
    "df9.to_csv(\"../data/recent.csv\", index=False)"
   ]
  },
  {
   "cell_type": "code",
   "execution_count": 7,
   "metadata": {},
   "outputs": [],
   "source": [
    "df9 = pd.read_csv(\"../data/current.csv\")\n",
    "\n",
    "hours_added = datetime.timedelta(hours=1)\n",
    "\n",
    "df9[\"ds\"] = pd.to_datetime(\n",
    "    df9[\"Date\"] + \" \" + (df9[\"Time\"] - 1).astype(str) + \":00\") + datetime.timedelta(hours=1)\n",
    "\n",
    "\n",
    "df9.to_csv(\"../data/current.csv\", index=False)"
   ]
  },
  {
   "cell_type": "code",
   "execution_count": 10,
   "metadata": {},
   "outputs": [],
   "source": [
    "df9 = pd.read_csv(\"../data/since-2020.csv\")\n",
    "\n",
    "hours_added = datetime.timedelta(hours=1)\n",
    "\n",
    "df9[\"ds\"] = pd.to_datetime(\n",
    "    df9[\"Date\"] + \" \" + (df9[\"Time\"] - 1).astype(str) + \":00\") + datetime.timedelta(hours=1)\n",
    "\n",
    "df9 = df9.sort_values(by='ds', ascending=False)\n",
    "\n",
    "df9.to_csv(\"../data/since-2020.csv\", index=False)"
   ]
  },
  {
   "cell_type": "code",
   "execution_count": null,
   "metadata": {},
   "outputs": [],
   "source": []
  }
 ],
 "metadata": {
  "interpreter": {
   "hash": "949777d72b0d2535278d3dc13498b2535136f6dfe0678499012e853ee9abcab1"
  },
  "kernelspec": {
   "display_name": "Python 3.9.4 64-bit",
   "language": "python",
   "name": "python3"
  },
  "language_info": {
   "codemirror_mode": {
    "name": "ipython",
    "version": 3
   },
   "file_extension": ".py",
   "mimetype": "text/x-python",
   "name": "python",
   "nbconvert_exporter": "python",
   "pygments_lexer": "ipython3",
   "version": "3.8.5"
  },
  "orig_nbformat": 4
 },
 "nbformat": 4,
 "nbformat_minor": 2
}
