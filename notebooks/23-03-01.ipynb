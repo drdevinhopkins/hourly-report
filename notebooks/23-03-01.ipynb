{
 "cells": [
  {
   "cell_type": "code",
   "execution_count": 21,
   "metadata": {},
   "outputs": [],
   "source": [
    "import pandas as pd\n",
    "import pymsteams\n",
    "from dotenv import load_dotenv\n",
    "import os\n",
    "import plotly.express as px\n",
    "import plotly.graph_objects as go\n",
    "from plotly.subplots import make_subplots\n",
    "\n",
    "\n",
    "load_dotenv()\n",
    "\n",
    "\n",
    "def load_data():\n",
    "\n",
    "    df = pd.read_csv('../data/recent.csv')\n",
    "\n",
    "    df.ds = pd.to_datetime(df.ds)\n",
    "\n",
    "    forecast = pd.read_csv('../data/forecast.csv')\n",
    "\n",
    "    forecast.ds = pd.to_datetime(forecast.ds)\n",
    "\n",
    "    current = df.iloc[0]\n",
    "\n",
    "    current_ds = df.head(1).iloc[0].ds\n",
    "\n",
    "    return df, forecast, current, current_ds\n",
    "\n",
    "\n",
    "df, forecast, current, current_ds = load_data()\n",
    "\n",
    "\n",
    "alert_types = [\n",
    "    # 'Total Inflow hrly',\n",
    "    #  'Ambulances hrly',\n",
    "    'Total Stretcher pts',\n",
    "    'Triage hallway pts',\n",
    "    'Triage hallway pts TBS',\n",
    "    #  'Resus Pts',\n",
    "    #  'Totalpts in PODs except Psych',\n",
    "    # 'Green Pts TBS',\n",
    "    # 'Yellow Pts TBS',\n",
    "    # 'Orange Pts TBS',\n",
    "    'Consults > 2h in PODS except IM',\n",
    "    'Consult for IM >4h in PODS',\n",
    "    'Plain films reqs > 2 h in PODs'\n",
    "    'CTs reqs > 2 h in PODs',\n",
    "    #  'Post POD (Family room)',\n",
    "    #  'QTrack Patients TBS',\n",
    "    #  'GARAGE patient TBS',\n",
    "    'Consults > 2h in Vertical Except IM',\n",
    "    'Consult for IM >4h in Vertical',\n",
    "    'Plain films reqs > 2 hr in Vertical',\n",
    "    'CTs reqs > 2 hrs in Vertical',\n",
    "    'Total Pod TBS',\n",
    "    'Total Vertical TBS']\n",
    "\n",
    "alert_categories = {\n",
    "    # 'Total Inflow hrly',\n",
    "    #  'Ambulances hrly',\n",
    "    'Total Stretcher pts': 'Patient Volume',\n",
    "    'Triage hallway pts': 'Patient Volume',\n",
    "    'Triage hallway pts TBS': 'Patient Volume',\n",
    "    #  'Resus Pts',\n",
    "    #  'Totalpts in PODs except Psych',\n",
    "    # 'Green Pts TBS': 'Patient Volume',\n",
    "    # 'Yellow Pts TBS',\n",
    "    # 'Orange Pts TBS',\n",
    "    'Consults > 2h in PODS except IM': 'Consultations',\n",
    "    'Consult for IM >4h in PODS': 'Consultations',\n",
    "    'Plain films reqs > 2 h in PODs': 'Radiology',\n",
    "    'CTs reqs > 2 h in PODs': 'Radiology',\n",
    "    #  'Post POD (Family room)',\n",
    "    #  'QTrack Patients TBS',\n",
    "    #  'GARAGE patient TBS',\n",
    "    'Consults > 2h in Vertical Except IM': 'Consultations',\n",
    "    'Consult for IM >4h in Vertical': 'Consultations',\n",
    "    'Plain films reqs > 2 hr in Vertical': 'Radiology',\n",
    "    'CTs reqs > 2 hrs in Vertical': 'Radiology',\n",
    "    'Total Pod TBS': 'Patient Volume',\n",
    "    'Total Vertical TBS': 'Patient Volume'}\n",
    "\n",
    "\n",
    "current_forecast = forecast.set_index('ds').loc[current_ds]\n"
   ]
  },
  {
   "cell_type": "code",
   "execution_count": 9,
   "metadata": {},
   "outputs": [
    {
     "name": "stdout",
     "output_type": "stream",
     "text": [
      "No alerts\n"
     ]
    }
   ],
   "source": [
    "\n",
    "\n",
    "alerts = []\n",
    "\n",
    "for column in alert_types:\n",
    "    try:\n",
    "        if current[column] > current_forecast[column+'_yhat_upper']:\n",
    "            alerts.append({'category': alert_categories[column], 'metric': column, 'value': current[column], 'yhat_upper': round(\n",
    "                current_forecast[column+'_yhat_upper'], 1)})\n",
    "    except:\n",
    "        continue\n",
    "\n",
    "\n",
    "if alerts:\n",
    "    alerts_df = pd.DataFrame(alerts)\n",
    "\n",
    "    active_alert_categories = alerts_df.category.unique().tolist()\n",
    "\n",
    "    myTeamsMessage = pymsteams.connectorcard(os.environ.get('TEAMS_WEBHOOK'))\n",
    "\n",
    "    # myTeamsMessage.title(\"Overcrowding alert\")\n",
    "\n",
    "    myTeamsMessage.text(' ')\n",
    "\n",
    "    for category in active_alert_categories:\n",
    "\n",
    "        myMessageSection = pymsteams.cardsection()\n",
    "\n",
    "        myMessageSection.title(category)\n",
    "\n",
    "        for i, row in alerts_df[alerts_df['category'] == category].iterrows():\n",
    "\n",
    "            myMessageSection.addFact(row['metric'], str(row['value']))\n",
    "\n",
    "        myTeamsMessage.addSection(myMessageSection)\n",
    "\n",
    "    myTeamsMessage.printme()\n",
    "\n",
    "    # myTeamsMessage.send()\n",
    "\n",
    "else:\n",
    "    print('No alerts')\n"
   ]
  },
  {
   "cell_type": "code",
   "execution_count": 6,
   "metadata": {},
   "outputs": [
    {
     "data": {
      "text/plain": [
       "{'category': 'Radiology',\n",
       " 'metric': 'Plain films reqs > 2 hr in Vertical',\n",
       " 'value': 3,\n",
       " 'yhat_upper': 2.5}"
      ]
     },
     "execution_count": 6,
     "metadata": {},
     "output_type": "execute_result"
    }
   ],
   "source": [
    "alert = alerts[0]\n",
    "alert"
   ]
  },
  {
   "cell_type": "code",
   "execution_count": 10,
   "metadata": {},
   "outputs": [],
   "source": [
    "metric = 'Total Vertical TBS'"
   ]
  },
  {
   "cell_type": "code",
   "execution_count": 11,
   "metadata": {},
   "outputs": [
    {
     "data": {
      "application/vnd.plotly.v1+json": {
       "config": {
        "plotlyServerURL": "https://plot.ly"
       },
       "data": [
        {
         "alignmentgroup": "True",
         "hovertemplate": "x=%{x}<br>y=%{y}<extra></extra>",
         "legendgroup": "",
         "marker": {
          "color": "#636efa",
          "pattern": {
           "shape": ""
          }
         },
         "name": "",
         "offsetgroup": "",
         "orientation": "v",
         "showlegend": false,
         "textposition": "auto",
         "type": "bar",
         "x": [
          "a",
          "b",
          "c"
         ],
         "xaxis": "x",
         "y": [
          1,
          3,
          2
         ],
         "yaxis": "y"
        }
       ],
       "layout": {
        "barmode": "relative",
        "legend": {
         "tracegroupgap": 0
        },
        "margin": {
         "t": 60
        },
        "template": {
         "data": {
          "bar": [
           {
            "error_x": {
             "color": "#2a3f5f"
            },
            "error_y": {
             "color": "#2a3f5f"
            },
            "marker": {
             "line": {
              "color": "#E5ECF6",
              "width": 0.5
             },
             "pattern": {
              "fillmode": "overlay",
              "size": 10,
              "solidity": 0.2
             }
            },
            "type": "bar"
           }
          ],
          "barpolar": [
           {
            "marker": {
             "line": {
              "color": "#E5ECF6",
              "width": 0.5
             },
             "pattern": {
              "fillmode": "overlay",
              "size": 10,
              "solidity": 0.2
             }
            },
            "type": "barpolar"
           }
          ],
          "carpet": [
           {
            "aaxis": {
             "endlinecolor": "#2a3f5f",
             "gridcolor": "white",
             "linecolor": "white",
             "minorgridcolor": "white",
             "startlinecolor": "#2a3f5f"
            },
            "baxis": {
             "endlinecolor": "#2a3f5f",
             "gridcolor": "white",
             "linecolor": "white",
             "minorgridcolor": "white",
             "startlinecolor": "#2a3f5f"
            },
            "type": "carpet"
           }
          ],
          "choropleth": [
           {
            "colorbar": {
             "outlinewidth": 0,
             "ticks": ""
            },
            "type": "choropleth"
           }
          ],
          "contour": [
           {
            "colorbar": {
             "outlinewidth": 0,
             "ticks": ""
            },
            "colorscale": [
             [
              0,
              "#0d0887"
             ],
             [
              0.1111111111111111,
              "#46039f"
             ],
             [
              0.2222222222222222,
              "#7201a8"
             ],
             [
              0.3333333333333333,
              "#9c179e"
             ],
             [
              0.4444444444444444,
              "#bd3786"
             ],
             [
              0.5555555555555556,
              "#d8576b"
             ],
             [
              0.6666666666666666,
              "#ed7953"
             ],
             [
              0.7777777777777778,
              "#fb9f3a"
             ],
             [
              0.8888888888888888,
              "#fdca26"
             ],
             [
              1,
              "#f0f921"
             ]
            ],
            "type": "contour"
           }
          ],
          "contourcarpet": [
           {
            "colorbar": {
             "outlinewidth": 0,
             "ticks": ""
            },
            "type": "contourcarpet"
           }
          ],
          "heatmap": [
           {
            "colorbar": {
             "outlinewidth": 0,
             "ticks": ""
            },
            "colorscale": [
             [
              0,
              "#0d0887"
             ],
             [
              0.1111111111111111,
              "#46039f"
             ],
             [
              0.2222222222222222,
              "#7201a8"
             ],
             [
              0.3333333333333333,
              "#9c179e"
             ],
             [
              0.4444444444444444,
              "#bd3786"
             ],
             [
              0.5555555555555556,
              "#d8576b"
             ],
             [
              0.6666666666666666,
              "#ed7953"
             ],
             [
              0.7777777777777778,
              "#fb9f3a"
             ],
             [
              0.8888888888888888,
              "#fdca26"
             ],
             [
              1,
              "#f0f921"
             ]
            ],
            "type": "heatmap"
           }
          ],
          "heatmapgl": [
           {
            "colorbar": {
             "outlinewidth": 0,
             "ticks": ""
            },
            "colorscale": [
             [
              0,
              "#0d0887"
             ],
             [
              0.1111111111111111,
              "#46039f"
             ],
             [
              0.2222222222222222,
              "#7201a8"
             ],
             [
              0.3333333333333333,
              "#9c179e"
             ],
             [
              0.4444444444444444,
              "#bd3786"
             ],
             [
              0.5555555555555556,
              "#d8576b"
             ],
             [
              0.6666666666666666,
              "#ed7953"
             ],
             [
              0.7777777777777778,
              "#fb9f3a"
             ],
             [
              0.8888888888888888,
              "#fdca26"
             ],
             [
              1,
              "#f0f921"
             ]
            ],
            "type": "heatmapgl"
           }
          ],
          "histogram": [
           {
            "marker": {
             "pattern": {
              "fillmode": "overlay",
              "size": 10,
              "solidity": 0.2
             }
            },
            "type": "histogram"
           }
          ],
          "histogram2d": [
           {
            "colorbar": {
             "outlinewidth": 0,
             "ticks": ""
            },
            "colorscale": [
             [
              0,
              "#0d0887"
             ],
             [
              0.1111111111111111,
              "#46039f"
             ],
             [
              0.2222222222222222,
              "#7201a8"
             ],
             [
              0.3333333333333333,
              "#9c179e"
             ],
             [
              0.4444444444444444,
              "#bd3786"
             ],
             [
              0.5555555555555556,
              "#d8576b"
             ],
             [
              0.6666666666666666,
              "#ed7953"
             ],
             [
              0.7777777777777778,
              "#fb9f3a"
             ],
             [
              0.8888888888888888,
              "#fdca26"
             ],
             [
              1,
              "#f0f921"
             ]
            ],
            "type": "histogram2d"
           }
          ],
          "histogram2dcontour": [
           {
            "colorbar": {
             "outlinewidth": 0,
             "ticks": ""
            },
            "colorscale": [
             [
              0,
              "#0d0887"
             ],
             [
              0.1111111111111111,
              "#46039f"
             ],
             [
              0.2222222222222222,
              "#7201a8"
             ],
             [
              0.3333333333333333,
              "#9c179e"
             ],
             [
              0.4444444444444444,
              "#bd3786"
             ],
             [
              0.5555555555555556,
              "#d8576b"
             ],
             [
              0.6666666666666666,
              "#ed7953"
             ],
             [
              0.7777777777777778,
              "#fb9f3a"
             ],
             [
              0.8888888888888888,
              "#fdca26"
             ],
             [
              1,
              "#f0f921"
             ]
            ],
            "type": "histogram2dcontour"
           }
          ],
          "mesh3d": [
           {
            "colorbar": {
             "outlinewidth": 0,
             "ticks": ""
            },
            "type": "mesh3d"
           }
          ],
          "parcoords": [
           {
            "line": {
             "colorbar": {
              "outlinewidth": 0,
              "ticks": ""
             }
            },
            "type": "parcoords"
           }
          ],
          "pie": [
           {
            "automargin": true,
            "type": "pie"
           }
          ],
          "scatter": [
           {
            "fillpattern": {
             "fillmode": "overlay",
             "size": 10,
             "solidity": 0.2
            },
            "type": "scatter"
           }
          ],
          "scatter3d": [
           {
            "line": {
             "colorbar": {
              "outlinewidth": 0,
              "ticks": ""
             }
            },
            "marker": {
             "colorbar": {
              "outlinewidth": 0,
              "ticks": ""
             }
            },
            "type": "scatter3d"
           }
          ],
          "scattercarpet": [
           {
            "marker": {
             "colorbar": {
              "outlinewidth": 0,
              "ticks": ""
             }
            },
            "type": "scattercarpet"
           }
          ],
          "scattergeo": [
           {
            "marker": {
             "colorbar": {
              "outlinewidth": 0,
              "ticks": ""
             }
            },
            "type": "scattergeo"
           }
          ],
          "scattergl": [
           {
            "marker": {
             "colorbar": {
              "outlinewidth": 0,
              "ticks": ""
             }
            },
            "type": "scattergl"
           }
          ],
          "scattermapbox": [
           {
            "marker": {
             "colorbar": {
              "outlinewidth": 0,
              "ticks": ""
             }
            },
            "type": "scattermapbox"
           }
          ],
          "scatterpolar": [
           {
            "marker": {
             "colorbar": {
              "outlinewidth": 0,
              "ticks": ""
             }
            },
            "type": "scatterpolar"
           }
          ],
          "scatterpolargl": [
           {
            "marker": {
             "colorbar": {
              "outlinewidth": 0,
              "ticks": ""
             }
            },
            "type": "scatterpolargl"
           }
          ],
          "scatterternary": [
           {
            "marker": {
             "colorbar": {
              "outlinewidth": 0,
              "ticks": ""
             }
            },
            "type": "scatterternary"
           }
          ],
          "surface": [
           {
            "colorbar": {
             "outlinewidth": 0,
             "ticks": ""
            },
            "colorscale": [
             [
              0,
              "#0d0887"
             ],
             [
              0.1111111111111111,
              "#46039f"
             ],
             [
              0.2222222222222222,
              "#7201a8"
             ],
             [
              0.3333333333333333,
              "#9c179e"
             ],
             [
              0.4444444444444444,
              "#bd3786"
             ],
             [
              0.5555555555555556,
              "#d8576b"
             ],
             [
              0.6666666666666666,
              "#ed7953"
             ],
             [
              0.7777777777777778,
              "#fb9f3a"
             ],
             [
              0.8888888888888888,
              "#fdca26"
             ],
             [
              1,
              "#f0f921"
             ]
            ],
            "type": "surface"
           }
          ],
          "table": [
           {
            "cells": {
             "fill": {
              "color": "#EBF0F8"
             },
             "line": {
              "color": "white"
             }
            },
            "header": {
             "fill": {
              "color": "#C8D4E3"
             },
             "line": {
              "color": "white"
             }
            },
            "type": "table"
           }
          ]
         },
         "layout": {
          "annotationdefaults": {
           "arrowcolor": "#2a3f5f",
           "arrowhead": 0,
           "arrowwidth": 1
          },
          "autotypenumbers": "strict",
          "coloraxis": {
           "colorbar": {
            "outlinewidth": 0,
            "ticks": ""
           }
          },
          "colorscale": {
           "diverging": [
            [
             0,
             "#8e0152"
            ],
            [
             0.1,
             "#c51b7d"
            ],
            [
             0.2,
             "#de77ae"
            ],
            [
             0.3,
             "#f1b6da"
            ],
            [
             0.4,
             "#fde0ef"
            ],
            [
             0.5,
             "#f7f7f7"
            ],
            [
             0.6,
             "#e6f5d0"
            ],
            [
             0.7,
             "#b8e186"
            ],
            [
             0.8,
             "#7fbc41"
            ],
            [
             0.9,
             "#4d9221"
            ],
            [
             1,
             "#276419"
            ]
           ],
           "sequential": [
            [
             0,
             "#0d0887"
            ],
            [
             0.1111111111111111,
             "#46039f"
            ],
            [
             0.2222222222222222,
             "#7201a8"
            ],
            [
             0.3333333333333333,
             "#9c179e"
            ],
            [
             0.4444444444444444,
             "#bd3786"
            ],
            [
             0.5555555555555556,
             "#d8576b"
            ],
            [
             0.6666666666666666,
             "#ed7953"
            ],
            [
             0.7777777777777778,
             "#fb9f3a"
            ],
            [
             0.8888888888888888,
             "#fdca26"
            ],
            [
             1,
             "#f0f921"
            ]
           ],
           "sequentialminus": [
            [
             0,
             "#0d0887"
            ],
            [
             0.1111111111111111,
             "#46039f"
            ],
            [
             0.2222222222222222,
             "#7201a8"
            ],
            [
             0.3333333333333333,
             "#9c179e"
            ],
            [
             0.4444444444444444,
             "#bd3786"
            ],
            [
             0.5555555555555556,
             "#d8576b"
            ],
            [
             0.6666666666666666,
             "#ed7953"
            ],
            [
             0.7777777777777778,
             "#fb9f3a"
            ],
            [
             0.8888888888888888,
             "#fdca26"
            ],
            [
             1,
             "#f0f921"
            ]
           ]
          },
          "colorway": [
           "#636efa",
           "#EF553B",
           "#00cc96",
           "#ab63fa",
           "#FFA15A",
           "#19d3f3",
           "#FF6692",
           "#B6E880",
           "#FF97FF",
           "#FECB52"
          ],
          "font": {
           "color": "#2a3f5f"
          },
          "geo": {
           "bgcolor": "white",
           "lakecolor": "white",
           "landcolor": "#E5ECF6",
           "showlakes": true,
           "showland": true,
           "subunitcolor": "white"
          },
          "hoverlabel": {
           "align": "left"
          },
          "hovermode": "closest",
          "mapbox": {
           "style": "light"
          },
          "paper_bgcolor": "white",
          "plot_bgcolor": "#E5ECF6",
          "polar": {
           "angularaxis": {
            "gridcolor": "white",
            "linecolor": "white",
            "ticks": ""
           },
           "bgcolor": "#E5ECF6",
           "radialaxis": {
            "gridcolor": "white",
            "linecolor": "white",
            "ticks": ""
           }
          },
          "scene": {
           "xaxis": {
            "backgroundcolor": "#E5ECF6",
            "gridcolor": "white",
            "gridwidth": 2,
            "linecolor": "white",
            "showbackground": true,
            "ticks": "",
            "zerolinecolor": "white"
           },
           "yaxis": {
            "backgroundcolor": "#E5ECF6",
            "gridcolor": "white",
            "gridwidth": 2,
            "linecolor": "white",
            "showbackground": true,
            "ticks": "",
            "zerolinecolor": "white"
           },
           "zaxis": {
            "backgroundcolor": "#E5ECF6",
            "gridcolor": "white",
            "gridwidth": 2,
            "linecolor": "white",
            "showbackground": true,
            "ticks": "",
            "zerolinecolor": "white"
           }
          },
          "shapedefaults": {
           "line": {
            "color": "#2a3f5f"
           }
          },
          "ternary": {
           "aaxis": {
            "gridcolor": "white",
            "linecolor": "white",
            "ticks": ""
           },
           "baxis": {
            "gridcolor": "white",
            "linecolor": "white",
            "ticks": ""
           },
           "bgcolor": "#E5ECF6",
           "caxis": {
            "gridcolor": "white",
            "linecolor": "white",
            "ticks": ""
           }
          },
          "title": {
           "x": 0.05
          },
          "xaxis": {
           "automargin": true,
           "gridcolor": "white",
           "linecolor": "white",
           "ticks": "",
           "title": {
            "standoff": 15
           },
           "zerolinecolor": "white",
           "zerolinewidth": 2
          },
          "yaxis": {
           "automargin": true,
           "gridcolor": "white",
           "linecolor": "white",
           "ticks": "",
           "title": {
            "standoff": 15
           },
           "zerolinecolor": "white",
           "zerolinewidth": 2
          }
         }
        },
        "xaxis": {
         "anchor": "y",
         "domain": [
          0,
          1
         ],
         "title": {
          "text": "x"
         }
        },
        "yaxis": {
         "anchor": "x",
         "domain": [
          0,
          1
         ],
         "title": {
          "text": "y"
         }
        }
       }
      }
     },
     "metadata": {},
     "output_type": "display_data"
    }
   ],
   "source": [
    "fig = px.bar(x=[\"a\", \"b\", \"c\"], y=[1, 3, 2])\n",
    "fig.show()\n",
    "fig.write_image(\"../images/fig1.png\")\n"
   ]
  },
  {
   "cell_type": "code",
   "execution_count": 12,
   "metadata": {},
   "outputs": [
    {
     "data": {
      "application/vnd.plotly.v1+json": {
       "config": {
        "plotlyServerURL": "https://plot.ly"
       },
       "data": [
        {
         "hovertemplate": "ds=%{x}<br>Total Vertical TBS=%{y}<extra></extra>",
         "legendgroup": "",
         "line": {
          "color": "#636efa",
          "dash": "solid"
         },
         "marker": {
          "symbol": "circle"
         },
         "mode": "lines",
         "name": "",
         "orientation": "v",
         "showlegend": false,
         "type": "scatter",
         "x": [
          "2023-03-02T09:00:00",
          "2023-03-02T08:00:00",
          "2023-03-02T07:00:00",
          "2023-03-02T06:00:00",
          "2023-03-02T05:00:00",
          "2023-03-02T04:00:00",
          "2023-03-02T03:00:00",
          "2023-03-02T02:00:00"
         ],
         "xaxis": "x",
         "y": [
          6,
          13,
          12,
          14,
          13,
          15,
          16,
          17
         ],
         "yaxis": "y"
        }
       ],
       "layout": {
        "legend": {
         "tracegroupgap": 0
        },
        "margin": {
         "t": 60
        },
        "template": {
         "data": {
          "bar": [
           {
            "error_x": {
             "color": "#2a3f5f"
            },
            "error_y": {
             "color": "#2a3f5f"
            },
            "marker": {
             "line": {
              "color": "#E5ECF6",
              "width": 0.5
             },
             "pattern": {
              "fillmode": "overlay",
              "size": 10,
              "solidity": 0.2
             }
            },
            "type": "bar"
           }
          ],
          "barpolar": [
           {
            "marker": {
             "line": {
              "color": "#E5ECF6",
              "width": 0.5
             },
             "pattern": {
              "fillmode": "overlay",
              "size": 10,
              "solidity": 0.2
             }
            },
            "type": "barpolar"
           }
          ],
          "carpet": [
           {
            "aaxis": {
             "endlinecolor": "#2a3f5f",
             "gridcolor": "white",
             "linecolor": "white",
             "minorgridcolor": "white",
             "startlinecolor": "#2a3f5f"
            },
            "baxis": {
             "endlinecolor": "#2a3f5f",
             "gridcolor": "white",
             "linecolor": "white",
             "minorgridcolor": "white",
             "startlinecolor": "#2a3f5f"
            },
            "type": "carpet"
           }
          ],
          "choropleth": [
           {
            "colorbar": {
             "outlinewidth": 0,
             "ticks": ""
            },
            "type": "choropleth"
           }
          ],
          "contour": [
           {
            "colorbar": {
             "outlinewidth": 0,
             "ticks": ""
            },
            "colorscale": [
             [
              0,
              "#0d0887"
             ],
             [
              0.1111111111111111,
              "#46039f"
             ],
             [
              0.2222222222222222,
              "#7201a8"
             ],
             [
              0.3333333333333333,
              "#9c179e"
             ],
             [
              0.4444444444444444,
              "#bd3786"
             ],
             [
              0.5555555555555556,
              "#d8576b"
             ],
             [
              0.6666666666666666,
              "#ed7953"
             ],
             [
              0.7777777777777778,
              "#fb9f3a"
             ],
             [
              0.8888888888888888,
              "#fdca26"
             ],
             [
              1,
              "#f0f921"
             ]
            ],
            "type": "contour"
           }
          ],
          "contourcarpet": [
           {
            "colorbar": {
             "outlinewidth": 0,
             "ticks": ""
            },
            "type": "contourcarpet"
           }
          ],
          "heatmap": [
           {
            "colorbar": {
             "outlinewidth": 0,
             "ticks": ""
            },
            "colorscale": [
             [
              0,
              "#0d0887"
             ],
             [
              0.1111111111111111,
              "#46039f"
             ],
             [
              0.2222222222222222,
              "#7201a8"
             ],
             [
              0.3333333333333333,
              "#9c179e"
             ],
             [
              0.4444444444444444,
              "#bd3786"
             ],
             [
              0.5555555555555556,
              "#d8576b"
             ],
             [
              0.6666666666666666,
              "#ed7953"
             ],
             [
              0.7777777777777778,
              "#fb9f3a"
             ],
             [
              0.8888888888888888,
              "#fdca26"
             ],
             [
              1,
              "#f0f921"
             ]
            ],
            "type": "heatmap"
           }
          ],
          "heatmapgl": [
           {
            "colorbar": {
             "outlinewidth": 0,
             "ticks": ""
            },
            "colorscale": [
             [
              0,
              "#0d0887"
             ],
             [
              0.1111111111111111,
              "#46039f"
             ],
             [
              0.2222222222222222,
              "#7201a8"
             ],
             [
              0.3333333333333333,
              "#9c179e"
             ],
             [
              0.4444444444444444,
              "#bd3786"
             ],
             [
              0.5555555555555556,
              "#d8576b"
             ],
             [
              0.6666666666666666,
              "#ed7953"
             ],
             [
              0.7777777777777778,
              "#fb9f3a"
             ],
             [
              0.8888888888888888,
              "#fdca26"
             ],
             [
              1,
              "#f0f921"
             ]
            ],
            "type": "heatmapgl"
           }
          ],
          "histogram": [
           {
            "marker": {
             "pattern": {
              "fillmode": "overlay",
              "size": 10,
              "solidity": 0.2
             }
            },
            "type": "histogram"
           }
          ],
          "histogram2d": [
           {
            "colorbar": {
             "outlinewidth": 0,
             "ticks": ""
            },
            "colorscale": [
             [
              0,
              "#0d0887"
             ],
             [
              0.1111111111111111,
              "#46039f"
             ],
             [
              0.2222222222222222,
              "#7201a8"
             ],
             [
              0.3333333333333333,
              "#9c179e"
             ],
             [
              0.4444444444444444,
              "#bd3786"
             ],
             [
              0.5555555555555556,
              "#d8576b"
             ],
             [
              0.6666666666666666,
              "#ed7953"
             ],
             [
              0.7777777777777778,
              "#fb9f3a"
             ],
             [
              0.8888888888888888,
              "#fdca26"
             ],
             [
              1,
              "#f0f921"
             ]
            ],
            "type": "histogram2d"
           }
          ],
          "histogram2dcontour": [
           {
            "colorbar": {
             "outlinewidth": 0,
             "ticks": ""
            },
            "colorscale": [
             [
              0,
              "#0d0887"
             ],
             [
              0.1111111111111111,
              "#46039f"
             ],
             [
              0.2222222222222222,
              "#7201a8"
             ],
             [
              0.3333333333333333,
              "#9c179e"
             ],
             [
              0.4444444444444444,
              "#bd3786"
             ],
             [
              0.5555555555555556,
              "#d8576b"
             ],
             [
              0.6666666666666666,
              "#ed7953"
             ],
             [
              0.7777777777777778,
              "#fb9f3a"
             ],
             [
              0.8888888888888888,
              "#fdca26"
             ],
             [
              1,
              "#f0f921"
             ]
            ],
            "type": "histogram2dcontour"
           }
          ],
          "mesh3d": [
           {
            "colorbar": {
             "outlinewidth": 0,
             "ticks": ""
            },
            "type": "mesh3d"
           }
          ],
          "parcoords": [
           {
            "line": {
             "colorbar": {
              "outlinewidth": 0,
              "ticks": ""
             }
            },
            "type": "parcoords"
           }
          ],
          "pie": [
           {
            "automargin": true,
            "type": "pie"
           }
          ],
          "scatter": [
           {
            "fillpattern": {
             "fillmode": "overlay",
             "size": 10,
             "solidity": 0.2
            },
            "type": "scatter"
           }
          ],
          "scatter3d": [
           {
            "line": {
             "colorbar": {
              "outlinewidth": 0,
              "ticks": ""
             }
            },
            "marker": {
             "colorbar": {
              "outlinewidth": 0,
              "ticks": ""
             }
            },
            "type": "scatter3d"
           }
          ],
          "scattercarpet": [
           {
            "marker": {
             "colorbar": {
              "outlinewidth": 0,
              "ticks": ""
             }
            },
            "type": "scattercarpet"
           }
          ],
          "scattergeo": [
           {
            "marker": {
             "colorbar": {
              "outlinewidth": 0,
              "ticks": ""
             }
            },
            "type": "scattergeo"
           }
          ],
          "scattergl": [
           {
            "marker": {
             "colorbar": {
              "outlinewidth": 0,
              "ticks": ""
             }
            },
            "type": "scattergl"
           }
          ],
          "scattermapbox": [
           {
            "marker": {
             "colorbar": {
              "outlinewidth": 0,
              "ticks": ""
             }
            },
            "type": "scattermapbox"
           }
          ],
          "scatterpolar": [
           {
            "marker": {
             "colorbar": {
              "outlinewidth": 0,
              "ticks": ""
             }
            },
            "type": "scatterpolar"
           }
          ],
          "scatterpolargl": [
           {
            "marker": {
             "colorbar": {
              "outlinewidth": 0,
              "ticks": ""
             }
            },
            "type": "scatterpolargl"
           }
          ],
          "scatterternary": [
           {
            "marker": {
             "colorbar": {
              "outlinewidth": 0,
              "ticks": ""
             }
            },
            "type": "scatterternary"
           }
          ],
          "surface": [
           {
            "colorbar": {
             "outlinewidth": 0,
             "ticks": ""
            },
            "colorscale": [
             [
              0,
              "#0d0887"
             ],
             [
              0.1111111111111111,
              "#46039f"
             ],
             [
              0.2222222222222222,
              "#7201a8"
             ],
             [
              0.3333333333333333,
              "#9c179e"
             ],
             [
              0.4444444444444444,
              "#bd3786"
             ],
             [
              0.5555555555555556,
              "#d8576b"
             ],
             [
              0.6666666666666666,
              "#ed7953"
             ],
             [
              0.7777777777777778,
              "#fb9f3a"
             ],
             [
              0.8888888888888888,
              "#fdca26"
             ],
             [
              1,
              "#f0f921"
             ]
            ],
            "type": "surface"
           }
          ],
          "table": [
           {
            "cells": {
             "fill": {
              "color": "#EBF0F8"
             },
             "line": {
              "color": "white"
             }
            },
            "header": {
             "fill": {
              "color": "#C8D4E3"
             },
             "line": {
              "color": "white"
             }
            },
            "type": "table"
           }
          ]
         },
         "layout": {
          "annotationdefaults": {
           "arrowcolor": "#2a3f5f",
           "arrowhead": 0,
           "arrowwidth": 1
          },
          "autotypenumbers": "strict",
          "coloraxis": {
           "colorbar": {
            "outlinewidth": 0,
            "ticks": ""
           }
          },
          "colorscale": {
           "diverging": [
            [
             0,
             "#8e0152"
            ],
            [
             0.1,
             "#c51b7d"
            ],
            [
             0.2,
             "#de77ae"
            ],
            [
             0.3,
             "#f1b6da"
            ],
            [
             0.4,
             "#fde0ef"
            ],
            [
             0.5,
             "#f7f7f7"
            ],
            [
             0.6,
             "#e6f5d0"
            ],
            [
             0.7,
             "#b8e186"
            ],
            [
             0.8,
             "#7fbc41"
            ],
            [
             0.9,
             "#4d9221"
            ],
            [
             1,
             "#276419"
            ]
           ],
           "sequential": [
            [
             0,
             "#0d0887"
            ],
            [
             0.1111111111111111,
             "#46039f"
            ],
            [
             0.2222222222222222,
             "#7201a8"
            ],
            [
             0.3333333333333333,
             "#9c179e"
            ],
            [
             0.4444444444444444,
             "#bd3786"
            ],
            [
             0.5555555555555556,
             "#d8576b"
            ],
            [
             0.6666666666666666,
             "#ed7953"
            ],
            [
             0.7777777777777778,
             "#fb9f3a"
            ],
            [
             0.8888888888888888,
             "#fdca26"
            ],
            [
             1,
             "#f0f921"
            ]
           ],
           "sequentialminus": [
            [
             0,
             "#0d0887"
            ],
            [
             0.1111111111111111,
             "#46039f"
            ],
            [
             0.2222222222222222,
             "#7201a8"
            ],
            [
             0.3333333333333333,
             "#9c179e"
            ],
            [
             0.4444444444444444,
             "#bd3786"
            ],
            [
             0.5555555555555556,
             "#d8576b"
            ],
            [
             0.6666666666666666,
             "#ed7953"
            ],
            [
             0.7777777777777778,
             "#fb9f3a"
            ],
            [
             0.8888888888888888,
             "#fdca26"
            ],
            [
             1,
             "#f0f921"
            ]
           ]
          },
          "colorway": [
           "#636efa",
           "#EF553B",
           "#00cc96",
           "#ab63fa",
           "#FFA15A",
           "#19d3f3",
           "#FF6692",
           "#B6E880",
           "#FF97FF",
           "#FECB52"
          ],
          "font": {
           "color": "#2a3f5f"
          },
          "geo": {
           "bgcolor": "white",
           "lakecolor": "white",
           "landcolor": "#E5ECF6",
           "showlakes": true,
           "showland": true,
           "subunitcolor": "white"
          },
          "hoverlabel": {
           "align": "left"
          },
          "hovermode": "closest",
          "mapbox": {
           "style": "light"
          },
          "paper_bgcolor": "white",
          "plot_bgcolor": "#E5ECF6",
          "polar": {
           "angularaxis": {
            "gridcolor": "white",
            "linecolor": "white",
            "ticks": ""
           },
           "bgcolor": "#E5ECF6",
           "radialaxis": {
            "gridcolor": "white",
            "linecolor": "white",
            "ticks": ""
           }
          },
          "scene": {
           "xaxis": {
            "backgroundcolor": "#E5ECF6",
            "gridcolor": "white",
            "gridwidth": 2,
            "linecolor": "white",
            "showbackground": true,
            "ticks": "",
            "zerolinecolor": "white"
           },
           "yaxis": {
            "backgroundcolor": "#E5ECF6",
            "gridcolor": "white",
            "gridwidth": 2,
            "linecolor": "white",
            "showbackground": true,
            "ticks": "",
            "zerolinecolor": "white"
           },
           "zaxis": {
            "backgroundcolor": "#E5ECF6",
            "gridcolor": "white",
            "gridwidth": 2,
            "linecolor": "white",
            "showbackground": true,
            "ticks": "",
            "zerolinecolor": "white"
           }
          },
          "shapedefaults": {
           "line": {
            "color": "#2a3f5f"
           }
          },
          "ternary": {
           "aaxis": {
            "gridcolor": "white",
            "linecolor": "white",
            "ticks": ""
           },
           "baxis": {
            "gridcolor": "white",
            "linecolor": "white",
            "ticks": ""
           },
           "bgcolor": "#E5ECF6",
           "caxis": {
            "gridcolor": "white",
            "linecolor": "white",
            "ticks": ""
           }
          },
          "title": {
           "x": 0.05
          },
          "xaxis": {
           "automargin": true,
           "gridcolor": "white",
           "linecolor": "white",
           "ticks": "",
           "title": {
            "standoff": 15
           },
           "zerolinecolor": "white",
           "zerolinewidth": 2
          },
          "yaxis": {
           "automargin": true,
           "gridcolor": "white",
           "linecolor": "white",
           "ticks": "",
           "title": {
            "standoff": 15
           },
           "zerolinecolor": "white",
           "zerolinewidth": 2
          }
         }
        },
        "xaxis": {
         "anchor": "y",
         "domain": [
          0,
          1
         ],
         "title": {
          "text": "ds"
         }
        },
        "yaxis": {
         "anchor": "x",
         "domain": [
          0,
          1
         ],
         "range": [
          0,
          22
         ],
         "title": {
          "text": "Total Vertical TBS"
         }
        }
       }
      }
     },
     "metadata": {},
     "output_type": "display_data"
    }
   ],
   "source": [
    "# data_canada = px.data.gapminder().query(\"country == 'Canada'\")\n",
    "fig = px.line(df.head(8), x='ds', y=metric)\n",
    "fig.update_yaxes(range=[0, df.head(8)['Total Vertical TBS'].max()+5])\n",
    "fig.show()\n",
    "fig.write_image(\"../images/fig1.png\")\n"
   ]
  },
  {
   "cell_type": "code",
   "execution_count": 24,
   "metadata": {},
   "outputs": [
    {
     "data": {
      "application/vnd.plotly.v1+json": {
       "config": {
        "plotlyServerURL": "https://plot.ly"
       },
       "data": [
        {
         "fill": "tozeroy",
         "fillcolor": "lightgreen",
         "line": {
          "color": "blue",
          "dash": "dot",
          "width": 1
         },
         "mode": "lines",
         "name": "Total Vertical TBS (expected)",
         "showlegend": false,
         "type": "scatter",
         "x": [
          "2023-02-23T02:00:00",
          "2023-02-23T03:00:00",
          "2023-02-23T04:00:00",
          "2023-02-23T05:00:00",
          "2023-02-23T06:00:00",
          "2023-02-23T07:00:00",
          "2023-02-23T11:00:00",
          "2023-02-23T13:00:00",
          "2023-02-23T14:00:00",
          "2023-02-23T15:00:00",
          "2023-02-23T16:00:00",
          "2023-02-23T17:00:00",
          "2023-02-23T18:00:00",
          "2023-02-23T19:00:00",
          "2023-02-23T20:00:00",
          "2023-02-23T21:00:00",
          "2023-02-23T22:00:00",
          "2023-02-23T23:00:00",
          "2023-02-24T00:00:00",
          "2023-02-24T01:00:00",
          "2023-02-24T02:00:00",
          "2023-02-24T03:00:00",
          "2023-02-24T04:00:00",
          "2023-02-24T05:00:00",
          "2023-02-24T06:00:00",
          "2023-02-24T07:00:00",
          "2023-02-24T08:00:00",
          "2023-02-24T09:00:00",
          "2023-02-24T10:00:00",
          "2023-02-24T11:00:00",
          "2023-02-24T12:00:00",
          "2023-02-24T13:00:00",
          "2023-02-24T14:00:00",
          "2023-02-24T15:00:00",
          "2023-02-24T16:00:00",
          "2023-02-24T17:00:00",
          "2023-02-24T18:00:00",
          "2023-02-24T19:00:00",
          "2023-02-24T20:00:00",
          "2023-02-24T21:00:00",
          "2023-02-24T22:00:00",
          "2023-02-24T23:00:00",
          "2023-02-25T00:00:00",
          "2023-02-25T01:00:00",
          "2023-02-25T02:00:00",
          "2023-02-25T03:00:00",
          "2023-02-25T04:00:00",
          "2023-02-25T05:00:00",
          "2023-02-25T06:00:00",
          "2023-02-25T07:00:00",
          "2023-02-25T08:00:00",
          "2023-02-25T09:00:00",
          "2023-02-25T10:00:00",
          "2023-02-25T11:00:00",
          "2023-02-25T12:00:00",
          "2023-02-25T13:00:00",
          "2023-02-25T14:00:00",
          "2023-02-25T15:00:00",
          "2023-02-25T16:00:00",
          "2023-02-25T17:00:00",
          "2023-02-25T18:00:00",
          "2023-02-25T19:00:00",
          "2023-02-25T20:00:00",
          "2023-02-25T21:00:00",
          "2023-02-25T22:00:00",
          "2023-02-25T23:00:00",
          "2023-02-26T00:00:00",
          "2023-02-26T01:00:00",
          "2023-02-26T02:00:00",
          "2023-02-26T03:00:00",
          "2023-02-26T04:00:00",
          "2023-02-26T05:00:00",
          "2023-02-26T06:00:00",
          "2023-02-26T07:00:00",
          "2023-02-26T08:00:00",
          "2023-02-26T09:00:00",
          "2023-02-26T10:00:00",
          "2023-02-26T11:00:00",
          "2023-02-26T12:00:00",
          "2023-02-26T13:00:00",
          "2023-02-26T14:00:00",
          "2023-02-26T15:00:00",
          "2023-02-26T16:00:00",
          "2023-02-26T17:00:00",
          "2023-02-26T18:00:00",
          "2023-02-26T19:00:00",
          "2023-02-26T20:00:00",
          "2023-02-26T21:00:00",
          "2023-02-26T22:00:00",
          "2023-02-26T23:00:00",
          "2023-02-27T00:00:00",
          "2023-02-27T01:00:00",
          "2023-02-27T02:00:00",
          "2023-02-27T03:00:00",
          "2023-02-27T04:00:00",
          "2023-02-27T05:00:00",
          "2023-02-27T06:00:00",
          "2023-02-27T07:00:00",
          "2023-02-27T08:00:00",
          "2023-02-27T09:00:00",
          "2023-02-27T10:00:00",
          "2023-02-27T11:00:00",
          "2023-02-27T12:00:00",
          "2023-02-27T13:00:00",
          "2023-02-27T14:00:00",
          "2023-02-27T15:00:00",
          "2023-02-27T16:00:00",
          "2023-02-27T17:00:00",
          "2023-02-27T18:00:00",
          "2023-02-27T21:00:00",
          "2023-02-27T22:00:00",
          "2023-02-27T23:00:00",
          "2023-02-28T00:00:00",
          "2023-02-28T01:00:00",
          "2023-02-28T02:00:00",
          "2023-02-28T03:00:00",
          "2023-02-28T04:00:00",
          "2023-02-28T05:00:00",
          "2023-02-28T06:00:00",
          "2023-02-28T07:00:00",
          "2023-02-28T08:00:00",
          "2023-02-28T09:00:00",
          "2023-02-28T10:00:00",
          "2023-02-28T13:00:00",
          "2023-02-28T14:00:00",
          "2023-02-28T15:00:00",
          "2023-02-28T16:00:00",
          "2023-02-28T17:00:00",
          "2023-02-28T18:00:00",
          "2023-02-28T19:00:00",
          "2023-02-28T20:00:00",
          "2023-02-28T21:00:00",
          "2023-02-28T22:00:00",
          "2023-02-28T23:00:00",
          "2023-03-01T00:00:00",
          "2023-03-01T01:00:00",
          "2023-03-01T02:00:00",
          "2023-03-01T03:00:00",
          "2023-03-01T04:00:00",
          "2023-03-01T05:00:00",
          "2023-03-01T06:00:00",
          "2023-03-01T07:00:00",
          "2023-03-01T08:00:00",
          "2023-03-01T09:00:00",
          "2023-03-01T10:00:00",
          "2023-03-01T11:00:00",
          "2023-03-01T12:00:00",
          "2023-03-01T13:00:00",
          "2023-03-01T14:00:00",
          "2023-03-01T15:00:00",
          "2023-03-01T16:00:00",
          "2023-03-01T17:00:00",
          "2023-03-01T18:00:00",
          "2023-03-01T19:00:00",
          "2023-03-01T20:00:00",
          "2023-03-01T21:00:00",
          "2023-03-01T22:00:00",
          "2023-03-01T23:00:00",
          "2023-03-02T00:00:00",
          "2023-03-02T01:00:00",
          "2023-03-02T02:00:00",
          "2023-03-02T03:00:00",
          "2023-03-02T04:00:00",
          "2023-03-02T05:00:00",
          "2023-03-02T06:00:00",
          "2023-03-02T07:00:00",
          "2023-03-02T08:00:00",
          "2023-03-02T09:00:00",
          "2023-03-02T10:00:00",
          "2023-03-02T11:00:00",
          "2023-03-02T12:00:00",
          "2023-03-02T13:00:00",
          "2023-03-02T14:00:00",
          "2023-03-02T15:00:00",
          "2023-03-02T16:00:00",
          "2023-03-02T17:00:00",
          "2023-03-02T18:00:00",
          "2023-03-02T19:00:00",
          "2023-03-02T20:00:00",
          "2023-03-02T21:00:00",
          "2023-03-02T22:00:00",
          "2023-03-02T23:00:00",
          "2023-03-03T00:00:00",
          "2023-03-03T01:00:00",
          "2023-03-03T02:00:00",
          "2023-03-03T03:00:00",
          "2023-03-03T04:00:00",
          "2023-03-03T05:00:00",
          "2023-03-03T06:00:00",
          "2023-03-03T07:00:00",
          "2023-03-03T08:00:00",
          "2023-03-03T09:00:00",
          "2023-03-03T10:00:00",
          "2023-03-03T11:00:00",
          "2023-03-03T12:00:00",
          "2023-03-03T13:00:00",
          "2023-03-03T14:00:00",
          "2023-03-03T15:00:00",
          "2023-03-03T16:00:00",
          "2023-03-03T17:00:00",
          "2023-03-03T18:00:00",
          "2023-03-03T19:00:00",
          "2023-03-03T20:00:00",
          "2023-03-03T21:00:00",
          "2023-03-03T22:00:00",
          "2023-03-03T23:00:00",
          "2023-03-04T00:00:00",
          "2023-03-04T01:00:00",
          "2023-03-04T02:00:00",
          "2023-03-04T03:00:00",
          "2023-03-04T04:00:00",
          "2023-03-04T05:00:00",
          "2023-03-04T06:00:00",
          "2023-03-04T07:00:00",
          "2023-03-04T08:00:00",
          "2023-03-04T09:00:00",
          "2023-03-04T10:00:00",
          "2023-03-04T11:00:00",
          "2023-03-04T12:00:00",
          "2023-03-04T13:00:00",
          "2023-03-04T14:00:00",
          "2023-03-04T15:00:00",
          "2023-03-04T16:00:00",
          "2023-03-04T17:00:00",
          "2023-03-04T18:00:00",
          "2023-03-04T19:00:00",
          "2023-03-04T20:00:00",
          "2023-03-04T21:00:00",
          "2023-03-04T22:00:00",
          "2023-03-04T23:00:00",
          "2023-03-05T00:00:00",
          "2023-03-05T01:00:00",
          "2023-03-05T02:00:00",
          "2023-03-05T03:00:00",
          "2023-03-05T04:00:00",
          "2023-03-05T05:00:00",
          "2023-03-05T06:00:00",
          "2023-03-05T07:00:00",
          "2023-03-05T08:00:00",
          "2023-03-05T09:00:00",
          "2023-03-05T10:00:00",
          "2023-03-05T11:00:00",
          "2023-03-05T12:00:00",
          "2023-03-05T13:00:00",
          "2023-03-05T14:00:00",
          "2023-03-05T15:00:00",
          "2023-03-05T16:00:00",
          "2023-03-05T17:00:00",
          "2023-03-05T18:00:00",
          "2023-03-05T19:00:00",
          "2023-03-05T20:00:00",
          "2023-03-05T21:00:00",
          "2023-03-05T22:00:00",
          "2023-03-05T23:00:00",
          "2023-03-06T00:00:00",
          "2023-03-06T01:00:00",
          "2023-03-06T02:00:00",
          "2023-03-06T03:00:00",
          "2023-03-06T04:00:00",
          "2023-03-06T05:00:00",
          "2023-03-06T06:00:00",
          "2023-03-06T07:00:00",
          "2023-03-06T08:00:00",
          "2023-03-06T09:00:00",
          "2023-03-06T10:00:00",
          "2023-03-06T11:00:00",
          "2023-03-06T12:00:00",
          "2023-03-06T13:00:00",
          "2023-03-06T14:00:00",
          "2023-03-06T15:00:00",
          "2023-03-06T16:00:00",
          "2023-03-06T17:00:00",
          "2023-03-06T18:00:00",
          "2023-03-06T19:00:00",
          "2023-03-06T20:00:00",
          "2023-03-06T21:00:00",
          "2023-03-06T22:00:00",
          "2023-03-06T23:00:00",
          "2023-03-07T00:00:00",
          "2023-03-07T01:00:00",
          "2023-03-07T02:00:00",
          "2023-03-07T03:00:00",
          "2023-03-07T04:00:00",
          "2023-03-07T05:00:00",
          "2023-03-07T06:00:00",
          "2023-03-07T07:00:00",
          "2023-03-07T08:00:00",
          "2023-03-07T09:00:00",
          "2023-03-07T10:00:00",
          "2023-03-07T11:00:00",
          "2023-03-07T12:00:00",
          "2023-03-07T13:00:00",
          "2023-03-07T14:00:00",
          "2023-03-07T15:00:00",
          "2023-03-07T16:00:00",
          "2023-03-07T17:00:00",
          "2023-03-07T18:00:00",
          "2023-03-07T19:00:00",
          "2023-03-07T20:00:00",
          "2023-03-07T21:00:00",
          "2023-03-07T22:00:00",
          "2023-03-07T23:00:00",
          "2023-03-08T00:00:00",
          "2023-03-08T01:00:00",
          "2023-03-08T02:00:00",
          "2023-03-08T03:00:00",
          "2023-03-08T04:00:00",
          "2023-03-08T05:00:00",
          "2023-03-08T06:00:00",
          "2023-03-08T07:00:00",
          "2023-03-08T08:00:00",
          "2023-03-08T09:00:00",
          "2023-03-08T10:00:00",
          "2023-03-08T11:00:00",
          "2023-03-08T12:00:00",
          "2023-03-08T13:00:00",
          "2023-03-08T14:00:00",
          "2023-03-08T15:00:00",
          "2023-03-08T16:00:00",
          "2023-03-08T17:00:00",
          "2023-03-08T18:00:00",
          "2023-03-08T19:00:00",
          "2023-03-08T20:00:00",
          "2023-03-08T21:00:00",
          "2023-03-08T22:00:00",
          "2023-03-08T23:00:00",
          "2023-03-09T00:00:00",
          "2023-03-09T01:00:00",
          "2023-03-09T02:00:00",
          "2023-03-09T03:00:00",
          "2023-03-09T04:00:00",
          "2023-03-09T05:00:00",
          "2023-03-09T06:00:00",
          "2023-03-09T07:00:00",
          "2023-03-09T08:00:00",
          "2023-03-09T09:00:00"
         ],
         "y": [
          18.550559420331545,
          17.186915058740905,
          15.39390489009945,
          13.98653402107529,
          13.642795942805808,
          14.393501831588791,
          18.942335643142385,
          22.88897704944524,
          24.868881851972,
          25.82531018439088,
          25.468084723301857,
          24.170936095963697,
          22.604546340768,
          21.22752415380684,
          20.100726929727557,
          19.115871509023258,
          18.304035288962197,
          17.84770772073144,
          17.786870750167868,
          17.784335614847574,
          17.289945775313175,
          16.027587318967313,
          14.349600434962628,
          13.069729135694852,
          12.864506623354014,
          13.763101192106426,
          15.191497302182976,
          16.5287382636698,
          17.651880380738866,
          18.95911401392632,
          20.860395130756405,
          23.23305025277104,
          25.36969855613836,
          26.47526431228912,
          26.25737416670172,
          25.087643196358524,
          23.634746988991417,
          22.35542445251632,
          21.308826003009333,
          20.38514869958601,
          19.61415966028821,
          19.177267481615456,
          19.11361995001912,
          19.08545521881246,
          18.54231602471126,
          17.208068117190933,
          15.435316373071863,
          14.038355688278704,
          13.694554002132858,
          14.434192350564256,
          15.684636626929477,
          16.826567579285843,
          17.738919027240485,
          18.82197992587648,
          20.48800406009624,
          22.61679052485487,
          24.50357902838521,
          25.356033514542474,
          24.884608943137017,
          23.463805523194416,
          21.76520802171743,
          20.24845524576727,
          18.975554744102848,
          17.8394846983171,
          16.87268473846928,
          16.259095798959038,
          16.04022768601782,
          15.88048189637915,
          15.231339608085554,
          13.818356337165664,
          11.99555702538306,
          10.578368911023125,
          10.24498976234874,
          11.026216556159962,
          12.349609424508497,
          13.595717502443348,
          14.643016715660202,
          15.891015152479882,
          17.750869770024035,
          20.10097751494335,
          22.234884776155347,
          23.3582885057376,
          23.17942364085968,
          22.070340885906244,
          20.699972200528897,
          19.525128783534758,
          18.604846267726227,
          17.829018734523217,
          17.22692290648237,
          16.97929224137025,
          17.124419196620938,
          17.323512794679296,
          17.024921003985817,
          15.951159025069929,
          14.453336854051477,
          13.34412309618363,
          13.299142250092109,
          14.346830207591896,
          15.912622484531813,
          17.375201537325623,
          18.61145296102749,
          20.01958600852233,
          22.009762014655355,
          24.45969368232572,
          26.662559067799695,
          27.824003565365395,
          27.652524532068117,
          26.52074266583202,
          25.09845757709894,
          21.909291334227568,
          21.15250900199458,
          20.7292056055963,
          20.67994469664414,
          20.668352738973397,
          20.14531152559243,
          18.835955445223853,
          17.094067354960046,
          15.73501042406297,
          15.437093561433072,
          16.23139556088924,
          17.54592286180454,
          18.76182764599842,
          19.75833641932393,
          24.949892275889,
          26.960724047866456,
          27.94602352289613,
          27.61540367713561,
          26.342347455670527,
          24.797257782992844,
          23.4384400673898,
          22.32643208953068,
          21.35262306005924,
          20.547763370546438,
          20.09402491886144,
          20.03109042558444,
          20.021499008845804,
          19.514857651994216,
          18.23485976139336,
          16.53370427648392,
          15.225052377929732,
          14.985419068670613,
          15.844024410368494,
          17.226978947321953,
          18.513529671938976,
          19.58101630775198,
          20.827993311651493,
          22.664861124124023,
          24.969469552066904,
          27.03503703483082,
          28.06715899099109,
          27.774199774968498,
          26.528572227055733,
          24.999802127648564,
          23.64552234045923,
          22.525811390900387,
          21.531818156509747,
          20.69427412577361,
          20.195553082947644,
          20.075756650630076,
          19.998053015010395,
          19.41287856736896,
          18.04494379583274,
          16.247637064947845,
          14.835963539142512,
          14.487916767509509,
          15.234307984618692,
          16.50292795660128,
          17.67476804695008,
          18.628950614746604,
          19.765824497866564,
          21.497569469173012,
          23.703772914645704,
          25.679322845552004,
          26.631390801662643,
          26.26979951978683,
          24.968279687612124,
          23.397513404222888,
          22.01610942646341,
          20.88492521024731,
          19.89567765713439,
          19.0794442261047,
          18.61871442999329,
          18.55347027668896,
          18.54652306586865,
          18.04771632046336,
          16.780936190535243,
          15.098522928055758,
          13.814220608459316,
          13.604562497158057,
          14.498716951850485,
          15.922668496477826,
          17.25546050493815,
          18.374149345570792,
          19.676925443267493,
          21.573744830020345,
          23.94193409217728,
          26.074112470897774,
          27.175204302725056,
          26.952836298544927,
          25.77862360094529,
          24.32124186347136,
          23.037430059996545,
          21.98633867287439,
          21.05816482762073,
          20.282675708904414,
          19.841279980020296,
          19.773125494569367,
          19.74045047300708,
          19.192797719511493,
          17.854033051231315,
          16.07676141283252,
          14.675277768278857,
          14.326950125118426,
          15.062059587814282,
          16.307972118256522,
          17.445368533416868,
          18.35318272191349,
          19.431703708079656,
          21.093185346143628,
          23.217426800972657,
          25.09966785034101,
          25.947572508135025,
          25.47159580451745,
          24.046238018666497,
          22.34308398835016,
          20.821772591339137,
          19.544311447360982,
          18.40367880907896,
          17.43231437790212,
          16.814159159784083,
          16.59072303257087,
          16.42640756488416,
          15.772694006816504,
          14.355137946662763,
          12.52776439847884,
          11.106000673240572,
          10.768044611920873,
          11.54469326424296,
          12.8635068353488,
          14.105034533596903,
          15.14775235813179,
          16.391168470803798,
          18.24643990261536,
          20.59196367412645,
          22.72128624836992,
          23.840104651649337,
          23.65665389569289,
          22.54298475945795,
          21.16802927717246,
          19.9885987227916,
          19.06372880412742,
          18.283313677859176,
          17.67663014175245,
          17.424411729379916,
          17.56495097371182,
          17.759456973079185,
          17.456277771897916,
          16.377928646878058,
          14.87551967034806,
          13.761719524074532,
          13.712152783211126,
          14.755255416287191,
          16.31646301598616,
          17.77445811576904,
          19.00612638780141,
          20.40967716216293,
          22.395271851183164,
          24.84062323525341,
          27.038909448292365,
          28.19577596233958,
          28.01972021245172,
          26.883362974499303,
          25.4565039371194,
          24.19710639807853,
          23.16562597660152,
          22.25362517013536,
          21.49227536551313,
          21.064406312444657,
          21.010581641299176,
          20.994427894926904,
          20.46682694548755,
          19.152913260754925,
          17.406469777179318,
          16.04285974347498,
          15.740392148021536,
          16.53014586421156,
          17.840127411120765,
          19.051489050376503,
          20.043457367764663,
          21.21642810577263,
          22.982571134349733,
          25.221408790275976,
          27.22771166296087,
          28.208485328315625,
          27.87334284304384,
          26.595767232746955,
          25.04616150244741,
          23.68283114116126,
          22.566314010169965,
          21.587999401006066,
          20.77863778607232,
          20.32040114417041,
          20.252972276860906,
          20.23889038339403,
          19.727762528201136,
          18.44328219884346,
          16.737648416013094,
          15.42452244165822,
          15.180419360109232,
          16.03455931433408,
          17.413052930206298,
          18.69514728154557,
          19.758182173459225,
          21.00071214442756,
          22.83313771656802,
          25.133308778411973,
          27.194443851027398,
          28.22213843471479,
          27.92475696565067,
          26.674712365944693,
          25.141530497828217,
          23.782844306747077,
          22.658732400055968,
          21.66034373720081,
          20.818409888562208,
          20.31530472022304,
          20.19112993677757,
          20.10905380636209,
          19.51951280216769,
          18.147217494287045,
          16.34555632921984,
          14.92953455333618,
          14.577145797693106,
          15.319201378761337,
          16.58349214467944,
          17.75100954080646
         ]
        },
        {
         "fill": "tonexty",
         "fillcolor": "lightyellow",
         "line": {
          "color": "blue",
          "dash": "dot",
          "width": 1
         },
         "mode": "lines",
         "name": "Total Vertical TBS (expected)",
         "showlegend": false,
         "type": "scatter",
         "x": [
          "2023-02-23T02:00:00",
          "2023-02-23T03:00:00",
          "2023-02-23T04:00:00",
          "2023-02-23T05:00:00",
          "2023-02-23T06:00:00",
          "2023-02-23T07:00:00",
          "2023-02-23T11:00:00",
          "2023-02-23T13:00:00",
          "2023-02-23T14:00:00",
          "2023-02-23T15:00:00",
          "2023-02-23T16:00:00",
          "2023-02-23T17:00:00",
          "2023-02-23T18:00:00",
          "2023-02-23T19:00:00",
          "2023-02-23T20:00:00",
          "2023-02-23T21:00:00",
          "2023-02-23T22:00:00",
          "2023-02-23T23:00:00",
          "2023-02-24T00:00:00",
          "2023-02-24T01:00:00",
          "2023-02-24T02:00:00",
          "2023-02-24T03:00:00",
          "2023-02-24T04:00:00",
          "2023-02-24T05:00:00",
          "2023-02-24T06:00:00",
          "2023-02-24T07:00:00",
          "2023-02-24T08:00:00",
          "2023-02-24T09:00:00",
          "2023-02-24T10:00:00",
          "2023-02-24T11:00:00",
          "2023-02-24T12:00:00",
          "2023-02-24T13:00:00",
          "2023-02-24T14:00:00",
          "2023-02-24T15:00:00",
          "2023-02-24T16:00:00",
          "2023-02-24T17:00:00",
          "2023-02-24T18:00:00",
          "2023-02-24T19:00:00",
          "2023-02-24T20:00:00",
          "2023-02-24T21:00:00",
          "2023-02-24T22:00:00",
          "2023-02-24T23:00:00",
          "2023-02-25T00:00:00",
          "2023-02-25T01:00:00",
          "2023-02-25T02:00:00",
          "2023-02-25T03:00:00",
          "2023-02-25T04:00:00",
          "2023-02-25T05:00:00",
          "2023-02-25T06:00:00",
          "2023-02-25T07:00:00",
          "2023-02-25T08:00:00",
          "2023-02-25T09:00:00",
          "2023-02-25T10:00:00",
          "2023-02-25T11:00:00",
          "2023-02-25T12:00:00",
          "2023-02-25T13:00:00",
          "2023-02-25T14:00:00",
          "2023-02-25T15:00:00",
          "2023-02-25T16:00:00",
          "2023-02-25T17:00:00",
          "2023-02-25T18:00:00",
          "2023-02-25T19:00:00",
          "2023-02-25T20:00:00",
          "2023-02-25T21:00:00",
          "2023-02-25T22:00:00",
          "2023-02-25T23:00:00",
          "2023-02-26T00:00:00",
          "2023-02-26T01:00:00",
          "2023-02-26T02:00:00",
          "2023-02-26T03:00:00",
          "2023-02-26T04:00:00",
          "2023-02-26T05:00:00",
          "2023-02-26T06:00:00",
          "2023-02-26T07:00:00",
          "2023-02-26T08:00:00",
          "2023-02-26T09:00:00",
          "2023-02-26T10:00:00",
          "2023-02-26T11:00:00",
          "2023-02-26T12:00:00",
          "2023-02-26T13:00:00",
          "2023-02-26T14:00:00",
          "2023-02-26T15:00:00",
          "2023-02-26T16:00:00",
          "2023-02-26T17:00:00",
          "2023-02-26T18:00:00",
          "2023-02-26T19:00:00",
          "2023-02-26T20:00:00",
          "2023-02-26T21:00:00",
          "2023-02-26T22:00:00",
          "2023-02-26T23:00:00",
          "2023-02-27T00:00:00",
          "2023-02-27T01:00:00",
          "2023-02-27T02:00:00",
          "2023-02-27T03:00:00",
          "2023-02-27T04:00:00",
          "2023-02-27T05:00:00",
          "2023-02-27T06:00:00",
          "2023-02-27T07:00:00",
          "2023-02-27T08:00:00",
          "2023-02-27T09:00:00",
          "2023-02-27T10:00:00",
          "2023-02-27T11:00:00",
          "2023-02-27T12:00:00",
          "2023-02-27T13:00:00",
          "2023-02-27T14:00:00",
          "2023-02-27T15:00:00",
          "2023-02-27T16:00:00",
          "2023-02-27T17:00:00",
          "2023-02-27T18:00:00",
          "2023-02-27T21:00:00",
          "2023-02-27T22:00:00",
          "2023-02-27T23:00:00",
          "2023-02-28T00:00:00",
          "2023-02-28T01:00:00",
          "2023-02-28T02:00:00",
          "2023-02-28T03:00:00",
          "2023-02-28T04:00:00",
          "2023-02-28T05:00:00",
          "2023-02-28T06:00:00",
          "2023-02-28T07:00:00",
          "2023-02-28T08:00:00",
          "2023-02-28T09:00:00",
          "2023-02-28T10:00:00",
          "2023-02-28T13:00:00",
          "2023-02-28T14:00:00",
          "2023-02-28T15:00:00",
          "2023-02-28T16:00:00",
          "2023-02-28T17:00:00",
          "2023-02-28T18:00:00",
          "2023-02-28T19:00:00",
          "2023-02-28T20:00:00",
          "2023-02-28T21:00:00",
          "2023-02-28T22:00:00",
          "2023-02-28T23:00:00",
          "2023-03-01T00:00:00",
          "2023-03-01T01:00:00",
          "2023-03-01T02:00:00",
          "2023-03-01T03:00:00",
          "2023-03-01T04:00:00",
          "2023-03-01T05:00:00",
          "2023-03-01T06:00:00",
          "2023-03-01T07:00:00",
          "2023-03-01T08:00:00",
          "2023-03-01T09:00:00",
          "2023-03-01T10:00:00",
          "2023-03-01T11:00:00",
          "2023-03-01T12:00:00",
          "2023-03-01T13:00:00",
          "2023-03-01T14:00:00",
          "2023-03-01T15:00:00",
          "2023-03-01T16:00:00",
          "2023-03-01T17:00:00",
          "2023-03-01T18:00:00",
          "2023-03-01T19:00:00",
          "2023-03-01T20:00:00",
          "2023-03-01T21:00:00",
          "2023-03-01T22:00:00",
          "2023-03-01T23:00:00",
          "2023-03-02T00:00:00",
          "2023-03-02T01:00:00",
          "2023-03-02T02:00:00",
          "2023-03-02T03:00:00",
          "2023-03-02T04:00:00",
          "2023-03-02T05:00:00",
          "2023-03-02T06:00:00",
          "2023-03-02T07:00:00",
          "2023-03-02T08:00:00",
          "2023-03-02T09:00:00",
          "2023-03-02T10:00:00",
          "2023-03-02T11:00:00",
          "2023-03-02T12:00:00",
          "2023-03-02T13:00:00",
          "2023-03-02T14:00:00",
          "2023-03-02T15:00:00",
          "2023-03-02T16:00:00",
          "2023-03-02T17:00:00",
          "2023-03-02T18:00:00",
          "2023-03-02T19:00:00",
          "2023-03-02T20:00:00",
          "2023-03-02T21:00:00",
          "2023-03-02T22:00:00",
          "2023-03-02T23:00:00",
          "2023-03-03T00:00:00",
          "2023-03-03T01:00:00",
          "2023-03-03T02:00:00",
          "2023-03-03T03:00:00",
          "2023-03-03T04:00:00",
          "2023-03-03T05:00:00",
          "2023-03-03T06:00:00",
          "2023-03-03T07:00:00",
          "2023-03-03T08:00:00",
          "2023-03-03T09:00:00",
          "2023-03-03T10:00:00",
          "2023-03-03T11:00:00",
          "2023-03-03T12:00:00",
          "2023-03-03T13:00:00",
          "2023-03-03T14:00:00",
          "2023-03-03T15:00:00",
          "2023-03-03T16:00:00",
          "2023-03-03T17:00:00",
          "2023-03-03T18:00:00",
          "2023-03-03T19:00:00",
          "2023-03-03T20:00:00",
          "2023-03-03T21:00:00",
          "2023-03-03T22:00:00",
          "2023-03-03T23:00:00",
          "2023-03-04T00:00:00",
          "2023-03-04T01:00:00",
          "2023-03-04T02:00:00",
          "2023-03-04T03:00:00",
          "2023-03-04T04:00:00",
          "2023-03-04T05:00:00",
          "2023-03-04T06:00:00",
          "2023-03-04T07:00:00",
          "2023-03-04T08:00:00",
          "2023-03-04T09:00:00",
          "2023-03-04T10:00:00",
          "2023-03-04T11:00:00",
          "2023-03-04T12:00:00",
          "2023-03-04T13:00:00",
          "2023-03-04T14:00:00",
          "2023-03-04T15:00:00",
          "2023-03-04T16:00:00",
          "2023-03-04T17:00:00",
          "2023-03-04T18:00:00",
          "2023-03-04T19:00:00",
          "2023-03-04T20:00:00",
          "2023-03-04T21:00:00",
          "2023-03-04T22:00:00",
          "2023-03-04T23:00:00",
          "2023-03-05T00:00:00",
          "2023-03-05T01:00:00",
          "2023-03-05T02:00:00",
          "2023-03-05T03:00:00",
          "2023-03-05T04:00:00",
          "2023-03-05T05:00:00",
          "2023-03-05T06:00:00",
          "2023-03-05T07:00:00",
          "2023-03-05T08:00:00",
          "2023-03-05T09:00:00",
          "2023-03-05T10:00:00",
          "2023-03-05T11:00:00",
          "2023-03-05T12:00:00",
          "2023-03-05T13:00:00",
          "2023-03-05T14:00:00",
          "2023-03-05T15:00:00",
          "2023-03-05T16:00:00",
          "2023-03-05T17:00:00",
          "2023-03-05T18:00:00",
          "2023-03-05T19:00:00",
          "2023-03-05T20:00:00",
          "2023-03-05T21:00:00",
          "2023-03-05T22:00:00",
          "2023-03-05T23:00:00",
          "2023-03-06T00:00:00",
          "2023-03-06T01:00:00",
          "2023-03-06T02:00:00",
          "2023-03-06T03:00:00",
          "2023-03-06T04:00:00",
          "2023-03-06T05:00:00",
          "2023-03-06T06:00:00",
          "2023-03-06T07:00:00",
          "2023-03-06T08:00:00",
          "2023-03-06T09:00:00",
          "2023-03-06T10:00:00",
          "2023-03-06T11:00:00",
          "2023-03-06T12:00:00",
          "2023-03-06T13:00:00",
          "2023-03-06T14:00:00",
          "2023-03-06T15:00:00",
          "2023-03-06T16:00:00",
          "2023-03-06T17:00:00",
          "2023-03-06T18:00:00",
          "2023-03-06T19:00:00",
          "2023-03-06T20:00:00",
          "2023-03-06T21:00:00",
          "2023-03-06T22:00:00",
          "2023-03-06T23:00:00",
          "2023-03-07T00:00:00",
          "2023-03-07T01:00:00",
          "2023-03-07T02:00:00",
          "2023-03-07T03:00:00",
          "2023-03-07T04:00:00",
          "2023-03-07T05:00:00",
          "2023-03-07T06:00:00",
          "2023-03-07T07:00:00",
          "2023-03-07T08:00:00",
          "2023-03-07T09:00:00",
          "2023-03-07T10:00:00",
          "2023-03-07T11:00:00",
          "2023-03-07T12:00:00",
          "2023-03-07T13:00:00",
          "2023-03-07T14:00:00",
          "2023-03-07T15:00:00",
          "2023-03-07T16:00:00",
          "2023-03-07T17:00:00",
          "2023-03-07T18:00:00",
          "2023-03-07T19:00:00",
          "2023-03-07T20:00:00",
          "2023-03-07T21:00:00",
          "2023-03-07T22:00:00",
          "2023-03-07T23:00:00",
          "2023-03-08T00:00:00",
          "2023-03-08T01:00:00",
          "2023-03-08T02:00:00",
          "2023-03-08T03:00:00",
          "2023-03-08T04:00:00",
          "2023-03-08T05:00:00",
          "2023-03-08T06:00:00",
          "2023-03-08T07:00:00",
          "2023-03-08T08:00:00",
          "2023-03-08T09:00:00",
          "2023-03-08T10:00:00",
          "2023-03-08T11:00:00",
          "2023-03-08T12:00:00",
          "2023-03-08T13:00:00",
          "2023-03-08T14:00:00",
          "2023-03-08T15:00:00",
          "2023-03-08T16:00:00",
          "2023-03-08T17:00:00",
          "2023-03-08T18:00:00",
          "2023-03-08T19:00:00",
          "2023-03-08T20:00:00",
          "2023-03-08T21:00:00",
          "2023-03-08T22:00:00",
          "2023-03-08T23:00:00",
          "2023-03-09T00:00:00",
          "2023-03-09T01:00:00",
          "2023-03-09T02:00:00",
          "2023-03-09T03:00:00",
          "2023-03-09T04:00:00",
          "2023-03-09T05:00:00",
          "2023-03-09T06:00:00",
          "2023-03-09T07:00:00",
          "2023-03-09T08:00:00",
          "2023-03-09T09:00:00"
         ],
         "y": [
          30.61827901926966,
          29.30657218618501,
          27.11330772868397,
          25.728911459343493,
          25.54780493281797,
          26.524248192907205,
          30.687259529864388,
          34.65347979665542,
          35.957407865093764,
          37.57405849597649,
          37.14323089127796,
          36.47403858242837,
          34.86994989741219,
          32.49665005096006,
          32.28264706719566,
          29.730957762683165,
          29.577280146854346,
          30.47617198514087,
          29.964451774942223,
          28.94607245902975,
          28.67410137195436,
          28.25546746943891,
          26.523014881114097,
          25.292731019305496,
          25.079007970363214,
          25.99233004803929,
          27.322250823412134,
          27.504749987472085,
          29.14343581551519,
          29.70028819880251,
          32.29503409544979,
          34.89186748668844,
          37.70727398743672,
          38.325660266830326,
          37.304401523194805,
          36.722543493696,
          35.84389936887291,
          35.15978301239089,
          33.00610932727938,
          32.08034510682169,
          31.48765640839462,
          30.583541533820977,
          31.138699835517556,
          31.039030993399784,
          29.32127635634476,
          28.64724533997129,
          26.60363747935019,
          25.555087769189434,
          25.53975492353908,
          25.94959394021976,
          26.94659172892747,
          29.481679419760034,
          29.68687356253756,
          29.94884538281082,
          30.837529219974265,
          34.09704519684013,
          35.89473558922998,
          36.083419452812095,
          36.903471804223486,
          35.67768338090118,
          33.23948494155237,
          31.45261243785304,
          30.778913095968186,
          30.041871321404823,
          29.523476928314,
          28.63706366357618,
          27.897315392566583,
          26.93444990071705,
          27.254923847693767,
          26.35979376411418,
          23.317356397363827,
          22.767810130741037,
          21.630919216961995,
          22.70621363850621,
          23.749091073777223,
          24.43352566176936,
          26.03417720151881,
          27.419230767874705,
          28.93880961291848,
          31.58676306437041,
          34.10442039304683,
          34.52476253893835,
          35.1056506155202,
          34.58953000821967,
          31.770489113778293,
          32.06479915621762,
          29.933275855026576,
          28.998273882351345,
          28.715603975657597,
          29.54753753702158,
          29.26426670692213,
          29.357737173811326,
          28.800003223181637,
          27.44843582572845,
          26.260249123204336,
          26.085837587435872,
          24.822952601804964,
          25.962146735376223,
          26.68703847551796,
          28.82306643171687,
          30.219092020141737,
          31.197741438453825,
          32.841078242015726,
          36.444658765179454,
          37.64319832257039,
          39.09470389728467,
          39.0737719107766,
          38.93132583365266,
          36.49249308684545,
          33.6704766799416,
          33.05147187336864,
          32.421356730631715,
          33.534285996866096,
          31.53602834548926,
          32.22194767446818,
          30.734671731088287,
          28.80475244149576,
          27.59068692702718,
          26.78708232045054,
          27.68037578447069,
          29.60222925385486,
          29.63022269198236,
          31.093987902761032,
          36.76487159545103,
          39.33443989727997,
          40.20318376128605,
          39.045234571249416,
          37.2320495082166,
          36.28778258431055,
          35.061627000366414,
          34.89926437206767,
          33.00820646651876,
          32.24908663539426,
          30.975100855576507,
          31.58239042884657,
          32.290874097401925,
          31.67222275123176,
          29.874710914197568,
          28.47354511425809,
          27.13883153990104,
          27.586962217671637,
          27.866513171977093,
          28.32499257631805,
          29.2554507959047,
          31.071327514908297,
          32.22776319374074,
          33.51648179292705,
          36.04239534763282,
          38.6532417644003,
          39.44352810440961,
          38.90882549379608,
          37.51583489291895,
          36.63443151894941,
          35.47101974790695,
          34.43704799727242,
          31.744093443560413,
          31.69389956690962,
          32.596216741208494,
          31.991668137104565,
          31.90454520406789,
          31.436559901643346,
          30.01129635723208,
          28.106340471874628,
          26.26341637065239,
          25.053924592480744,
          26.943444724778708,
          27.96932202548145,
          29.60231920151597,
          30.37899117380609,
          31.270445275225047,
          33.03198688862095,
          36.33685534732016,
          37.97293090894871,
          38.44876166285093,
          37.64192287059793,
          36.668744745024206,
          34.80689683955524,
          33.49579565746932,
          31.243677460970048,
          31.840357165696243,
          30.436578534156364,
          30.0365662528084,
          30.163174804268213,
          30.971340283913527,
          29.91018164726216,
          28.025351124087862,
          26.41554984163458,
          25.95131341526843,
          24.1293195309364,
          26.093491494623915,
          27.84931111657951,
          29.485312539322187,
          29.92384581785466,
          31.341121413308965,
          33.461026445031486,
          35.36644350064047,
          37.4685908219055,
          38.576978774258535,
          38.30939844441053,
          37.75556841836646,
          35.495036964036174,
          33.58511692978353,
          34.381646371179045,
          32.68599361999004,
          32.588358162787,
          31.469030799348666,
          30.834799721623963,
          32.12797551932733,
          30.56304389218159,
          30.37725934348403,
          26.96399006169332,
          26.877839675629044,
          25.98451428714106,
          27.03275223006158,
          27.83559511727202,
          29.20753944358437,
          29.828280796291644,
          31.730075630954776,
          32.98376103613112,
          34.81615230160861,
          37.38259651735832,
          37.18508043456376,
          37.48879794266559,
          35.99065287538353,
          33.720195729067825,
          32.0815607437202,
          30.233280582929947,
          29.089702782367468,
          29.11480535432699,
          28.96052701663156,
          28.680440316202123,
          27.68066247047231,
          28.231307980622702,
          25.61388511630782,
          24.559715967493272,
          23.384515467921435,
          22.8412305261291,
          23.44666316149738,
          25.009674675743668,
          26.034613627772178,
          26.440437877249654,
          27.301919804716903,
          30.118317357854025,
          32.54297580359893,
          34.16830328968536,
          35.293911936614414,
          35.08691465391923,
          34.261155614284306,
          32.5453204633483,
          32.00059586534088,
          30.893670460392435,
          29.598236744793308,
          28.997715601598305,
          29.17347608030167,
          29.126929049231663,
          29.086365162718028,
          29.63964451851553,
          27.974473818762284,
          26.683087553898595,
          25.104120428358097,
          25.833107075127263,
          25.998568455646726,
          29.112313095682627,
          29.83866665645793,
          30.41033100335647,
          30.922659275266025,
          33.59421191334177,
          37.01562846693104,
          38.53250621904189,
          40.548760028829,
          38.91929122456016,
          37.79198537465156,
          36.75149009358739,
          35.000300609355946,
          34.53736299434329,
          33.94147773345844,
          32.44459287032256,
          32.91141447886735,
          32.34783331619877,
          32.40745288118215,
          32.43266780430159,
          30.97854824994055,
          29.71928575791778,
          27.02493584699484,
          27.08442012961715,
          29.52281421506442,
          29.023547680463917,
          30.800311591180748,
          31.13488551064597,
          32.851092144794386,
          35.57909794484105,
          37.56634433573841,
          39.23036970179199,
          39.259187432333086,
          39.28972260270696,
          38.72035936394777,
          36.7467839764645,
          35.22456698886675,
          34.23302238894058,
          33.23841056375731,
          32.797412321451674,
          32.579620405090715,
          31.86964748205037,
          31.94075117274981,
          31.427217088305603,
          30.19388834434453,
          27.898203314724977,
          26.92064070421576,
          26.653143222730247,
          28.70656226277797,
          28.810667928027595,
          30.34052036330871,
          30.24467350999531,
          31.74190436952408,
          35.23133579283607,
          37.115608270663344,
          38.68267167845705,
          39.76718375026354,
          40.035528332243246,
          37.82144608270878,
          36.3152739097058,
          34.53974916119724,
          33.57921173215239,
          33.78236255177145,
          32.09060899654182,
          31.69355288533178,
          31.672807532790923,
          30.96074653758703,
          31.83962396761707,
          29.65639138036705,
          27.789606296006944,
          25.884298210564687,
          26.313308837009533,
          26.47847781483844,
          28.391821902068767,
          29.40237046257034
         ]
        },
        {
         "fill": "tonexty",
         "fillcolor": "lightpink",
         "line": {
          "color": "blue",
          "dash": "dot",
          "width": 1
         },
         "mode": "lines",
         "name": "Total Vertical TBS (expected)",
         "showlegend": false,
         "type": "scatter",
         "x": [
          "2023-02-23T02:00:00",
          "2023-02-23T03:00:00",
          "2023-02-23T04:00:00",
          "2023-02-23T05:00:00",
          "2023-02-23T06:00:00",
          "2023-02-23T07:00:00",
          "2023-02-23T11:00:00",
          "2023-02-23T13:00:00",
          "2023-02-23T14:00:00",
          "2023-02-23T15:00:00",
          "2023-02-23T16:00:00",
          "2023-02-23T17:00:00",
          "2023-02-23T18:00:00",
          "2023-02-23T19:00:00",
          "2023-02-23T20:00:00",
          "2023-02-23T21:00:00",
          "2023-02-23T22:00:00",
          "2023-02-23T23:00:00",
          "2023-02-24T00:00:00",
          "2023-02-24T01:00:00",
          "2023-02-24T02:00:00",
          "2023-02-24T03:00:00",
          "2023-02-24T04:00:00",
          "2023-02-24T05:00:00",
          "2023-02-24T06:00:00",
          "2023-02-24T07:00:00",
          "2023-02-24T08:00:00",
          "2023-02-24T09:00:00",
          "2023-02-24T10:00:00",
          "2023-02-24T11:00:00",
          "2023-02-24T12:00:00",
          "2023-02-24T13:00:00",
          "2023-02-24T14:00:00",
          "2023-02-24T15:00:00",
          "2023-02-24T16:00:00",
          "2023-02-24T17:00:00",
          "2023-02-24T18:00:00",
          "2023-02-24T19:00:00",
          "2023-02-24T20:00:00",
          "2023-02-24T21:00:00",
          "2023-02-24T22:00:00",
          "2023-02-24T23:00:00",
          "2023-02-25T00:00:00",
          "2023-02-25T01:00:00",
          "2023-02-25T02:00:00",
          "2023-02-25T03:00:00",
          "2023-02-25T04:00:00",
          "2023-02-25T05:00:00",
          "2023-02-25T06:00:00",
          "2023-02-25T07:00:00",
          "2023-02-25T08:00:00",
          "2023-02-25T09:00:00",
          "2023-02-25T10:00:00",
          "2023-02-25T11:00:00",
          "2023-02-25T12:00:00",
          "2023-02-25T13:00:00",
          "2023-02-25T14:00:00",
          "2023-02-25T15:00:00",
          "2023-02-25T16:00:00",
          "2023-02-25T17:00:00",
          "2023-02-25T18:00:00",
          "2023-02-25T19:00:00",
          "2023-02-25T20:00:00",
          "2023-02-25T21:00:00",
          "2023-02-25T22:00:00",
          "2023-02-25T23:00:00",
          "2023-02-26T00:00:00",
          "2023-02-26T01:00:00",
          "2023-02-26T02:00:00",
          "2023-02-26T03:00:00",
          "2023-02-26T04:00:00",
          "2023-02-26T05:00:00",
          "2023-02-26T06:00:00",
          "2023-02-26T07:00:00",
          "2023-02-26T08:00:00",
          "2023-02-26T09:00:00",
          "2023-02-26T10:00:00",
          "2023-02-26T11:00:00",
          "2023-02-26T12:00:00",
          "2023-02-26T13:00:00",
          "2023-02-26T14:00:00",
          "2023-02-26T15:00:00",
          "2023-02-26T16:00:00",
          "2023-02-26T17:00:00",
          "2023-02-26T18:00:00",
          "2023-02-26T19:00:00",
          "2023-02-26T20:00:00",
          "2023-02-26T21:00:00",
          "2023-02-26T22:00:00",
          "2023-02-26T23:00:00",
          "2023-02-27T00:00:00",
          "2023-02-27T01:00:00",
          "2023-02-27T02:00:00",
          "2023-02-27T03:00:00",
          "2023-02-27T04:00:00",
          "2023-02-27T05:00:00",
          "2023-02-27T06:00:00",
          "2023-02-27T07:00:00",
          "2023-02-27T08:00:00",
          "2023-02-27T09:00:00",
          "2023-02-27T10:00:00",
          "2023-02-27T11:00:00",
          "2023-02-27T12:00:00",
          "2023-02-27T13:00:00",
          "2023-02-27T14:00:00",
          "2023-02-27T15:00:00",
          "2023-02-27T16:00:00",
          "2023-02-27T17:00:00",
          "2023-02-27T18:00:00",
          "2023-02-27T21:00:00",
          "2023-02-27T22:00:00",
          "2023-02-27T23:00:00",
          "2023-02-28T00:00:00",
          "2023-02-28T01:00:00",
          "2023-02-28T02:00:00",
          "2023-02-28T03:00:00",
          "2023-02-28T04:00:00",
          "2023-02-28T05:00:00",
          "2023-02-28T06:00:00",
          "2023-02-28T07:00:00",
          "2023-02-28T08:00:00",
          "2023-02-28T09:00:00",
          "2023-02-28T10:00:00",
          "2023-02-28T13:00:00",
          "2023-02-28T14:00:00",
          "2023-02-28T15:00:00",
          "2023-02-28T16:00:00",
          "2023-02-28T17:00:00",
          "2023-02-28T18:00:00",
          "2023-02-28T19:00:00",
          "2023-02-28T20:00:00",
          "2023-02-28T21:00:00",
          "2023-02-28T22:00:00",
          "2023-02-28T23:00:00",
          "2023-03-01T00:00:00",
          "2023-03-01T01:00:00",
          "2023-03-01T02:00:00",
          "2023-03-01T03:00:00",
          "2023-03-01T04:00:00",
          "2023-03-01T05:00:00",
          "2023-03-01T06:00:00",
          "2023-03-01T07:00:00",
          "2023-03-01T08:00:00",
          "2023-03-01T09:00:00",
          "2023-03-01T10:00:00",
          "2023-03-01T11:00:00",
          "2023-03-01T12:00:00",
          "2023-03-01T13:00:00",
          "2023-03-01T14:00:00",
          "2023-03-01T15:00:00",
          "2023-03-01T16:00:00",
          "2023-03-01T17:00:00",
          "2023-03-01T18:00:00",
          "2023-03-01T19:00:00",
          "2023-03-01T20:00:00",
          "2023-03-01T21:00:00",
          "2023-03-01T22:00:00",
          "2023-03-01T23:00:00",
          "2023-03-02T00:00:00",
          "2023-03-02T01:00:00",
          "2023-03-02T02:00:00",
          "2023-03-02T03:00:00",
          "2023-03-02T04:00:00",
          "2023-03-02T05:00:00",
          "2023-03-02T06:00:00",
          "2023-03-02T07:00:00",
          "2023-03-02T08:00:00",
          "2023-03-02T09:00:00",
          "2023-03-02T10:00:00",
          "2023-03-02T11:00:00",
          "2023-03-02T12:00:00",
          "2023-03-02T13:00:00",
          "2023-03-02T14:00:00",
          "2023-03-02T15:00:00",
          "2023-03-02T16:00:00",
          "2023-03-02T17:00:00",
          "2023-03-02T18:00:00",
          "2023-03-02T19:00:00",
          "2023-03-02T20:00:00",
          "2023-03-02T21:00:00",
          "2023-03-02T22:00:00",
          "2023-03-02T23:00:00",
          "2023-03-03T00:00:00",
          "2023-03-03T01:00:00",
          "2023-03-03T02:00:00",
          "2023-03-03T03:00:00",
          "2023-03-03T04:00:00",
          "2023-03-03T05:00:00",
          "2023-03-03T06:00:00",
          "2023-03-03T07:00:00",
          "2023-03-03T08:00:00",
          "2023-03-03T09:00:00",
          "2023-03-03T10:00:00",
          "2023-03-03T11:00:00",
          "2023-03-03T12:00:00",
          "2023-03-03T13:00:00",
          "2023-03-03T14:00:00",
          "2023-03-03T15:00:00",
          "2023-03-03T16:00:00",
          "2023-03-03T17:00:00",
          "2023-03-03T18:00:00",
          "2023-03-03T19:00:00",
          "2023-03-03T20:00:00",
          "2023-03-03T21:00:00",
          "2023-03-03T22:00:00",
          "2023-03-03T23:00:00",
          "2023-03-04T00:00:00",
          "2023-03-04T01:00:00",
          "2023-03-04T02:00:00",
          "2023-03-04T03:00:00",
          "2023-03-04T04:00:00",
          "2023-03-04T05:00:00",
          "2023-03-04T06:00:00",
          "2023-03-04T07:00:00",
          "2023-03-04T08:00:00",
          "2023-03-04T09:00:00",
          "2023-03-04T10:00:00",
          "2023-03-04T11:00:00",
          "2023-03-04T12:00:00",
          "2023-03-04T13:00:00",
          "2023-03-04T14:00:00",
          "2023-03-04T15:00:00",
          "2023-03-04T16:00:00",
          "2023-03-04T17:00:00",
          "2023-03-04T18:00:00",
          "2023-03-04T19:00:00",
          "2023-03-04T20:00:00",
          "2023-03-04T21:00:00",
          "2023-03-04T22:00:00",
          "2023-03-04T23:00:00",
          "2023-03-05T00:00:00",
          "2023-03-05T01:00:00",
          "2023-03-05T02:00:00",
          "2023-03-05T03:00:00",
          "2023-03-05T04:00:00",
          "2023-03-05T05:00:00",
          "2023-03-05T06:00:00",
          "2023-03-05T07:00:00",
          "2023-03-05T08:00:00",
          "2023-03-05T09:00:00",
          "2023-03-05T10:00:00",
          "2023-03-05T11:00:00",
          "2023-03-05T12:00:00",
          "2023-03-05T13:00:00",
          "2023-03-05T14:00:00",
          "2023-03-05T15:00:00",
          "2023-03-05T16:00:00",
          "2023-03-05T17:00:00",
          "2023-03-05T18:00:00",
          "2023-03-05T19:00:00",
          "2023-03-05T20:00:00",
          "2023-03-05T21:00:00",
          "2023-03-05T22:00:00",
          "2023-03-05T23:00:00",
          "2023-03-06T00:00:00",
          "2023-03-06T01:00:00",
          "2023-03-06T02:00:00",
          "2023-03-06T03:00:00",
          "2023-03-06T04:00:00",
          "2023-03-06T05:00:00",
          "2023-03-06T06:00:00",
          "2023-03-06T07:00:00",
          "2023-03-06T08:00:00",
          "2023-03-06T09:00:00",
          "2023-03-06T10:00:00",
          "2023-03-06T11:00:00",
          "2023-03-06T12:00:00",
          "2023-03-06T13:00:00",
          "2023-03-06T14:00:00",
          "2023-03-06T15:00:00",
          "2023-03-06T16:00:00",
          "2023-03-06T17:00:00",
          "2023-03-06T18:00:00",
          "2023-03-06T19:00:00",
          "2023-03-06T20:00:00",
          "2023-03-06T21:00:00",
          "2023-03-06T22:00:00",
          "2023-03-06T23:00:00",
          "2023-03-07T00:00:00",
          "2023-03-07T01:00:00",
          "2023-03-07T02:00:00",
          "2023-03-07T03:00:00",
          "2023-03-07T04:00:00",
          "2023-03-07T05:00:00",
          "2023-03-07T06:00:00",
          "2023-03-07T07:00:00",
          "2023-03-07T08:00:00",
          "2023-03-07T09:00:00",
          "2023-03-07T10:00:00",
          "2023-03-07T11:00:00",
          "2023-03-07T12:00:00",
          "2023-03-07T13:00:00",
          "2023-03-07T14:00:00",
          "2023-03-07T15:00:00",
          "2023-03-07T16:00:00",
          "2023-03-07T17:00:00",
          "2023-03-07T18:00:00",
          "2023-03-07T19:00:00",
          "2023-03-07T20:00:00",
          "2023-03-07T21:00:00",
          "2023-03-07T22:00:00",
          "2023-03-07T23:00:00",
          "2023-03-08T00:00:00",
          "2023-03-08T01:00:00",
          "2023-03-08T02:00:00",
          "2023-03-08T03:00:00",
          "2023-03-08T04:00:00",
          "2023-03-08T05:00:00",
          "2023-03-08T06:00:00",
          "2023-03-08T07:00:00",
          "2023-03-08T08:00:00",
          "2023-03-08T09:00:00",
          "2023-03-08T10:00:00",
          "2023-03-08T11:00:00",
          "2023-03-08T12:00:00",
          "2023-03-08T13:00:00",
          "2023-03-08T14:00:00",
          "2023-03-08T15:00:00",
          "2023-03-08T16:00:00",
          "2023-03-08T17:00:00",
          "2023-03-08T18:00:00",
          "2023-03-08T19:00:00",
          "2023-03-08T20:00:00",
          "2023-03-08T21:00:00",
          "2023-03-08T22:00:00",
          "2023-03-08T23:00:00",
          "2023-03-09T00:00:00",
          "2023-03-09T01:00:00",
          "2023-03-09T02:00:00",
          "2023-03-09T03:00:00",
          "2023-03-09T04:00:00",
          "2023-03-09T05:00:00",
          "2023-03-09T06:00:00",
          "2023-03-09T07:00:00",
          "2023-03-09T08:00:00",
          "2023-03-09T09:00:00"
         ],
         "y": [
          306.1827901926966,
          293.06572186185014,
          271.1330772868397,
          257.28911459343493,
          255.4780493281797,
          265.242481929072,
          306.8725952986439,
          346.53479796655415,
          359.5740786509376,
          375.7405849597649,
          371.4323089127796,
          364.7403858242837,
          348.6994989741219,
          324.9665005096006,
          322.8264706719566,
          297.30957762683164,
          295.77280146854343,
          304.7617198514087,
          299.6445177494222,
          289.4607245902975,
          286.7410137195436,
          282.55467469438906,
          265.23014881114096,
          252.92731019305495,
          250.79007970363216,
          259.92330048039287,
          273.22250823412134,
          275.04749987472087,
          291.4343581551519,
          297.00288198802514,
          322.95034095449796,
          348.91867486688443,
          377.07273987436724,
          383.25660266830323,
          373.04401523194804,
          367.22543493696,
          358.4389936887291,
          351.5978301239089,
          330.0610932727938,
          320.8034510682169,
          314.8765640839462,
          305.83541533820977,
          311.3869983551756,
          310.39030993399786,
          293.2127635634476,
          286.4724533997129,
          266.0363747935019,
          255.55087769189436,
          255.39754923539078,
          259.4959394021976,
          269.46591728927467,
          294.81679419760036,
          296.8687356253756,
          299.4884538281082,
          308.37529219974266,
          340.9704519684013,
          358.9473558922998,
          360.834194528121,
          369.0347180422349,
          356.7768338090118,
          332.3948494155237,
          314.5261243785304,
          307.78913095968187,
          300.41871321404824,
          295.23476928314,
          286.3706366357618,
          278.9731539256658,
          269.3444990071705,
          272.54923847693766,
          263.5979376411418,
          233.17356397363827,
          227.67810130741037,
          216.30919216961996,
          227.0621363850621,
          237.49091073777223,
          244.33525661769357,
          260.3417720151881,
          274.19230767874706,
          289.3880961291848,
          315.8676306437041,
          341.0442039304683,
          345.2476253893835,
          351.056506155202,
          345.8953000821967,
          317.7048911377829,
          320.6479915621762,
          299.33275855026574,
          289.98273882351344,
          287.156039756576,
          295.4753753702158,
          292.64266706922126,
          293.57737173811324,
          288.00003223181636,
          274.4843582572845,
          262.60249123204335,
          260.8583758743587,
          248.22952601804963,
          259.6214673537622,
          266.8703847551796,
          288.2306643171687,
          302.1909202014174,
          311.97741438453824,
          328.41078242015726,
          364.4465876517945,
          376.4319832257039,
          390.94703897284666,
          390.737719107766,
          389.3132583365266,
          364.9249308684545,
          336.704766799416,
          330.51471873368644,
          324.21356730631715,
          335.34285996866095,
          315.3602834548926,
          322.21947674468186,
          307.34671731088287,
          288.0475244149576,
          275.9068692702718,
          267.8708232045054,
          276.8037578447069,
          296.0222925385486,
          296.3022269198236,
          310.93987902761035,
          367.6487159545103,
          393.3443989727997,
          402.0318376128605,
          390.45234571249415,
          372.32049508216596,
          362.8778258431055,
          350.6162700036641,
          348.9926437206767,
          330.08206466518754,
          322.4908663539426,
          309.75100855576505,
          315.8239042884657,
          322.9087409740192,
          316.7222275123176,
          298.74710914197567,
          284.7354511425809,
          271.3883153990104,
          275.86962217671635,
          278.66513171977095,
          283.2499257631805,
          292.554507959047,
          310.71327514908296,
          322.2776319374074,
          335.1648179292705,
          360.42395347632817,
          386.532417644003,
          394.4352810440961,
          389.0882549379608,
          375.1583489291895,
          366.3443151894941,
          354.7101974790695,
          344.37047997272424,
          317.4409344356041,
          316.93899566909624,
          325.9621674120849,
          319.9166813710456,
          319.0454520406789,
          314.36559901643346,
          300.1129635723208,
          281.06340471874626,
          262.6341637065239,
          250.53924592480743,
          269.4344472477871,
          279.6932202548145,
          296.02319201515974,
          303.7899117380609,
          312.70445275225046,
          330.3198688862095,
          363.3685534732016,
          379.7293090894871,
          384.4876166285093,
          376.4192287059793,
          366.6874474502421,
          348.0689683955524,
          334.95795657469324,
          312.4367746097005,
          318.4035716569624,
          304.36578534156365,
          300.365662528084,
          301.63174804268215,
          309.71340283913526,
          299.1018164726216,
          280.25351124087865,
          264.1554984163458,
          259.5131341526843,
          241.293195309364,
          260.93491494623913,
          278.4931111657951,
          294.8531253932219,
          299.2384581785466,
          313.41121413308963,
          334.61026445031484,
          353.6644350064047,
          374.685908219055,
          385.7697877425853,
          383.09398444410533,
          377.5556841836646,
          354.9503696403617,
          335.8511692978353,
          343.81646371179045,
          326.8599361999004,
          325.88358162787006,
          314.69030799348667,
          308.3479972162396,
          321.2797551932733,
          305.6304389218159,
          303.7725934348403,
          269.6399006169332,
          268.7783967562904,
          259.8451428714106,
          270.3275223006158,
          278.3559511727202,
          292.0753944358437,
          298.2828079629164,
          317.30075630954775,
          329.8376103613112,
          348.1615230160861,
          373.8259651735832,
          371.8508043456376,
          374.88797942665593,
          359.90652875383535,
          337.20195729067825,
          320.81560743720206,
          302.33280582929945,
          290.89702782367465,
          291.1480535432699,
          289.60527016631556,
          286.80440316202123,
          276.8066247047231,
          282.31307980622705,
          256.1388511630782,
          245.59715967493273,
          233.84515467921435,
          228.41230526129098,
          234.4666316149738,
          250.09674675743668,
          260.34613627772177,
          264.40437877249656,
          273.019198047169,
          301.1831735785403,
          325.42975803598927,
          341.6830328968536,
          352.93911936614415,
          350.8691465391923,
          342.611556142843,
          325.453204633483,
          320.00595865340875,
          308.93670460392434,
          295.9823674479331,
          289.97715601598304,
          291.7347608030167,
          291.2692904923166,
          290.8636516271803,
          296.3964451851553,
          279.74473818762283,
          266.83087553898594,
          251.04120428358098,
          258.33107075127265,
          259.9856845564673,
          291.1231309568263,
          298.3866665645793,
          304.1033100335647,
          309.2265927526602,
          335.94211913341775,
          370.1562846693104,
          385.3250621904189,
          405.48760028829,
          389.19291224560163,
          377.9198537465156,
          367.5149009358739,
          350.00300609355946,
          345.3736299434329,
          339.4147773345844,
          324.4459287032256,
          329.1141447886735,
          323.47833316198773,
          324.07452881182155,
          324.3266780430159,
          309.7854824994055,
          297.1928575791778,
          270.2493584699484,
          270.8442012961715,
          295.2281421506442,
          290.2354768046392,
          308.00311591180747,
          311.34885510645967,
          328.5109214479439,
          355.79097944841055,
          375.66344335738404,
          392.30369701791994,
          392.59187432333084,
          392.89722602706956,
          387.20359363947773,
          367.46783976464496,
          352.24566988866746,
          342.33022388940583,
          332.38410563757316,
          327.97412321451674,
          325.79620405090714,
          318.69647482050374,
          319.4075117274981,
          314.27217088305605,
          301.9388834434453,
          278.98203314724975,
          269.2064070421576,
          266.53143222730245,
          287.0656226277797,
          288.10667928027596,
          303.40520363308707,
          302.4467350999531,
          317.4190436952408,
          352.3133579283607,
          371.15608270663347,
          386.82671678457046,
          397.6718375026354,
          400.35528332243246,
          378.2144608270878,
          363.15273909705803,
          345.39749161197244,
          335.79211732152385,
          337.8236255177145,
          320.9060899654182,
          316.9355288533178,
          316.7280753279092,
          309.60746537587033,
          318.3962396761707,
          296.5639138036705,
          277.89606296006946,
          258.84298210564685,
          263.1330883700953,
          264.78477814838436,
          283.9182190206877,
          294.0237046257034
         ]
        },
        {
         "line": {
          "color": "blue",
          "dash": "dot",
          "width": 1
         },
         "mode": "lines",
         "name": "Total Vertical TBS (expected)",
         "showlegend": false,
         "type": "scatter",
         "x": [
          "2023-02-23T02:00:00",
          "2023-02-23T03:00:00",
          "2023-02-23T04:00:00",
          "2023-02-23T05:00:00",
          "2023-02-23T06:00:00",
          "2023-02-23T07:00:00",
          "2023-02-23T11:00:00",
          "2023-02-23T13:00:00",
          "2023-02-23T14:00:00",
          "2023-02-23T15:00:00",
          "2023-02-23T16:00:00",
          "2023-02-23T17:00:00",
          "2023-02-23T18:00:00",
          "2023-02-23T19:00:00",
          "2023-02-23T20:00:00",
          "2023-02-23T21:00:00",
          "2023-02-23T22:00:00",
          "2023-02-23T23:00:00",
          "2023-02-24T00:00:00",
          "2023-02-24T01:00:00",
          "2023-02-24T02:00:00",
          "2023-02-24T03:00:00",
          "2023-02-24T04:00:00",
          "2023-02-24T05:00:00",
          "2023-02-24T06:00:00",
          "2023-02-24T07:00:00",
          "2023-02-24T08:00:00",
          "2023-02-24T09:00:00",
          "2023-02-24T10:00:00",
          "2023-02-24T11:00:00",
          "2023-02-24T12:00:00",
          "2023-02-24T13:00:00",
          "2023-02-24T14:00:00",
          "2023-02-24T15:00:00",
          "2023-02-24T16:00:00",
          "2023-02-24T17:00:00",
          "2023-02-24T18:00:00",
          "2023-02-24T19:00:00",
          "2023-02-24T20:00:00",
          "2023-02-24T21:00:00",
          "2023-02-24T22:00:00",
          "2023-02-24T23:00:00",
          "2023-02-25T00:00:00",
          "2023-02-25T01:00:00",
          "2023-02-25T02:00:00",
          "2023-02-25T03:00:00",
          "2023-02-25T04:00:00",
          "2023-02-25T05:00:00",
          "2023-02-25T06:00:00",
          "2023-02-25T07:00:00",
          "2023-02-25T08:00:00",
          "2023-02-25T09:00:00",
          "2023-02-25T10:00:00",
          "2023-02-25T11:00:00",
          "2023-02-25T12:00:00",
          "2023-02-25T13:00:00",
          "2023-02-25T14:00:00",
          "2023-02-25T15:00:00",
          "2023-02-25T16:00:00",
          "2023-02-25T17:00:00",
          "2023-02-25T18:00:00",
          "2023-02-25T19:00:00",
          "2023-02-25T20:00:00",
          "2023-02-25T21:00:00",
          "2023-02-25T22:00:00",
          "2023-02-25T23:00:00",
          "2023-02-26T00:00:00",
          "2023-02-26T01:00:00",
          "2023-02-26T02:00:00",
          "2023-02-26T03:00:00",
          "2023-02-26T04:00:00",
          "2023-02-26T05:00:00",
          "2023-02-26T06:00:00",
          "2023-02-26T07:00:00",
          "2023-02-26T08:00:00",
          "2023-02-26T09:00:00",
          "2023-02-26T10:00:00",
          "2023-02-26T11:00:00",
          "2023-02-26T12:00:00",
          "2023-02-26T13:00:00",
          "2023-02-26T14:00:00",
          "2023-02-26T15:00:00",
          "2023-02-26T16:00:00",
          "2023-02-26T17:00:00",
          "2023-02-26T18:00:00",
          "2023-02-26T19:00:00",
          "2023-02-26T20:00:00",
          "2023-02-26T21:00:00",
          "2023-02-26T22:00:00",
          "2023-02-26T23:00:00",
          "2023-02-27T00:00:00",
          "2023-02-27T01:00:00",
          "2023-02-27T02:00:00",
          "2023-02-27T03:00:00",
          "2023-02-27T04:00:00",
          "2023-02-27T05:00:00",
          "2023-02-27T06:00:00",
          "2023-02-27T07:00:00",
          "2023-02-27T08:00:00",
          "2023-02-27T09:00:00",
          "2023-02-27T10:00:00",
          "2023-02-27T11:00:00",
          "2023-02-27T12:00:00",
          "2023-02-27T13:00:00",
          "2023-02-27T14:00:00",
          "2023-02-27T15:00:00",
          "2023-02-27T16:00:00",
          "2023-02-27T17:00:00",
          "2023-02-27T18:00:00",
          "2023-02-27T21:00:00",
          "2023-02-27T22:00:00",
          "2023-02-27T23:00:00",
          "2023-02-28T00:00:00",
          "2023-02-28T01:00:00",
          "2023-02-28T02:00:00",
          "2023-02-28T03:00:00",
          "2023-02-28T04:00:00",
          "2023-02-28T05:00:00",
          "2023-02-28T06:00:00",
          "2023-02-28T07:00:00",
          "2023-02-28T08:00:00",
          "2023-02-28T09:00:00",
          "2023-02-28T10:00:00",
          "2023-02-28T13:00:00",
          "2023-02-28T14:00:00",
          "2023-02-28T15:00:00",
          "2023-02-28T16:00:00",
          "2023-02-28T17:00:00",
          "2023-02-28T18:00:00",
          "2023-02-28T19:00:00",
          "2023-02-28T20:00:00",
          "2023-02-28T21:00:00",
          "2023-02-28T22:00:00",
          "2023-02-28T23:00:00",
          "2023-03-01T00:00:00",
          "2023-03-01T01:00:00",
          "2023-03-01T02:00:00",
          "2023-03-01T03:00:00",
          "2023-03-01T04:00:00",
          "2023-03-01T05:00:00",
          "2023-03-01T06:00:00",
          "2023-03-01T07:00:00",
          "2023-03-01T08:00:00",
          "2023-03-01T09:00:00",
          "2023-03-01T10:00:00",
          "2023-03-01T11:00:00",
          "2023-03-01T12:00:00",
          "2023-03-01T13:00:00",
          "2023-03-01T14:00:00",
          "2023-03-01T15:00:00",
          "2023-03-01T16:00:00",
          "2023-03-01T17:00:00",
          "2023-03-01T18:00:00",
          "2023-03-01T19:00:00",
          "2023-03-01T20:00:00",
          "2023-03-01T21:00:00",
          "2023-03-01T22:00:00",
          "2023-03-01T23:00:00",
          "2023-03-02T00:00:00",
          "2023-03-02T01:00:00",
          "2023-03-02T02:00:00",
          "2023-03-02T03:00:00",
          "2023-03-02T04:00:00",
          "2023-03-02T05:00:00",
          "2023-03-02T06:00:00",
          "2023-03-02T07:00:00",
          "2023-03-02T08:00:00",
          "2023-03-02T09:00:00",
          "2023-03-02T10:00:00",
          "2023-03-02T11:00:00",
          "2023-03-02T12:00:00",
          "2023-03-02T13:00:00",
          "2023-03-02T14:00:00",
          "2023-03-02T15:00:00",
          "2023-03-02T16:00:00",
          "2023-03-02T17:00:00",
          "2023-03-02T18:00:00",
          "2023-03-02T19:00:00",
          "2023-03-02T20:00:00",
          "2023-03-02T21:00:00",
          "2023-03-02T22:00:00",
          "2023-03-02T23:00:00",
          "2023-03-03T00:00:00",
          "2023-03-03T01:00:00",
          "2023-03-03T02:00:00",
          "2023-03-03T03:00:00",
          "2023-03-03T04:00:00",
          "2023-03-03T05:00:00",
          "2023-03-03T06:00:00",
          "2023-03-03T07:00:00",
          "2023-03-03T08:00:00",
          "2023-03-03T09:00:00",
          "2023-03-03T10:00:00",
          "2023-03-03T11:00:00",
          "2023-03-03T12:00:00",
          "2023-03-03T13:00:00",
          "2023-03-03T14:00:00",
          "2023-03-03T15:00:00",
          "2023-03-03T16:00:00",
          "2023-03-03T17:00:00",
          "2023-03-03T18:00:00",
          "2023-03-03T19:00:00",
          "2023-03-03T20:00:00",
          "2023-03-03T21:00:00",
          "2023-03-03T22:00:00",
          "2023-03-03T23:00:00",
          "2023-03-04T00:00:00",
          "2023-03-04T01:00:00",
          "2023-03-04T02:00:00",
          "2023-03-04T03:00:00",
          "2023-03-04T04:00:00",
          "2023-03-04T05:00:00",
          "2023-03-04T06:00:00",
          "2023-03-04T07:00:00",
          "2023-03-04T08:00:00",
          "2023-03-04T09:00:00",
          "2023-03-04T10:00:00",
          "2023-03-04T11:00:00",
          "2023-03-04T12:00:00",
          "2023-03-04T13:00:00",
          "2023-03-04T14:00:00",
          "2023-03-04T15:00:00",
          "2023-03-04T16:00:00",
          "2023-03-04T17:00:00",
          "2023-03-04T18:00:00",
          "2023-03-04T19:00:00",
          "2023-03-04T20:00:00",
          "2023-03-04T21:00:00",
          "2023-03-04T22:00:00",
          "2023-03-04T23:00:00",
          "2023-03-05T00:00:00",
          "2023-03-05T01:00:00",
          "2023-03-05T02:00:00",
          "2023-03-05T03:00:00",
          "2023-03-05T04:00:00",
          "2023-03-05T05:00:00",
          "2023-03-05T06:00:00",
          "2023-03-05T07:00:00",
          "2023-03-05T08:00:00",
          "2023-03-05T09:00:00",
          "2023-03-05T10:00:00",
          "2023-03-05T11:00:00",
          "2023-03-05T12:00:00",
          "2023-03-05T13:00:00",
          "2023-03-05T14:00:00",
          "2023-03-05T15:00:00",
          "2023-03-05T16:00:00",
          "2023-03-05T17:00:00",
          "2023-03-05T18:00:00",
          "2023-03-05T19:00:00",
          "2023-03-05T20:00:00",
          "2023-03-05T21:00:00",
          "2023-03-05T22:00:00",
          "2023-03-05T23:00:00",
          "2023-03-06T00:00:00",
          "2023-03-06T01:00:00",
          "2023-03-06T02:00:00",
          "2023-03-06T03:00:00",
          "2023-03-06T04:00:00",
          "2023-03-06T05:00:00",
          "2023-03-06T06:00:00",
          "2023-03-06T07:00:00",
          "2023-03-06T08:00:00",
          "2023-03-06T09:00:00",
          "2023-03-06T10:00:00",
          "2023-03-06T11:00:00",
          "2023-03-06T12:00:00",
          "2023-03-06T13:00:00",
          "2023-03-06T14:00:00",
          "2023-03-06T15:00:00",
          "2023-03-06T16:00:00",
          "2023-03-06T17:00:00",
          "2023-03-06T18:00:00",
          "2023-03-06T19:00:00",
          "2023-03-06T20:00:00",
          "2023-03-06T21:00:00",
          "2023-03-06T22:00:00",
          "2023-03-06T23:00:00",
          "2023-03-07T00:00:00",
          "2023-03-07T01:00:00",
          "2023-03-07T02:00:00",
          "2023-03-07T03:00:00",
          "2023-03-07T04:00:00",
          "2023-03-07T05:00:00",
          "2023-03-07T06:00:00",
          "2023-03-07T07:00:00",
          "2023-03-07T08:00:00",
          "2023-03-07T09:00:00",
          "2023-03-07T10:00:00",
          "2023-03-07T11:00:00",
          "2023-03-07T12:00:00",
          "2023-03-07T13:00:00",
          "2023-03-07T14:00:00",
          "2023-03-07T15:00:00",
          "2023-03-07T16:00:00",
          "2023-03-07T17:00:00",
          "2023-03-07T18:00:00",
          "2023-03-07T19:00:00",
          "2023-03-07T20:00:00",
          "2023-03-07T21:00:00",
          "2023-03-07T22:00:00",
          "2023-03-07T23:00:00",
          "2023-03-08T00:00:00",
          "2023-03-08T01:00:00",
          "2023-03-08T02:00:00",
          "2023-03-08T03:00:00",
          "2023-03-08T04:00:00",
          "2023-03-08T05:00:00",
          "2023-03-08T06:00:00",
          "2023-03-08T07:00:00",
          "2023-03-08T08:00:00",
          "2023-03-08T09:00:00",
          "2023-03-08T10:00:00",
          "2023-03-08T11:00:00",
          "2023-03-08T12:00:00",
          "2023-03-08T13:00:00",
          "2023-03-08T14:00:00",
          "2023-03-08T15:00:00",
          "2023-03-08T16:00:00",
          "2023-03-08T17:00:00",
          "2023-03-08T18:00:00",
          "2023-03-08T19:00:00",
          "2023-03-08T20:00:00",
          "2023-03-08T21:00:00",
          "2023-03-08T22:00:00",
          "2023-03-08T23:00:00",
          "2023-03-09T00:00:00",
          "2023-03-09T01:00:00",
          "2023-03-09T02:00:00",
          "2023-03-09T03:00:00",
          "2023-03-09T04:00:00",
          "2023-03-09T05:00:00",
          "2023-03-09T06:00:00",
          "2023-03-09T07:00:00",
          "2023-03-09T08:00:00",
          "2023-03-09T09:00:00"
         ],
         "y": [
          6.877319998200809,
          5.980621588557793,
          3.501283872826659,
          2.5108534459366787,
          2.0888194514102363,
          1.8045284327824052,
          7.49076358549273,
          11.5542199342686,
          13.432759997030354,
          14.607309096386263,
          13.299302699873534,
          11.725394743331451,
          11.191249382496087,
          9.105094750771888,
          7.279650017790487,
          6.277225506822299,
          6.281669240718756,
          6.989160947980927,
          6.098163656951446,
          5.699253742549165,
          6.398671793875079,
          4.520779531019054,
          2.9779928434993392,
          1.2874370963340016,
          0.781924294317843,
          2.552250981107841,
          3.564950400498629,
          4.619592443072648,
          6.0051632880996175,
          8.060309034956198,
          8.998276584739582,
          11.439481585393796,
          13.846346771073293,
          14.965020327393333,
          13.939590521049526,
          13.517452733270597,
          11.309608730868268,
          10.915320368377316,
          10.46772605439935,
          9.349033502387512,
          8.165835887396529,
          7.444119500336647,
          7.515104337759667,
          7.618816339921727,
          6.620039964716393,
          5.596511899498614,
          3.45086421768035,
          2.2186235411266413,
          2.17084906438863,
          2.669103596788829,
          4.100395674338723,
          4.471238025684433,
          6.1042089546312654,
          7.245845517830315,
          9.334281328184256,
          10.768887391660869,
          13.5379925511005,
          13.84309330392597,
          13.233096808601688,
          11.510702486963742,
          9.998820054487227,
          9.131075593190928,
          7.163762571760601,
          5.762742741243959,
          4.754414042976479,
          4.876171752949589,
          4.070466442375398,
          3.968510110013701,
          4.34309037520107,
          3.0843256596625914,
          -0.2771644885019851,
          -1.9083751516069665,
          -0.7219083404427342,
          -0.963808679405112,
          1.1054297292454014,
          1.840676792849313,
          3.019974036750035,
          4.845928772497039,
          6.015858678823449,
          8.001638521766273,
          11.093689110479495,
          12.625319926308409,
          11.476083114259794,
          10.421146940972244,
          9.525660698524828,
          8.645085066142514,
          6.8559420972724165,
          6.866129349236142,
          5.489797130536577,
          5.456254735778304,
          5.082547298917088,
          6.062865538352287,
          5.945320540936748,
          4.241718698444907,
          2.447508295489229,
          1.5863983336137193,
          2.747652624304929,
          3.5674487180526118,
          4.60806474860175,
          5.406887814840682,
          7.630979870054229,
          8.014475652423489,
          10.567321647453795,
          12.87046054395729,
          15.60373826410748,
          16.070525257969745,
          16.246988453622254,
          15.640173154703424,
          14.096728450619608,
          10.43194792469477,
          10.293399634343304,
          9.060224855985002,
          8.774000911922831,
          8.83067947753801,
          8.505481292857993,
          6.675979605204658,
          5.122968868272137,
          3.9395349375829074,
          3.35410491727215,
          4.181409725975303,
          5.629916442887657,
          7.147700042044592,
          8.317221230812763,
          13.14429570888702,
          15.55156428685667,
          16.33513438687802,
          15.92624626369606,
          14.565875946071507,
          13.999585047794236,
          12.320473589083267,
          11.12540743118118,
          8.765994422050728,
          9.212270461832274,
          8.494080192926793,
          8.150283094869886,
          8.72336970725158,
          7.690679747752343,
          5.858407830781674,
          5.761080100371476,
          3.910824307755386,
          4.006380731835296,
          4.292412268816036,
          5.636001230586335,
          7.836984588517401,
          7.869678657264375,
          9.11026803768302,
          11.337663468226852,
          13.37302476352292,
          15.340302593750652,
          16.17564729368958,
          16.442677179818357,
          15.135651701458007,
          12.864061780095604,
          11.98007002438647,
          11.192270473656084,
          9.722491749538875,
          9.888068429247957,
          8.672619369244694,
          8.253308249701696,
          9.021627367864427,
          8.646712705383978,
          6.772409517644576,
          4.189834431630185,
          2.429980197485901,
          2.999784420565042,
          3.3096644836775018,
          3.8396222552332815,
          6.529851382419337,
          6.644367523979014,
          8.052315723972365,
          10.428133299821974,
          12.815945825684633,
          13.15859853797896,
          15.578200400099863,
          14.237219627500584,
          13.095438968539897,
          12.110257593491118,
          10.463935671636952,
          8.789653477264261,
          8.154710325360472,
          7.249464387153503,
          6.65438517223836,
          6.576112629833477,
          8.068929080382942,
          7.378289015429338,
          5.124118463534348,
          2.7998735929206107,
          1.791291152743455,
          1.608833021781899,
          3.3643120016218244,
          3.679798922880448,
          5.32232053311404,
          7.460756423799261,
          8.698049259768435,
          9.579364210729274,
          13.14838885810791,
          14.93735636879799,
          14.788928952876256,
          15.04141566532962,
          14.05262588600185,
          13.822713055049103,
          12.342347906357386,
          9.369974544092251,
          9.542133980065756,
          8.872941364764728,
          8.545876412111575,
          7.647557655654685,
          8.252907620868129,
          6.712206828961431,
          6.03934659233659,
          4.639089913789313,
          3.0856723370624333,
          1.8534532032541569,
          3.6144746946832513,
          5.427811637911824,
          6.504099763311056,
          7.045230070685074,
          7.62990006929963,
          9.264548830344152,
          11.67066358674612,
          13.379183842624508,
          14.326983635238935,
          13.172784809312091,
          13.194469687213363,
          10.946892357809825,
          9.64677679880731,
          7.908334270410004,
          6.255381774147409,
          5.520891203102576,
          5.650726408384172,
          4.302414708522207,
          4.724536634092355,
          3.8252187446533954,
          1.9364456665055203,
          0.9637800451116018,
          -0.2787811678435334,
          0.0577010728013867,
          1.4568670010075635,
          1.157561670706372,
          2.242451443785382,
          3.9307553059710494,
          5.191874958999732,
          6.748114547288401,
          9.811469446912277,
          11.629300778045458,
          12.792741202616265,
          11.492409226223025,
          11.1594630231539,
          9.80085633592339,
          7.305179468405131,
          7.543176112384949,
          6.083106338645451,
          5.51682740196283,
          6.12972675504293,
          6.1592253399602885,
          6.651318349624894,
          6.171122712842246,
          4.210491557755995,
          2.8883853269852526,
          1.3316340481122269,
          2.5538088562704298,
          3.0670841840124674,
          5.212487293632104,
          6.65093595738032,
          8.403737353175714,
          9.659674484703183,
          11.13208664014176,
          13.082543537479626,
          15.216718152024704,
          16.713942756934678,
          16.30419371452988,
          15.073173015288988,
          14.422900404591026,
          12.178574473101252,
          11.845134420554649,
          10.058186461189164,
          10.183064466948926,
          9.360654839969488,
          9.385132467080137,
          9.561477807959246,
          9.30363107460961,
          8.131953209986415,
          5.398733925684454,
          5.037744739065437,
          4.272500447877775,
          4.764007638397548,
          5.792297372350317,
          6.143235288618535,
          8.185538781182437,
          9.643590379566197,
          11.102413484146544,
          13.267163777791923,
          15.47989329141372,
          16.519967776517568,
          16.781881176861567,
          15.443174439396197,
          13.832675387752918,
          12.680206978377214,
          11.317658335828344,
          9.618205370400466,
          9.875013919182138,
          9.225837648389795,
          8.225290355677947,
          9.133878614171827,
          7.64498666661659,
          5.85285603537302,
          4.96525825955302,
          3.976155618919586,
          3.915286680730304,
          5.225542237239772,
          5.30372764298469,
          6.410057936863359,
          7.749494968960735,
          8.205642737726233,
          11.28762717778289,
          13.32334283623552,
          15.61458157602946,
          16.727973430882027,
          15.889237135300757,
          14.766469044808243,
          13.661460418405229,
          12.112850478040144,
          11.059575408030172,
          9.595746970795965,
          9.745098855827324,
          8.927796919081054,
          7.932145652586273,
          8.255339697266107,
          8.180776947411557,
          6.885339717113312,
          4.17968849482796,
          2.934582018832354,
          3.4316414945630744,
          4.069919092575314,
          5.161621497231794,
          6.463146934732131
         ]
        },
        {
         "line": {
          "color": "red",
          "width": 2
         },
         "mode": "markers",
         "name": "Total Vertical TBS",
         "showlegend": false,
         "type": "scatter",
         "x": [
          "2023-03-02T09:00:00",
          "2023-03-02T08:00:00",
          "2023-03-02T07:00:00",
          "2023-03-02T06:00:00",
          "2023-03-02T05:00:00",
          "2023-03-02T04:00:00",
          "2023-03-02T03:00:00",
          "2023-03-02T02:00:00",
          "2023-03-02T01:00:00",
          "2023-03-02T00:00:00",
          "2023-03-01T23:00:00",
          "2023-03-01T22:00:00",
          "2023-03-01T21:00:00",
          "2023-03-01T20:00:00",
          "2023-03-01T19:00:00",
          "2023-03-01T18:00:00",
          "2023-03-01T17:00:00",
          "2023-03-01T16:00:00",
          "2023-03-01T15:00:00",
          "2023-03-01T14:00:00",
          "2023-03-01T13:00:00",
          "2023-03-01T12:00:00",
          "2023-03-01T11:00:00",
          "2023-03-01T10:00:00",
          "2023-03-01T09:00:00",
          "2023-03-01T08:00:00",
          "2023-03-01T07:00:00",
          "2023-03-01T06:00:00",
          "2023-03-01T05:00:00",
          "2023-03-01T04:00:00",
          "2023-03-01T03:00:00",
          "2023-03-01T02:00:00",
          "2023-03-01T01:00:00",
          "2023-03-01T00:00:00",
          "2023-02-28T23:00:00",
          "2023-02-28T22:00:00",
          "2023-02-28T21:00:00",
          "2023-02-28T20:00:00",
          "2023-02-28T19:00:00",
          "2023-02-28T18:00:00",
          "2023-02-28T17:00:00",
          "2023-02-28T16:00:00",
          "2023-02-28T15:00:00",
          "2023-02-28T14:00:00",
          "2023-02-28T13:00:00",
          "2023-02-28T10:00:00",
          "2023-02-28T09:00:00",
          "2023-02-28T08:00:00",
          "2023-02-28T07:00:00",
          "2023-02-28T06:00:00",
          "2023-02-28T05:00:00",
          "2023-02-28T04:00:00",
          "2023-02-28T03:00:00",
          "2023-02-28T02:00:00",
          "2023-02-28T01:00:00",
          "2023-02-28T00:00:00",
          "2023-02-27T23:00:00",
          "2023-02-27T22:00:00",
          "2023-02-27T21:00:00",
          "2023-02-27T18:00:00",
          "2023-02-27T17:00:00",
          "2023-02-27T16:00:00",
          "2023-02-27T15:00:00",
          "2023-02-27T14:00:00",
          "2023-02-27T13:00:00",
          "2023-02-27T12:00:00",
          "2023-02-27T11:00:00",
          "2023-02-27T10:00:00",
          "2023-02-27T09:00:00",
          "2023-02-27T08:00:00",
          "2023-02-27T07:00:00",
          "2023-02-27T06:00:00",
          "2023-02-27T05:00:00",
          "2023-02-27T04:00:00",
          "2023-02-27T03:00:00",
          "2023-02-27T02:00:00",
          "2023-02-27T01:00:00",
          "2023-02-27T00:00:00",
          "2023-02-26T23:00:00",
          "2023-02-26T22:00:00",
          "2023-02-26T21:00:00",
          "2023-02-26T20:00:00",
          "2023-02-26T19:00:00",
          "2023-02-26T18:00:00",
          "2023-02-26T17:00:00",
          "2023-02-26T16:00:00",
          "2023-02-26T15:00:00",
          "2023-02-26T14:00:00",
          "2023-02-26T13:00:00",
          "2023-02-26T12:00:00",
          "2023-02-26T11:00:00",
          "2023-02-26T10:00:00",
          "2023-02-26T09:00:00",
          "2023-02-26T08:00:00",
          "2023-02-26T07:00:00",
          "2023-02-26T06:00:00",
          "2023-02-26T05:00:00",
          "2023-02-26T04:00:00",
          "2023-02-26T03:00:00",
          "2023-02-26T02:00:00",
          "2023-02-26T01:00:00",
          "2023-02-26T00:00:00",
          "2023-02-25T23:00:00",
          "2023-02-25T22:00:00",
          "2023-02-25T21:00:00",
          "2023-02-25T20:00:00",
          "2023-02-25T19:00:00",
          "2023-02-25T18:00:00",
          "2023-02-25T17:00:00",
          "2023-02-25T16:00:00",
          "2023-02-25T15:00:00",
          "2023-02-25T14:00:00",
          "2023-02-25T13:00:00",
          "2023-02-25T12:00:00",
          "2023-02-25T11:00:00",
          "2023-02-25T10:00:00",
          "2023-02-25T09:00:00",
          "2023-02-25T08:00:00",
          "2023-02-25T07:00:00",
          "2023-02-25T06:00:00",
          "2023-02-25T05:00:00",
          "2023-02-25T04:00:00",
          "2023-02-25T03:00:00",
          "2023-02-25T02:00:00",
          "2023-02-25T01:00:00",
          "2023-02-25T00:00:00",
          "2023-02-24T23:00:00",
          "2023-02-24T22:00:00",
          "2023-02-24T21:00:00",
          "2023-02-24T20:00:00",
          "2023-02-24T19:00:00",
          "2023-02-24T18:00:00",
          "2023-02-24T17:00:00",
          "2023-02-24T16:00:00",
          "2023-02-24T15:00:00",
          "2023-02-24T14:00:00",
          "2023-02-24T13:00:00",
          "2023-02-24T12:00:00",
          "2023-02-24T11:00:00",
          "2023-02-24T10:00:00",
          "2023-02-24T09:00:00",
          "2023-02-24T08:00:00",
          "2023-02-24T07:00:00",
          "2023-02-24T06:00:00",
          "2023-02-24T05:00:00",
          "2023-02-24T04:00:00",
          "2023-02-24T03:00:00",
          "2023-02-24T02:00:00",
          "2023-02-24T01:00:00",
          "2023-02-24T00:00:00",
          "2023-02-23T23:00:00",
          "2023-02-23T22:00:00",
          "2023-02-23T21:00:00",
          "2023-02-23T20:00:00",
          "2023-02-23T19:00:00",
          "2023-02-23T18:00:00",
          "2023-02-23T17:00:00",
          "2023-02-23T16:00:00",
          "2023-02-23T15:00:00",
          "2023-02-23T14:00:00",
          "2023-02-23T13:00:00",
          "2023-02-23T11:00:00",
          "2023-02-23T07:00:00",
          "2023-02-23T06:00:00",
          "2023-02-23T05:00:00",
          "2023-02-23T04:00:00",
          "2023-02-23T03:00:00",
          "2023-02-23T02:00:00",
          "2023-02-23T01:00:00",
          "2023-02-23T00:00:00",
          "2023-02-22T23:00:00",
          "2023-02-22T22:00:00",
          "2023-02-22T21:00:00",
          "2023-02-22T20:00:00",
          "2023-02-22T19:00:00",
          "2023-02-22T18:00:00",
          "2023-02-22T17:00:00",
          "2023-02-22T15:00:00",
          "2023-02-22T14:00:00",
          "2023-02-22T13:00:00",
          "2023-02-22T12:00:00",
          "2023-02-22T10:00:00",
          "2023-02-22T09:00:00",
          "2023-02-22T08:00:00",
          "2023-02-22T07:00:00",
          "2023-02-22T06:00:00",
          "2023-02-22T05:00:00",
          "2023-02-22T04:00:00",
          "2023-02-22T03:00:00",
          "2023-02-22T02:00:00",
          "2023-02-22T01:00:00",
          "2023-02-22T00:00:00",
          "2023-02-21T23:00:00",
          "2023-02-21T22:00:00",
          "2023-02-21T21:00:00",
          "2023-02-21T20:00:00",
          "2023-02-21T18:00:00",
          "2023-02-21T17:00:00",
          "2023-02-21T16:00:00",
          "2023-02-21T15:00:00",
          "2023-02-21T14:00:00",
          "2023-02-21T13:00:00",
          "2023-02-21T12:00:00",
          "2023-02-21T11:00:00",
          "2023-02-21T10:00:00",
          "2023-02-21T09:00:00",
          "2023-02-21T08:00:00",
          "2023-02-21T07:00:00",
          "2023-02-21T06:00:00",
          "2023-02-21T05:00:00",
          "2023-02-21T04:00:00",
          "2023-02-21T03:00:00",
          "2023-02-21T02:00:00",
          "2023-02-21T01:00:00",
          "2023-02-21T00:00:00",
          "2023-02-20T23:00:00",
          "2023-02-20T22:00:00",
          "2023-02-20T20:00:00",
          "2023-02-20T19:00:00",
          "2023-02-20T17:00:00",
          "2023-02-20T16:00:00",
          "2023-02-20T15:00:00",
          "2023-02-20T14:00:00",
          "2023-02-20T13:00:00",
          "2023-02-20T12:00:00",
          "2023-02-20T11:00:00",
          "2023-02-20T10:00:00",
          "2023-02-20T09:00:00",
          "2023-02-20T08:00:00",
          "2023-02-20T07:00:00",
          "2023-02-20T06:00:00",
          "2023-02-20T05:00:00",
          "2023-02-20T04:00:00",
          "2023-02-20T03:00:00",
          "2023-02-20T02:00:00",
          "2023-02-20T01:00:00",
          "2023-02-20T00:00:00",
          "2023-02-19T23:00:00",
          "2023-02-19T22:00:00",
          "2023-02-19T21:00:00",
          "2023-02-19T20:00:00",
          "2023-02-19T19:00:00",
          "2023-02-19T18:00:00",
          "2023-02-19T17:00:00",
          "2023-02-19T16:00:00",
          "2023-02-19T15:00:00",
          "2023-02-19T14:00:00",
          "2023-02-19T13:00:00",
          "2023-02-19T12:00:00",
          "2023-02-19T11:00:00",
          "2023-02-19T10:00:00",
          "2023-02-19T09:00:00",
          "2023-02-19T08:00:00",
          "2023-02-19T07:00:00",
          "2023-02-19T06:00:00",
          "2023-02-19T05:00:00",
          "2023-02-19T04:00:00",
          "2023-02-19T03:00:00",
          "2023-02-19T02:00:00",
          "2023-02-19T01:00:00",
          "2023-02-19T00:00:00",
          "2023-02-18T23:00:00",
          "2023-02-18T22:00:00",
          "2023-02-18T21:00:00",
          "2023-02-18T20:00:00",
          "2023-02-18T19:00:00",
          "2023-02-18T18:00:00",
          "2023-02-18T17:00:00",
          "2023-02-18T16:00:00",
          "2023-02-18T15:00:00",
          "2023-02-18T14:00:00",
          "2023-02-18T13:00:00",
          "2023-02-18T12:00:00",
          "2023-02-18T11:00:00",
          "2023-02-18T10:00:00",
          "2023-02-18T09:00:00",
          "2023-02-18T08:00:00",
          "2023-02-18T07:00:00",
          "2023-02-18T06:00:00",
          "2023-02-18T05:00:00",
          "2023-02-18T04:00:00",
          "2023-02-18T03:00:00",
          "2023-02-18T02:00:00",
          "2023-02-18T01:00:00",
          "2023-02-18T00:00:00",
          "2023-02-17T23:00:00",
          "2023-02-17T22:00:00",
          "2023-02-17T21:00:00",
          "2023-02-17T20:00:00",
          "2023-02-17T19:00:00",
          "2023-02-17T18:00:00",
          "2023-02-17T17:00:00",
          "2023-02-17T16:00:00",
          "2023-02-17T15:00:00",
          "2023-02-17T13:00:00",
          "2023-02-17T12:00:00",
          "2023-02-17T11:00:00",
          "2023-02-17T10:00:00",
          "2023-02-17T09:00:00",
          "2023-02-17T08:00:00",
          "2023-02-17T07:00:00",
          "2023-02-17T06:00:00",
          "2023-02-17T05:00:00",
          "2023-02-17T04:00:00",
          "2023-02-17T03:00:00",
          "2023-02-17T02:00:00",
          "2023-02-17T01:00:00",
          "2023-02-17T00:00:00",
          "2023-02-16T23:00:00",
          "2023-02-16T22:00:00",
          "2023-02-16T21:00:00",
          "2023-02-16T20:00:00",
          "2023-02-16T19:00:00",
          "2023-02-16T18:00:00",
          "2023-02-16T17:00:00",
          "2023-02-16T16:00:00",
          "2023-02-16T15:00:00",
          "2023-02-16T14:00:00",
          "2023-02-16T13:00:00",
          "2023-02-16T12:00:00",
          "2023-02-16T11:00:00",
          "2023-02-16T10:00:00",
          "2023-02-16T09:00:00",
          "2023-02-16T08:00:00",
          "2023-02-16T07:00:00",
          "2023-02-16T06:00:00",
          "2023-02-16T05:00:00",
          "2023-02-16T04:00:00",
          "2023-02-16T03:00:00",
          "2023-02-16T02:00:00",
          "2023-02-16T01:00:00",
          "2023-02-16T00:00:00",
          "2023-02-15T23:00:00",
          "2023-02-15T21:00:00",
          "2023-02-15T19:00:00",
          "2023-02-15T18:00:00"
         ],
         "y": [
          6,
          13,
          12,
          14,
          13,
          15,
          16,
          17,
          18,
          15,
          15,
          13,
          17,
          17,
          14,
          15,
          18,
          17,
          24,
          20,
          16,
          20,
          17,
          13,
          10,
          13,
          12,
          10,
          13,
          18,
          18,
          17,
          16,
          14,
          11,
          12,
          15,
          16,
          24,
          29,
          41,
          53,
          51,
          53,
          51,
          22,
          25,
          19,
          15,
          13,
          19,
          22,
          22,
          28,
          25,
          24,
          21,
          23,
          20,
          30,
          34,
          41,
          32,
          28,
          24,
          27,
          20,
          15,
          13,
          14,
          5,
          4,
          7,
          12,
          17,
          17,
          20,
          21,
          29,
          25,
          26,
          28,
          24,
          24,
          32,
          37,
          34,
          30,
          25,
          27,
          20,
          16,
          11,
          16,
          11,
          9,
          5,
          10,
          9,
          14,
          18,
          17,
          14,
          16,
          15,
          17,
          17,
          17,
          24,
          27,
          21,
          16,
          15,
          9,
          9,
          8,
          8,
          10,
          3,
          6,
          5,
          7,
          11,
          14,
          14,
          13,
          11,
          11,
          14,
          23,
          23,
          21,
          22,
          26,
          25,
          18,
          15,
          11,
          14,
          9,
          10,
          5,
          2,
          1,
          4,
          4,
          4,
          6,
          7,
          6,
          2,
          3,
          8,
          3,
          7,
          16,
          25,
          27,
          27,
          29,
          26,
          17,
          19,
          20,
          19,
          21,
          20,
          22,
          20,
          15,
          13,
          8,
          7,
          9,
          15,
          13,
          19,
          20,
          22,
          19,
          18,
          8,
          8,
          15,
          11,
          12,
          18,
          18,
          19,
          18,
          16,
          18,
          15,
          21,
          22,
          20,
          21,
          26,
          26,
          25,
          35,
          32,
          27,
          19,
          15,
          12,
          22,
          15,
          17,
          21,
          25,
          26,
          27,
          28,
          28,
          28,
          40,
          50,
          52,
          49,
          51,
          52,
          50,
          45,
          31,
          26,
          22,
          22,
          15,
          7,
          2,
          3,
          5,
          8,
          13,
          14,
          11,
          8,
          14,
          16,
          21,
          23,
          20,
          23,
          25,
          24,
          24,
          19,
          14,
          10,
          3,
          7,
          14,
          8,
          5,
          10,
          12,
          21,
          27,
          25,
          21,
          22,
          19,
          20,
          20,
          17,
          15,
          19,
          24,
          21,
          19,
          14,
          19,
          16,
          9,
          4,
          5,
          2,
          2,
          6,
          9,
          10,
          15,
          21,
          23,
          19,
          18,
          14,
          13,
          14,
          22,
          21,
          14,
          10,
          10,
          6,
          7,
          9,
          6,
          13,
          11,
          12,
          8,
          13,
          10,
          9,
          6,
          4,
          4,
          3,
          7,
          3,
          2,
          4,
          7,
          8,
          10,
          14,
          12,
          3,
          4,
          3,
          5,
          15,
          9,
          12,
          17,
          21,
          23,
          25,
          23,
          20,
          16,
          21,
          13,
          12
         ]
        }
       ],
       "layout": {
        "annotations": [
         {
          "font": {
           "size": 16
          },
          "showarrow": false,
          "text": "Total Vertical TBS",
          "x": 0.47,
          "xanchor": "center",
          "xref": "paper",
          "y": 1,
          "yanchor": "bottom",
          "yref": "paper"
         }
        ],
        "template": {
         "data": {
          "bar": [
           {
            "error_x": {
             "color": "#2a3f5f"
            },
            "error_y": {
             "color": "#2a3f5f"
            },
            "marker": {
             "line": {
              "color": "#E5ECF6",
              "width": 0.5
             },
             "pattern": {
              "fillmode": "overlay",
              "size": 10,
              "solidity": 0.2
             }
            },
            "type": "bar"
           }
          ],
          "barpolar": [
           {
            "marker": {
             "line": {
              "color": "#E5ECF6",
              "width": 0.5
             },
             "pattern": {
              "fillmode": "overlay",
              "size": 10,
              "solidity": 0.2
             }
            },
            "type": "barpolar"
           }
          ],
          "carpet": [
           {
            "aaxis": {
             "endlinecolor": "#2a3f5f",
             "gridcolor": "white",
             "linecolor": "white",
             "minorgridcolor": "white",
             "startlinecolor": "#2a3f5f"
            },
            "baxis": {
             "endlinecolor": "#2a3f5f",
             "gridcolor": "white",
             "linecolor": "white",
             "minorgridcolor": "white",
             "startlinecolor": "#2a3f5f"
            },
            "type": "carpet"
           }
          ],
          "choropleth": [
           {
            "colorbar": {
             "outlinewidth": 0,
             "ticks": ""
            },
            "type": "choropleth"
           }
          ],
          "contour": [
           {
            "colorbar": {
             "outlinewidth": 0,
             "ticks": ""
            },
            "colorscale": [
             [
              0,
              "#0d0887"
             ],
             [
              0.1111111111111111,
              "#46039f"
             ],
             [
              0.2222222222222222,
              "#7201a8"
             ],
             [
              0.3333333333333333,
              "#9c179e"
             ],
             [
              0.4444444444444444,
              "#bd3786"
             ],
             [
              0.5555555555555556,
              "#d8576b"
             ],
             [
              0.6666666666666666,
              "#ed7953"
             ],
             [
              0.7777777777777778,
              "#fb9f3a"
             ],
             [
              0.8888888888888888,
              "#fdca26"
             ],
             [
              1,
              "#f0f921"
             ]
            ],
            "type": "contour"
           }
          ],
          "contourcarpet": [
           {
            "colorbar": {
             "outlinewidth": 0,
             "ticks": ""
            },
            "type": "contourcarpet"
           }
          ],
          "heatmap": [
           {
            "colorbar": {
             "outlinewidth": 0,
             "ticks": ""
            },
            "colorscale": [
             [
              0,
              "#0d0887"
             ],
             [
              0.1111111111111111,
              "#46039f"
             ],
             [
              0.2222222222222222,
              "#7201a8"
             ],
             [
              0.3333333333333333,
              "#9c179e"
             ],
             [
              0.4444444444444444,
              "#bd3786"
             ],
             [
              0.5555555555555556,
              "#d8576b"
             ],
             [
              0.6666666666666666,
              "#ed7953"
             ],
             [
              0.7777777777777778,
              "#fb9f3a"
             ],
             [
              0.8888888888888888,
              "#fdca26"
             ],
             [
              1,
              "#f0f921"
             ]
            ],
            "type": "heatmap"
           }
          ],
          "heatmapgl": [
           {
            "colorbar": {
             "outlinewidth": 0,
             "ticks": ""
            },
            "colorscale": [
             [
              0,
              "#0d0887"
             ],
             [
              0.1111111111111111,
              "#46039f"
             ],
             [
              0.2222222222222222,
              "#7201a8"
             ],
             [
              0.3333333333333333,
              "#9c179e"
             ],
             [
              0.4444444444444444,
              "#bd3786"
             ],
             [
              0.5555555555555556,
              "#d8576b"
             ],
             [
              0.6666666666666666,
              "#ed7953"
             ],
             [
              0.7777777777777778,
              "#fb9f3a"
             ],
             [
              0.8888888888888888,
              "#fdca26"
             ],
             [
              1,
              "#f0f921"
             ]
            ],
            "type": "heatmapgl"
           }
          ],
          "histogram": [
           {
            "marker": {
             "pattern": {
              "fillmode": "overlay",
              "size": 10,
              "solidity": 0.2
             }
            },
            "type": "histogram"
           }
          ],
          "histogram2d": [
           {
            "colorbar": {
             "outlinewidth": 0,
             "ticks": ""
            },
            "colorscale": [
             [
              0,
              "#0d0887"
             ],
             [
              0.1111111111111111,
              "#46039f"
             ],
             [
              0.2222222222222222,
              "#7201a8"
             ],
             [
              0.3333333333333333,
              "#9c179e"
             ],
             [
              0.4444444444444444,
              "#bd3786"
             ],
             [
              0.5555555555555556,
              "#d8576b"
             ],
             [
              0.6666666666666666,
              "#ed7953"
             ],
             [
              0.7777777777777778,
              "#fb9f3a"
             ],
             [
              0.8888888888888888,
              "#fdca26"
             ],
             [
              1,
              "#f0f921"
             ]
            ],
            "type": "histogram2d"
           }
          ],
          "histogram2dcontour": [
           {
            "colorbar": {
             "outlinewidth": 0,
             "ticks": ""
            },
            "colorscale": [
             [
              0,
              "#0d0887"
             ],
             [
              0.1111111111111111,
              "#46039f"
             ],
             [
              0.2222222222222222,
              "#7201a8"
             ],
             [
              0.3333333333333333,
              "#9c179e"
             ],
             [
              0.4444444444444444,
              "#bd3786"
             ],
             [
              0.5555555555555556,
              "#d8576b"
             ],
             [
              0.6666666666666666,
              "#ed7953"
             ],
             [
              0.7777777777777778,
              "#fb9f3a"
             ],
             [
              0.8888888888888888,
              "#fdca26"
             ],
             [
              1,
              "#f0f921"
             ]
            ],
            "type": "histogram2dcontour"
           }
          ],
          "mesh3d": [
           {
            "colorbar": {
             "outlinewidth": 0,
             "ticks": ""
            },
            "type": "mesh3d"
           }
          ],
          "parcoords": [
           {
            "line": {
             "colorbar": {
              "outlinewidth": 0,
              "ticks": ""
             }
            },
            "type": "parcoords"
           }
          ],
          "pie": [
           {
            "automargin": true,
            "type": "pie"
           }
          ],
          "scatter": [
           {
            "fillpattern": {
             "fillmode": "overlay",
             "size": 10,
             "solidity": 0.2
            },
            "type": "scatter"
           }
          ],
          "scatter3d": [
           {
            "line": {
             "colorbar": {
              "outlinewidth": 0,
              "ticks": ""
             }
            },
            "marker": {
             "colorbar": {
              "outlinewidth": 0,
              "ticks": ""
             }
            },
            "type": "scatter3d"
           }
          ],
          "scattercarpet": [
           {
            "marker": {
             "colorbar": {
              "outlinewidth": 0,
              "ticks": ""
             }
            },
            "type": "scattercarpet"
           }
          ],
          "scattergeo": [
           {
            "marker": {
             "colorbar": {
              "outlinewidth": 0,
              "ticks": ""
             }
            },
            "type": "scattergeo"
           }
          ],
          "scattergl": [
           {
            "marker": {
             "colorbar": {
              "outlinewidth": 0,
              "ticks": ""
             }
            },
            "type": "scattergl"
           }
          ],
          "scattermapbox": [
           {
            "marker": {
             "colorbar": {
              "outlinewidth": 0,
              "ticks": ""
             }
            },
            "type": "scattermapbox"
           }
          ],
          "scatterpolar": [
           {
            "marker": {
             "colorbar": {
              "outlinewidth": 0,
              "ticks": ""
             }
            },
            "type": "scatterpolar"
           }
          ],
          "scatterpolargl": [
           {
            "marker": {
             "colorbar": {
              "outlinewidth": 0,
              "ticks": ""
             }
            },
            "type": "scatterpolargl"
           }
          ],
          "scatterternary": [
           {
            "marker": {
             "colorbar": {
              "outlinewidth": 0,
              "ticks": ""
             }
            },
            "type": "scatterternary"
           }
          ],
          "surface": [
           {
            "colorbar": {
             "outlinewidth": 0,
             "ticks": ""
            },
            "colorscale": [
             [
              0,
              "#0d0887"
             ],
             [
              0.1111111111111111,
              "#46039f"
             ],
             [
              0.2222222222222222,
              "#7201a8"
             ],
             [
              0.3333333333333333,
              "#9c179e"
             ],
             [
              0.4444444444444444,
              "#bd3786"
             ],
             [
              0.5555555555555556,
              "#d8576b"
             ],
             [
              0.6666666666666666,
              "#ed7953"
             ],
             [
              0.7777777777777778,
              "#fb9f3a"
             ],
             [
              0.8888888888888888,
              "#fdca26"
             ],
             [
              1,
              "#f0f921"
             ]
            ],
            "type": "surface"
           }
          ],
          "table": [
           {
            "cells": {
             "fill": {
              "color": "#EBF0F8"
             },
             "line": {
              "color": "white"
             }
            },
            "header": {
             "fill": {
              "color": "#C8D4E3"
             },
             "line": {
              "color": "white"
             }
            },
            "type": "table"
           }
          ]
         },
         "layout": {
          "annotationdefaults": {
           "arrowcolor": "#2a3f5f",
           "arrowhead": 0,
           "arrowwidth": 1
          },
          "autotypenumbers": "strict",
          "coloraxis": {
           "colorbar": {
            "outlinewidth": 0,
            "ticks": ""
           }
          },
          "colorscale": {
           "diverging": [
            [
             0,
             "#8e0152"
            ],
            [
             0.1,
             "#c51b7d"
            ],
            [
             0.2,
             "#de77ae"
            ],
            [
             0.3,
             "#f1b6da"
            ],
            [
             0.4,
             "#fde0ef"
            ],
            [
             0.5,
             "#f7f7f7"
            ],
            [
             0.6,
             "#e6f5d0"
            ],
            [
             0.7,
             "#b8e186"
            ],
            [
             0.8,
             "#7fbc41"
            ],
            [
             0.9,
             "#4d9221"
            ],
            [
             1,
             "#276419"
            ]
           ],
           "sequential": [
            [
             0,
             "#0d0887"
            ],
            [
             0.1111111111111111,
             "#46039f"
            ],
            [
             0.2222222222222222,
             "#7201a8"
            ],
            [
             0.3333333333333333,
             "#9c179e"
            ],
            [
             0.4444444444444444,
             "#bd3786"
            ],
            [
             0.5555555555555556,
             "#d8576b"
            ],
            [
             0.6666666666666666,
             "#ed7953"
            ],
            [
             0.7777777777777778,
             "#fb9f3a"
            ],
            [
             0.8888888888888888,
             "#fdca26"
            ],
            [
             1,
             "#f0f921"
            ]
           ],
           "sequentialminus": [
            [
             0,
             "#0d0887"
            ],
            [
             0.1111111111111111,
             "#46039f"
            ],
            [
             0.2222222222222222,
             "#7201a8"
            ],
            [
             0.3333333333333333,
             "#9c179e"
            ],
            [
             0.4444444444444444,
             "#bd3786"
            ],
            [
             0.5555555555555556,
             "#d8576b"
            ],
            [
             0.6666666666666666,
             "#ed7953"
            ],
            [
             0.7777777777777778,
             "#fb9f3a"
            ],
            [
             0.8888888888888888,
             "#fdca26"
            ],
            [
             1,
             "#f0f921"
            ]
           ]
          },
          "colorway": [
           "#636efa",
           "#EF553B",
           "#00cc96",
           "#ab63fa",
           "#FFA15A",
           "#19d3f3",
           "#FF6692",
           "#B6E880",
           "#FF97FF",
           "#FECB52"
          ],
          "font": {
           "color": "#2a3f5f"
          },
          "geo": {
           "bgcolor": "white",
           "lakecolor": "white",
           "landcolor": "#E5ECF6",
           "showlakes": true,
           "showland": true,
           "subunitcolor": "white"
          },
          "hoverlabel": {
           "align": "left"
          },
          "hovermode": "closest",
          "mapbox": {
           "style": "light"
          },
          "paper_bgcolor": "white",
          "plot_bgcolor": "#E5ECF6",
          "polar": {
           "angularaxis": {
            "gridcolor": "white",
            "linecolor": "white",
            "ticks": ""
           },
           "bgcolor": "#E5ECF6",
           "radialaxis": {
            "gridcolor": "white",
            "linecolor": "white",
            "ticks": ""
           }
          },
          "scene": {
           "xaxis": {
            "backgroundcolor": "#E5ECF6",
            "gridcolor": "white",
            "gridwidth": 2,
            "linecolor": "white",
            "showbackground": true,
            "ticks": "",
            "zerolinecolor": "white"
           },
           "yaxis": {
            "backgroundcolor": "#E5ECF6",
            "gridcolor": "white",
            "gridwidth": 2,
            "linecolor": "white",
            "showbackground": true,
            "ticks": "",
            "zerolinecolor": "white"
           },
           "zaxis": {
            "backgroundcolor": "#E5ECF6",
            "gridcolor": "white",
            "gridwidth": 2,
            "linecolor": "white",
            "showbackground": true,
            "ticks": "",
            "zerolinecolor": "white"
           }
          },
          "shapedefaults": {
           "line": {
            "color": "#2a3f5f"
           }
          },
          "ternary": {
           "aaxis": {
            "gridcolor": "white",
            "linecolor": "white",
            "ticks": ""
           },
           "baxis": {
            "gridcolor": "white",
            "linecolor": "white",
            "ticks": ""
           },
           "bgcolor": "#E5ECF6",
           "caxis": {
            "gridcolor": "white",
            "linecolor": "white",
            "ticks": ""
           }
          },
          "title": {
           "x": 0.05
          },
          "xaxis": {
           "automargin": true,
           "gridcolor": "white",
           "linecolor": "white",
           "ticks": "",
           "title": {
            "standoff": 15
           },
           "zerolinecolor": "white",
           "zerolinewidth": 2
          },
          "yaxis": {
           "automargin": true,
           "gridcolor": "white",
           "linecolor": "white",
           "ticks": "",
           "title": {
            "standoff": 15
           },
           "zerolinecolor": "white",
           "zerolinewidth": 2
          }
         }
        },
        "xaxis": {
         "anchor": "y",
         "domain": [
          0,
          0.94
         ],
         "range": [
          "2023-03-02T02:00:00",
          "2023-03-02T09:00:00"
         ]
        },
        "yaxis": {
         "anchor": "x",
         "domain": [
          0,
          1
         ],
         "range": [
          0,
          41.5841757559865
         ]
        },
        "yaxis2": {
         "anchor": "x",
         "overlaying": "y",
         "range": [
          0,
          41.5841757559865
         ],
         "side": "right"
        }
       }
      }
     },
     "metadata": {},
     "output_type": "display_data"
    }
   ],
   "source": [
    "def create_fig(df, forecast, metric):\n",
    "\n",
    "    fig = make_subplots(\n",
    "        specs=[[{\"secondary_y\": True}]], subplot_titles=[metric])\n",
    "\n",
    "\n",
    "    fig.add_trace(go.Scatter(x=forecast.ds, y=forecast\n",
    "                              [metric+'_yhat'], mode='lines', name='Total Vertical TBS (expected)', showlegend=False, line=dict(color='blue', width=1, dash='dot'),fill='tozeroy', fillcolor='lightgreen'))\n",
    "    fig.add_trace(go.Scatter(x=forecast.ds, y=forecast\n",
    "                              [metric+'_yhat_upper'], mode='lines', name='Total Vertical TBS (expected)', showlegend=False, line=dict(color='blue', width=1, dash='dot'), fill='tonexty', fillcolor='lightyellow'))\n",
    "    fig.add_trace(go.Scatter(x=forecast.ds, y=forecast\n",
    "                              [metric+'_yhat_upper']*10, mode='lines', name='Total Vertical TBS (expected)', showlegend=False, line=dict(color='blue', width=1, dash='dot'), fill='tonexty', fillcolor='lightpink'))\n",
    "    fig.add_trace(go.Scatter(x=forecast.ds, y=forecast\n",
    "                              [metric+'_yhat_lower'], mode='lines', name='Total Vertical TBS (expected)', showlegend=False, line=dict(color='blue', width=1, dash='dot')))\n",
    "\n",
    "    fig.add_trace(go.Scatter(x=df.ds, y=df\n",
    "                              [metric], mode='markers', name=metric, showlegend=False, line=dict(color='red', width=2)))\n",
    "    \n",
    "\n",
    "    \n",
    "    # fig.add_trace(go.Scatter(x=verticalTBS_forecast.ds, y=verticalTBS_forecast.verticalTBS, mode='lines',\n",
    "    #                           name='Total Inflow', showlegend=False,\n",
    "    #                           line=dict(color='green', width=2, dash='dot')\n",
    "    #                           ))\n",
    "\n",
    "    # fig.update_yaxes(title_text=\"Total\", secondary_y=False, range=[0, max(\n",
    "    #     df[df.Date == current.Date]['Total Vertical TBS'].max(), todays_forecast['Total Vertical TBS_yhat_upper'].max())+1])\n",
    "    # fig.show()\n",
    "    fig.update_xaxes(range=[df.head(8).ds.min(), df.head(8).ds.max()])\n",
    "    fig.update_yaxes(range=[0, max(df.head(8)[metric].max()*1.2, forecast.head(8)[metric+'_yhat_upper'].max()*1.2)])\n",
    "\n",
    "    fig.write_image(\"../images/{}.png\".format(metric))\n",
    "    return fig\n",
    "create_fig(df,forecast,'Total Vertical TBS')"
   ]
  },
  {
   "cell_type": "code",
   "execution_count": 14,
   "metadata": {},
   "outputs": [
    {
     "data": {
      "text/html": [
       "<div>\n",
       "<style scoped>\n",
       "    .dataframe tbody tr th:only-of-type {\n",
       "        vertical-align: middle;\n",
       "    }\n",
       "\n",
       "    .dataframe tbody tr th {\n",
       "        vertical-align: top;\n",
       "    }\n",
       "\n",
       "    .dataframe thead th {\n",
       "        text-align: right;\n",
       "    }\n",
       "</style>\n",
       "<table border=\"1\" class=\"dataframe\">\n",
       "  <thead>\n",
       "    <tr style=\"text-align: right;\">\n",
       "      <th></th>\n",
       "      <th>ds</th>\n",
       "      <th>Stretcher Pts hrly_yhat</th>\n",
       "      <th>Stretcher Pts hrly_yhat_lower</th>\n",
       "      <th>Stretcher Pts hrly_yhat_upper</th>\n",
       "      <th>Stretcher Pts cum_yhat</th>\n",
       "      <th>Stretcher Pts cum_yhat_lower</th>\n",
       "      <th>Stretcher Pts cum_yhat_upper</th>\n",
       "      <th>Ambulatory Pts hrly_yhat</th>\n",
       "      <th>Ambulatory Pts hrly_yhat_lower</th>\n",
       "      <th>Ambulatory Pts hrly_yhat_upper</th>\n",
       "      <th>...</th>\n",
       "      <th>Psych pts waiting for admission_yhat_upper</th>\n",
       "      <th>Total Pod TBS_yhat</th>\n",
       "      <th>Total Pod TBS_yhat_lower</th>\n",
       "      <th>Total Pod TBS_yhat_upper</th>\n",
       "      <th>Total Vertical TBS_yhat</th>\n",
       "      <th>Total Vertical TBS_yhat_lower</th>\n",
       "      <th>Total Vertical TBS_yhat_upper</th>\n",
       "      <th>Stretcher Overflow_yhat</th>\n",
       "      <th>Stretcher Overflow_yhat_lower</th>\n",
       "      <th>Stretcher Overflow_yhat_upper</th>\n",
       "    </tr>\n",
       "  </thead>\n",
       "  <tbody>\n",
       "    <tr>\n",
       "      <th>0</th>\n",
       "      <td>2023-02-23 02:00:00</td>\n",
       "      <td>3.418969</td>\n",
       "      <td>-1.242138</td>\n",
       "      <td>7.966199</td>\n",
       "      <td>21.815650</td>\n",
       "      <td>-11.384675</td>\n",
       "      <td>57.044902</td>\n",
       "      <td>1.484643</td>\n",
       "      <td>-2.988214</td>\n",
       "      <td>5.730416</td>\n",
       "      <td>...</td>\n",
       "      <td>16.408481</td>\n",
       "      <td>3.223806</td>\n",
       "      <td>-0.503948</td>\n",
       "      <td>6.791148</td>\n",
       "      <td>18.550559</td>\n",
       "      <td>6.877320</td>\n",
       "      <td>30.618279</td>\n",
       "      <td>3.243475</td>\n",
       "      <td>-1.627947</td>\n",
       "      <td>8.657441</td>\n",
       "    </tr>\n",
       "    <tr>\n",
       "      <th>1</th>\n",
       "      <td>2023-02-23 03:00:00</td>\n",
       "      <td>3.134827</td>\n",
       "      <td>-1.357636</td>\n",
       "      <td>7.793733</td>\n",
       "      <td>9.906050</td>\n",
       "      <td>-23.051796</td>\n",
       "      <td>42.189971</td>\n",
       "      <td>1.290169</td>\n",
       "      <td>-3.521691</td>\n",
       "      <td>5.914735</td>\n",
       "      <td>...</td>\n",
       "      <td>16.609178</td>\n",
       "      <td>2.808972</td>\n",
       "      <td>-0.698362</td>\n",
       "      <td>6.438995</td>\n",
       "      <td>17.186915</td>\n",
       "      <td>5.980622</td>\n",
       "      <td>29.306572</td>\n",
       "      <td>3.166739</td>\n",
       "      <td>-1.762101</td>\n",
       "      <td>7.992875</td>\n",
       "    </tr>\n",
       "    <tr>\n",
       "      <th>2</th>\n",
       "      <td>2023-02-23 04:00:00</td>\n",
       "      <td>2.933999</td>\n",
       "      <td>-1.769607</td>\n",
       "      <td>7.540554</td>\n",
       "      <td>16.545438</td>\n",
       "      <td>-16.436094</td>\n",
       "      <td>50.375716</td>\n",
       "      <td>0.957283</td>\n",
       "      <td>-3.349226</td>\n",
       "      <td>5.549052</td>\n",
       "      <td>...</td>\n",
       "      <td>16.554438</td>\n",
       "      <td>2.460375</td>\n",
       "      <td>-1.053693</td>\n",
       "      <td>5.948844</td>\n",
       "      <td>15.393905</td>\n",
       "      <td>3.501284</td>\n",
       "      <td>27.113308</td>\n",
       "      <td>3.148616</td>\n",
       "      <td>-2.326797</td>\n",
       "      <td>8.480181</td>\n",
       "    </tr>\n",
       "    <tr>\n",
       "      <th>3</th>\n",
       "      <td>2023-02-23 05:00:00</td>\n",
       "      <td>2.857679</td>\n",
       "      <td>-1.584774</td>\n",
       "      <td>7.300451</td>\n",
       "      <td>28.104105</td>\n",
       "      <td>-4.661399</td>\n",
       "      <td>61.596412</td>\n",
       "      <td>0.674116</td>\n",
       "      <td>-3.659927</td>\n",
       "      <td>4.872245</td>\n",
       "      <td>...</td>\n",
       "      <td>16.600104</td>\n",
       "      <td>2.223233</td>\n",
       "      <td>-1.468461</td>\n",
       "      <td>5.858159</td>\n",
       "      <td>13.986534</td>\n",
       "      <td>2.510853</td>\n",
       "      <td>25.728911</td>\n",
       "      <td>3.170779</td>\n",
       "      <td>-1.560839</td>\n",
       "      <td>8.117816</td>\n",
       "    </tr>\n",
       "    <tr>\n",
       "      <th>4</th>\n",
       "      <td>2023-02-23 06:00:00</td>\n",
       "      <td>3.103320</td>\n",
       "      <td>-1.405723</td>\n",
       "      <td>7.684959</td>\n",
       "      <td>32.989692</td>\n",
       "      <td>-1.525256</td>\n",
       "      <td>67.574876</td>\n",
       "      <td>0.915262</td>\n",
       "      <td>-3.067979</td>\n",
       "      <td>5.144990</td>\n",
       "      <td>...</td>\n",
       "      <td>16.770013</td>\n",
       "      <td>2.122048</td>\n",
       "      <td>-1.742372</td>\n",
       "      <td>5.607234</td>\n",
       "      <td>13.642796</td>\n",
       "      <td>2.088819</td>\n",
       "      <td>25.547805</td>\n",
       "      <td>3.215802</td>\n",
       "      <td>-1.869722</td>\n",
       "      <td>8.015915</td>\n",
       "    </tr>\n",
       "    <tr>\n",
       "      <th>5</th>\n",
       "      <td>2023-02-23 07:00:00</td>\n",
       "      <td>3.882899</td>\n",
       "      <td>-0.459944</td>\n",
       "      <td>8.350034</td>\n",
       "      <td>30.456641</td>\n",
       "      <td>-1.778928</td>\n",
       "      <td>64.466180</td>\n",
       "      <td>2.062028</td>\n",
       "      <td>-2.285576</td>\n",
       "      <td>6.842084</td>\n",
       "      <td>...</td>\n",
       "      <td>16.895851</td>\n",
       "      <td>2.165556</td>\n",
       "      <td>-1.384211</td>\n",
       "      <td>5.908704</td>\n",
       "      <td>14.393502</td>\n",
       "      <td>1.804528</td>\n",
       "      <td>26.524248</td>\n",
       "      <td>3.274546</td>\n",
       "      <td>-1.821891</td>\n",
       "      <td>8.315112</td>\n",
       "    </tr>\n",
       "    <tr>\n",
       "      <th>6</th>\n",
       "      <td>2023-02-23 11:00:00</td>\n",
       "      <td>9.575749</td>\n",
       "      <td>5.090610</td>\n",
       "      <td>14.145181</td>\n",
       "      <td>57.610989</td>\n",
       "      <td>22.836231</td>\n",
       "      <td>90.839983</td>\n",
       "      <td>8.054878</td>\n",
       "      <td>3.352307</td>\n",
       "      <td>12.625710</td>\n",
       "      <td>...</td>\n",
       "      <td>16.968096</td>\n",
       "      <td>3.639458</td>\n",
       "      <td>0.012698</td>\n",
       "      <td>7.109836</td>\n",
       "      <td>18.942336</td>\n",
       "      <td>7.490764</td>\n",
       "      <td>30.687260</td>\n",
       "      <td>3.752407</td>\n",
       "      <td>-1.000858</td>\n",
       "      <td>8.846721</td>\n",
       "    </tr>\n",
       "    <tr>\n",
       "      <th>7</th>\n",
       "      <td>2023-02-23 13:00:00</td>\n",
       "      <td>10.191752</td>\n",
       "      <td>5.327370</td>\n",
       "      <td>14.539552</td>\n",
       "      <td>67.962201</td>\n",
       "      <td>33.748760</td>\n",
       "      <td>104.117072</td>\n",
       "      <td>7.099823</td>\n",
       "      <td>2.674519</td>\n",
       "      <td>11.494207</td>\n",
       "      <td>...</td>\n",
       "      <td>15.768831</td>\n",
       "      <td>4.532566</td>\n",
       "      <td>0.856500</td>\n",
       "      <td>8.069716</td>\n",
       "      <td>22.888977</td>\n",
       "      <td>11.554220</td>\n",
       "      <td>34.653480</td>\n",
       "      <td>4.556502</td>\n",
       "      <td>-0.266222</td>\n",
       "      <td>9.539976</td>\n",
       "    </tr>\n",
       "  </tbody>\n",
       "</table>\n",
       "<p>8 rows × 145 columns</p>\n",
       "</div>"
      ],
      "text/plain": [
       "                   ds  Stretcher Pts hrly_yhat  Stretcher Pts hrly_yhat_lower  \\\n",
       "0 2023-02-23 02:00:00                 3.418969                      -1.242138   \n",
       "1 2023-02-23 03:00:00                 3.134827                      -1.357636   \n",
       "2 2023-02-23 04:00:00                 2.933999                      -1.769607   \n",
       "3 2023-02-23 05:00:00                 2.857679                      -1.584774   \n",
       "4 2023-02-23 06:00:00                 3.103320                      -1.405723   \n",
       "5 2023-02-23 07:00:00                 3.882899                      -0.459944   \n",
       "6 2023-02-23 11:00:00                 9.575749                       5.090610   \n",
       "7 2023-02-23 13:00:00                10.191752                       5.327370   \n",
       "\n",
       "   Stretcher Pts hrly_yhat_upper  Stretcher Pts cum_yhat  \\\n",
       "0                       7.966199               21.815650   \n",
       "1                       7.793733                9.906050   \n",
       "2                       7.540554               16.545438   \n",
       "3                       7.300451               28.104105   \n",
       "4                       7.684959               32.989692   \n",
       "5                       8.350034               30.456641   \n",
       "6                      14.145181               57.610989   \n",
       "7                      14.539552               67.962201   \n",
       "\n",
       "   Stretcher Pts cum_yhat_lower  Stretcher Pts cum_yhat_upper  \\\n",
       "0                    -11.384675                     57.044902   \n",
       "1                    -23.051796                     42.189971   \n",
       "2                    -16.436094                     50.375716   \n",
       "3                     -4.661399                     61.596412   \n",
       "4                     -1.525256                     67.574876   \n",
       "5                     -1.778928                     64.466180   \n",
       "6                     22.836231                     90.839983   \n",
       "7                     33.748760                    104.117072   \n",
       "\n",
       "   Ambulatory Pts hrly_yhat  Ambulatory Pts hrly_yhat_lower  \\\n",
       "0                  1.484643                       -2.988214   \n",
       "1                  1.290169                       -3.521691   \n",
       "2                  0.957283                       -3.349226   \n",
       "3                  0.674116                       -3.659927   \n",
       "4                  0.915262                       -3.067979   \n",
       "5                  2.062028                       -2.285576   \n",
       "6                  8.054878                        3.352307   \n",
       "7                  7.099823                        2.674519   \n",
       "\n",
       "   Ambulatory Pts hrly_yhat_upper  ...  \\\n",
       "0                        5.730416  ...   \n",
       "1                        5.914735  ...   \n",
       "2                        5.549052  ...   \n",
       "3                        4.872245  ...   \n",
       "4                        5.144990  ...   \n",
       "5                        6.842084  ...   \n",
       "6                       12.625710  ...   \n",
       "7                       11.494207  ...   \n",
       "\n",
       "   Psych pts waiting for admission_yhat_upper  Total Pod TBS_yhat  \\\n",
       "0                                   16.408481            3.223806   \n",
       "1                                   16.609178            2.808972   \n",
       "2                                   16.554438            2.460375   \n",
       "3                                   16.600104            2.223233   \n",
       "4                                   16.770013            2.122048   \n",
       "5                                   16.895851            2.165556   \n",
       "6                                   16.968096            3.639458   \n",
       "7                                   15.768831            4.532566   \n",
       "\n",
       "   Total Pod TBS_yhat_lower  Total Pod TBS_yhat_upper  \\\n",
       "0                 -0.503948                  6.791148   \n",
       "1                 -0.698362                  6.438995   \n",
       "2                 -1.053693                  5.948844   \n",
       "3                 -1.468461                  5.858159   \n",
       "4                 -1.742372                  5.607234   \n",
       "5                 -1.384211                  5.908704   \n",
       "6                  0.012698                  7.109836   \n",
       "7                  0.856500                  8.069716   \n",
       "\n",
       "   Total Vertical TBS_yhat  Total Vertical TBS_yhat_lower  \\\n",
       "0                18.550559                       6.877320   \n",
       "1                17.186915                       5.980622   \n",
       "2                15.393905                       3.501284   \n",
       "3                13.986534                       2.510853   \n",
       "4                13.642796                       2.088819   \n",
       "5                14.393502                       1.804528   \n",
       "6                18.942336                       7.490764   \n",
       "7                22.888977                      11.554220   \n",
       "\n",
       "   Total Vertical TBS_yhat_upper  Stretcher Overflow_yhat  \\\n",
       "0                      30.618279                 3.243475   \n",
       "1                      29.306572                 3.166739   \n",
       "2                      27.113308                 3.148616   \n",
       "3                      25.728911                 3.170779   \n",
       "4                      25.547805                 3.215802   \n",
       "5                      26.524248                 3.274546   \n",
       "6                      30.687260                 3.752407   \n",
       "7                      34.653480                 4.556502   \n",
       "\n",
       "   Stretcher Overflow_yhat_lower  Stretcher Overflow_yhat_upper  \n",
       "0                      -1.627947                       8.657441  \n",
       "1                      -1.762101                       7.992875  \n",
       "2                      -2.326797                       8.480181  \n",
       "3                      -1.560839                       8.117816  \n",
       "4                      -1.869722                       8.015915  \n",
       "5                      -1.821891                       8.315112  \n",
       "6                      -1.000858                       8.846721  \n",
       "7                      -0.266222                       9.539976  \n",
       "\n",
       "[8 rows x 145 columns]"
      ]
     },
     "execution_count": 14,
     "metadata": {},
     "output_type": "execute_result"
    }
   ],
   "source": [
    "forecast.head(8)"
   ]
  },
  {
   "cell_type": "code",
   "execution_count": 1,
   "metadata": {},
   "outputs": [],
   "source": [
    "import pandas as pd"
   ]
  },
  {
   "cell_type": "code",
   "execution_count": 15,
   "metadata": {},
   "outputs": [
    {
     "data": {
      "text/html": [
       "<div>\n",
       "<style scoped>\n",
       "    .dataframe tbody tr th:only-of-type {\n",
       "        vertical-align: middle;\n",
       "    }\n",
       "\n",
       "    .dataframe tbody tr th {\n",
       "        vertical-align: top;\n",
       "    }\n",
       "\n",
       "    .dataframe thead th {\n",
       "        text-align: right;\n",
       "    }\n",
       "</style>\n",
       "<table border=\"1\" class=\"dataframe\">\n",
       "  <thead>\n",
       "    <tr style=\"text-align: right;\">\n",
       "      <th></th>\n",
       "      <th>Date</th>\n",
       "      <th>Time</th>\n",
       "      <th>Stretcher Pts hrly</th>\n",
       "      <th>Stretcher Pts cum</th>\n",
       "      <th>Ambulatory Pts hrly</th>\n",
       "      <th>Ambulatory Pts cum</th>\n",
       "      <th>Total Inflow hrly</th>\n",
       "      <th>Total Inflow cum</th>\n",
       "      <th>Ambulances hrly</th>\n",
       "      <th>Ambulances cum</th>\n",
       "      <th>...</th>\n",
       "      <th>Consults &gt; 2h in Vertical Except IM</th>\n",
       "      <th>Consult for IM &gt;4h in Vertical</th>\n",
       "      <th>Plain films reqs &gt; 2 hr in Vertical</th>\n",
       "      <th>CTs reqs &gt; 2 hrs in Vertical</th>\n",
       "      <th>Psych Stretcher Pts1pt</th>\n",
       "      <th>Psych pts waiting for admission</th>\n",
       "      <th>ds</th>\n",
       "      <th>Total Pod TBS</th>\n",
       "      <th>Total Vertical TBS</th>\n",
       "      <th>Stretcher Overflow</th>\n",
       "    </tr>\n",
       "  </thead>\n",
       "  <tbody>\n",
       "    <tr>\n",
       "      <th>0</th>\n",
       "      <td>03/02/23</td>\n",
       "      <td>9</td>\n",
       "      <td>6</td>\n",
       "      <td>30</td>\n",
       "      <td>7</td>\n",
       "      <td>19</td>\n",
       "      <td>13</td>\n",
       "      <td>49</td>\n",
       "      <td>1</td>\n",
       "      <td>11</td>\n",
       "      <td>...</td>\n",
       "      <td>1</td>\n",
       "      <td>0</td>\n",
       "      <td>0</td>\n",
       "      <td>3</td>\n",
       "      <td>19</td>\n",
       "      <td>16</td>\n",
       "      <td>2023-03-02 09:00:00</td>\n",
       "      <td>5</td>\n",
       "      <td>6</td>\n",
       "      <td>4</td>\n",
       "    </tr>\n",
       "    <tr>\n",
       "      <th>1</th>\n",
       "      <td>03/02/23</td>\n",
       "      <td>8</td>\n",
       "      <td>5</td>\n",
       "      <td>24</td>\n",
       "      <td>5</td>\n",
       "      <td>12</td>\n",
       "      <td>10</td>\n",
       "      <td>36</td>\n",
       "      <td>2</td>\n",
       "      <td>10</td>\n",
       "      <td>...</td>\n",
       "      <td>1</td>\n",
       "      <td>0</td>\n",
       "      <td>0</td>\n",
       "      <td>4</td>\n",
       "      <td>19</td>\n",
       "      <td>16</td>\n",
       "      <td>2023-03-02 08:00:00</td>\n",
       "      <td>5</td>\n",
       "      <td>13</td>\n",
       "      <td>4</td>\n",
       "    </tr>\n",
       "    <tr>\n",
       "      <th>2</th>\n",
       "      <td>03/02/23</td>\n",
       "      <td>7</td>\n",
       "      <td>3</td>\n",
       "      <td>19</td>\n",
       "      <td>2</td>\n",
       "      <td>7</td>\n",
       "      <td>5</td>\n",
       "      <td>26</td>\n",
       "      <td>2</td>\n",
       "      <td>8</td>\n",
       "      <td>...</td>\n",
       "      <td>4</td>\n",
       "      <td>0</td>\n",
       "      <td>3</td>\n",
       "      <td>4</td>\n",
       "      <td>19</td>\n",
       "      <td>14</td>\n",
       "      <td>2023-03-02 07:00:00</td>\n",
       "      <td>3</td>\n",
       "      <td>12</td>\n",
       "      <td>5</td>\n",
       "    </tr>\n",
       "    <tr>\n",
       "      <th>3</th>\n",
       "      <td>03/02/23</td>\n",
       "      <td>6</td>\n",
       "      <td>2</td>\n",
       "      <td>16</td>\n",
       "      <td>1</td>\n",
       "      <td>5</td>\n",
       "      <td>3</td>\n",
       "      <td>21</td>\n",
       "      <td>1</td>\n",
       "      <td>6</td>\n",
       "      <td>...</td>\n",
       "      <td>2</td>\n",
       "      <td>0</td>\n",
       "      <td>0</td>\n",
       "      <td>0</td>\n",
       "      <td>19</td>\n",
       "      <td>13</td>\n",
       "      <td>2023-03-02 06:00:00</td>\n",
       "      <td>1</td>\n",
       "      <td>14</td>\n",
       "      <td>5</td>\n",
       "    </tr>\n",
       "    <tr>\n",
       "      <th>4</th>\n",
       "      <td>03/02/23</td>\n",
       "      <td>5</td>\n",
       "      <td>1</td>\n",
       "      <td>14</td>\n",
       "      <td>1</td>\n",
       "      <td>4</td>\n",
       "      <td>2</td>\n",
       "      <td>18</td>\n",
       "      <td>1</td>\n",
       "      <td>5</td>\n",
       "      <td>...</td>\n",
       "      <td>2</td>\n",
       "      <td>0</td>\n",
       "      <td>0</td>\n",
       "      <td>0</td>\n",
       "      <td>19</td>\n",
       "      <td>13</td>\n",
       "      <td>2023-03-02 05:00:00</td>\n",
       "      <td>3</td>\n",
       "      <td>13</td>\n",
       "      <td>4</td>\n",
       "    </tr>\n",
       "    <tr>\n",
       "      <th>5</th>\n",
       "      <td>03/02/23</td>\n",
       "      <td>4</td>\n",
       "      <td>3</td>\n",
       "      <td>13</td>\n",
       "      <td>0</td>\n",
       "      <td>3</td>\n",
       "      <td>3</td>\n",
       "      <td>16</td>\n",
       "      <td>0</td>\n",
       "      <td>4</td>\n",
       "      <td>...</td>\n",
       "      <td>3</td>\n",
       "      <td>0</td>\n",
       "      <td>0</td>\n",
       "      <td>2</td>\n",
       "      <td>19</td>\n",
       "      <td>13</td>\n",
       "      <td>2023-03-02 04:00:00</td>\n",
       "      <td>3</td>\n",
       "      <td>15</td>\n",
       "      <td>1</td>\n",
       "    </tr>\n",
       "    <tr>\n",
       "      <th>6</th>\n",
       "      <td>03/02/23</td>\n",
       "      <td>3</td>\n",
       "      <td>0</td>\n",
       "      <td>10</td>\n",
       "      <td>0</td>\n",
       "      <td>3</td>\n",
       "      <td>0</td>\n",
       "      <td>13</td>\n",
       "      <td>0</td>\n",
       "      <td>4</td>\n",
       "      <td>...</td>\n",
       "      <td>3</td>\n",
       "      <td>0</td>\n",
       "      <td>0</td>\n",
       "      <td>1</td>\n",
       "      <td>19</td>\n",
       "      <td>13</td>\n",
       "      <td>2023-03-02 03:00:00</td>\n",
       "      <td>4</td>\n",
       "      <td>16</td>\n",
       "      <td>0</td>\n",
       "    </tr>\n",
       "    <tr>\n",
       "      <th>7</th>\n",
       "      <td>03/02/23</td>\n",
       "      <td>2</td>\n",
       "      <td>3</td>\n",
       "      <td>10</td>\n",
       "      <td>2</td>\n",
       "      <td>3</td>\n",
       "      <td>5</td>\n",
       "      <td>13</td>\n",
       "      <td>2</td>\n",
       "      <td>4</td>\n",
       "      <td>...</td>\n",
       "      <td>1</td>\n",
       "      <td>0</td>\n",
       "      <td>0</td>\n",
       "      <td>2</td>\n",
       "      <td>18</td>\n",
       "      <td>13</td>\n",
       "      <td>2023-03-02 02:00:00</td>\n",
       "      <td>8</td>\n",
       "      <td>17</td>\n",
       "      <td>0</td>\n",
       "    </tr>\n",
       "    <tr>\n",
       "      <th>8</th>\n",
       "      <td>03/02/23</td>\n",
       "      <td>1</td>\n",
       "      <td>6</td>\n",
       "      <td>6</td>\n",
       "      <td>2</td>\n",
       "      <td>2</td>\n",
       "      <td>8</td>\n",
       "      <td>8</td>\n",
       "      <td>2</td>\n",
       "      <td>2</td>\n",
       "      <td>...</td>\n",
       "      <td>1</td>\n",
       "      <td>0</td>\n",
       "      <td>0</td>\n",
       "      <td>2</td>\n",
       "      <td>17</td>\n",
       "      <td>13</td>\n",
       "      <td>2023-03-02 01:00:00</td>\n",
       "      <td>6</td>\n",
       "      <td>18</td>\n",
       "      <td>0</td>\n",
       "    </tr>\n",
       "    <tr>\n",
       "      <th>9</th>\n",
       "      <td>03/01/23</td>\n",
       "      <td>24</td>\n",
       "      <td>2</td>\n",
       "      <td>151</td>\n",
       "      <td>3</td>\n",
       "      <td>91</td>\n",
       "      <td>5</td>\n",
       "      <td>242</td>\n",
       "      <td>1</td>\n",
       "      <td>37</td>\n",
       "      <td>...</td>\n",
       "      <td>1</td>\n",
       "      <td>0</td>\n",
       "      <td>0</td>\n",
       "      <td>1</td>\n",
       "      <td>17</td>\n",
       "      <td>13</td>\n",
       "      <td>2023-03-02 00:00:00</td>\n",
       "      <td>4</td>\n",
       "      <td>15</td>\n",
       "      <td>0</td>\n",
       "    </tr>\n",
       "    <tr>\n",
       "      <th>10</th>\n",
       "      <td>03/01/23</td>\n",
       "      <td>23</td>\n",
       "      <td>7</td>\n",
       "      <td>149</td>\n",
       "      <td>3</td>\n",
       "      <td>88</td>\n",
       "      <td>10</td>\n",
       "      <td>237</td>\n",
       "      <td>1</td>\n",
       "      <td>36</td>\n",
       "      <td>...</td>\n",
       "      <td>0</td>\n",
       "      <td>0</td>\n",
       "      <td>0</td>\n",
       "      <td>1</td>\n",
       "      <td>17</td>\n",
       "      <td>13</td>\n",
       "      <td>2023-03-01 23:00:00</td>\n",
       "      <td>1</td>\n",
       "      <td>15</td>\n",
       "      <td>0</td>\n",
       "    </tr>\n",
       "    <tr>\n",
       "      <th>11</th>\n",
       "      <td>03/01/23</td>\n",
       "      <td>22</td>\n",
       "      <td>5</td>\n",
       "      <td>142</td>\n",
       "      <td>4</td>\n",
       "      <td>85</td>\n",
       "      <td>9</td>\n",
       "      <td>227</td>\n",
       "      <td>3</td>\n",
       "      <td>35</td>\n",
       "      <td>...</td>\n",
       "      <td>0</td>\n",
       "      <td>0</td>\n",
       "      <td>0</td>\n",
       "      <td>2</td>\n",
       "      <td>17</td>\n",
       "      <td>13</td>\n",
       "      <td>2023-03-01 22:00:00</td>\n",
       "      <td>4</td>\n",
       "      <td>13</td>\n",
       "      <td>0</td>\n",
       "    </tr>\n",
       "  </tbody>\n",
       "</table>\n",
       "<p>12 rows × 51 columns</p>\n",
       "</div>"
      ],
      "text/plain": [
       "        Date  Time  Stretcher Pts hrly  Stretcher Pts cum  \\\n",
       "0   03/02/23     9                   6                 30   \n",
       "1   03/02/23     8                   5                 24   \n",
       "2   03/02/23     7                   3                 19   \n",
       "3   03/02/23     6                   2                 16   \n",
       "4   03/02/23     5                   1                 14   \n",
       "5   03/02/23     4                   3                 13   \n",
       "6   03/02/23     3                   0                 10   \n",
       "7   03/02/23     2                   3                 10   \n",
       "8   03/02/23     1                   6                  6   \n",
       "9   03/01/23    24                   2                151   \n",
       "10  03/01/23    23                   7                149   \n",
       "11  03/01/23    22                   5                142   \n",
       "\n",
       "    Ambulatory Pts hrly  Ambulatory Pts cum  Total Inflow hrly  \\\n",
       "0                     7                  19                 13   \n",
       "1                     5                  12                 10   \n",
       "2                     2                   7                  5   \n",
       "3                     1                   5                  3   \n",
       "4                     1                   4                  2   \n",
       "5                     0                   3                  3   \n",
       "6                     0                   3                  0   \n",
       "7                     2                   3                  5   \n",
       "8                     2                   2                  8   \n",
       "9                     3                  91                  5   \n",
       "10                    3                  88                 10   \n",
       "11                    4                  85                  9   \n",
       "\n",
       "    Total Inflow cum  Ambulances hrly  Ambulances cum  ...  \\\n",
       "0                 49                1              11  ...   \n",
       "1                 36                2              10  ...   \n",
       "2                 26                2               8  ...   \n",
       "3                 21                1               6  ...   \n",
       "4                 18                1               5  ...   \n",
       "5                 16                0               4  ...   \n",
       "6                 13                0               4  ...   \n",
       "7                 13                2               4  ...   \n",
       "8                  8                2               2  ...   \n",
       "9                242                1              37  ...   \n",
       "10               237                1              36  ...   \n",
       "11               227                3              35  ...   \n",
       "\n",
       "    Consults > 2h in Vertical Except IM  Consult for IM >4h in Vertical  \\\n",
       "0                                     1                               0   \n",
       "1                                     1                               0   \n",
       "2                                     4                               0   \n",
       "3                                     2                               0   \n",
       "4                                     2                               0   \n",
       "5                                     3                               0   \n",
       "6                                     3                               0   \n",
       "7                                     1                               0   \n",
       "8                                     1                               0   \n",
       "9                                     1                               0   \n",
       "10                                    0                               0   \n",
       "11                                    0                               0   \n",
       "\n",
       "    Plain films reqs > 2 hr in Vertical  CTs reqs > 2 hrs in Vertical  \\\n",
       "0                                     0                             3   \n",
       "1                                     0                             4   \n",
       "2                                     3                             4   \n",
       "3                                     0                             0   \n",
       "4                                     0                             0   \n",
       "5                                     0                             2   \n",
       "6                                     0                             1   \n",
       "7                                     0                             2   \n",
       "8                                     0                             2   \n",
       "9                                     0                             1   \n",
       "10                                    0                             1   \n",
       "11                                    0                             2   \n",
       "\n",
       "    Psych Stretcher Pts1pt  Psych pts waiting for admission  \\\n",
       "0                       19                               16   \n",
       "1                       19                               16   \n",
       "2                       19                               14   \n",
       "3                       19                               13   \n",
       "4                       19                               13   \n",
       "5                       19                               13   \n",
       "6                       19                               13   \n",
       "7                       18                               13   \n",
       "8                       17                               13   \n",
       "9                       17                               13   \n",
       "10                      17                               13   \n",
       "11                      17                               13   \n",
       "\n",
       "                     ds  Total Pod TBS  Total Vertical TBS  Stretcher Overflow  \n",
       "0   2023-03-02 09:00:00              5                   6                   4  \n",
       "1   2023-03-02 08:00:00              5                  13                   4  \n",
       "2   2023-03-02 07:00:00              3                  12                   5  \n",
       "3   2023-03-02 06:00:00              1                  14                   5  \n",
       "4   2023-03-02 05:00:00              3                  13                   4  \n",
       "5   2023-03-02 04:00:00              3                  15                   1  \n",
       "6   2023-03-02 03:00:00              4                  16                   0  \n",
       "7   2023-03-02 02:00:00              8                  17                   0  \n",
       "8   2023-03-02 01:00:00              6                  18                   0  \n",
       "9   2023-03-02 00:00:00              4                  15                   0  \n",
       "10  2023-03-01 23:00:00              1                  15                   0  \n",
       "11  2023-03-01 22:00:00              4                  13                   0  \n",
       "\n",
       "[12 rows x 51 columns]"
      ]
     },
     "execution_count": 15,
     "metadata": {},
     "output_type": "execute_result"
    }
   ],
   "source": [
    "df = pd.read_csv('../data/since-2020.csv')\n",
    "df.head(12)"
   ]
  },
  {
   "cell_type": "code",
   "execution_count": 25,
   "metadata": {},
   "outputs": [],
   "source": [
    "from deta import Deta\n",
    "from dotenv import load_dotenv\n",
    "\n",
    "load_dotenv()\n",
    "\n",
    "deta = Deta(os.environ.get(\"DETA_PROJECT_KEY\"))\n",
    "\n",
    "data = deta.Drive(\"data\")"
   ]
  },
  {
   "cell_type": "code",
   "execution_count": 29,
   "metadata": {},
   "outputs": [],
   "source": [
    "data = deta.Drive(\"data\")\n"
   ]
  },
  {
   "cell_type": "code",
   "execution_count": 30,
   "metadata": {},
   "outputs": [
    {
     "data": {
      "text/plain": [
       "{'names': []}"
      ]
     },
     "execution_count": 30,
     "metadata": {},
     "output_type": "execute_result"
    }
   ],
   "source": [
    "data.list()"
   ]
  },
  {
   "cell_type": "code",
   "execution_count": 31,
   "metadata": {},
   "outputs": [],
   "source": [
    "import pandas as pd\n",
    "import tabula\n",
    "import datetime"
   ]
  },
  {
   "cell_type": "code",
   "execution_count": 32,
   "metadata": {},
   "outputs": [],
   "source": [
    "columns = [\n",
    "    \"Date\",\n",
    "    \"Time\",\n",
    "    \"Stretcher Pts hrly\",\n",
    "    \"Stretcher Pts cum\",\n",
    "    \"Ambulatory Pts hrly\",\n",
    "    \"Ambulatory Pts cum\",\n",
    "    \"Total Inflow hrly\",\n",
    "    \"Total Inflow cum\",\n",
    "    \"Ambulances hrly\",\n",
    "    \"Ambulances cum\",\n",
    "    \"FLS hrly\",\n",
    "    \"Adm. requests cum\",\n",
    "    \"Admissions cum\",\n",
    "    \"Pts.waiting for admission CUM\",\n",
    "    \"Triage hallway pts TBS\",\n",
    "    \"Re-Oriented Nurse cum\",\n",
    "    \"Re-Oriented MD QTrack D/C\",\n",
    "    \"Re-Oriented MD QTrack NotD/C\",\n",
    "    \"Resus Pts\",\n",
    "    \"Totalpts in PODs except Psych\",\n",
    "    \"Green Pts\",\n",
    "    \"Green Pts TBS\",\n",
    "    \"Yellow PTS\",\n",
    "    \"Yellow Pts TBS\",\n",
    "    \"Orancge Pts except psych\",\n",
    "    \"Orange Pts TBS\",\n",
    "    \"Consults > 2h in PODS except IM\",\n",
    "    \"Consult for IM >4h in PODS\",\n",
    "    \"Plain films reqs > 2 h in PODs\",\n",
    "    \"CTs reqs > 2 h in PODs\",\n",
    "    \"Post POD (Family room)\",\n",
    "    \"Stretcher Pts in Vertical\",\n",
    "    \"Stretcher Pts TBS in Vertical\",\n",
    "    \"Stretcher Pts in Vertical on Lazyboy\",\n",
    "    \"Vertical Pts Waiting for Results\",\n",
    "    \"Ambulatory Pts in Vertical\",\n",
    "    \"Ambulatory Pts TBS in Vertical\",\n",
    "    \"QTrack Patients TBS\",\n",
    "    \"GARAGE patient TBS\",\n",
    "    \"Consults > 2h in Vertical Except IM\",\n",
    "    \"Consult for IM >4h in Vertical\",\n",
    "    \"Plain films reqs > 2 hr in Vertical\",\n",
    "    \"CTs reqs > 2 hrs in Vertical\",\n",
    "    \"Psych Stretcher Pts1pt\",\n",
    "    \"Psych pts waiting for admission\",\n",
    "]\n",
    "\n",
    "url = \"https://www.dropbox.com/s/ckijmipu33z3feg/HourlyReport.pdf?dl=1\"\n",
    "output = []\n",
    "first_row = tabula.read_pdf(\n",
    "    url, pages=1, area=[[200, 6, 206, 1002]], silent=True)[0]\n",
    "first_row = first_row.columns.tolist()\n",
    "first_row_dict = dict(zip(columns, first_row))\n",
    "output.append(first_row_dict)\n",
    "first_row_date = first_row_dict['Date']\n",
    "for row_start in [211, 223, 235, 247, 259, 271, 283]:\n",
    "    try:\n",
    "        new_row = tabula.read_pdf(\n",
    "            url, pages=1, area=[[row_start, 0, row_start+7, 1002]], silent=True)[0]\n",
    "        new_row = new_row.columns.tolist()\n",
    "        new_row.insert(0, first_row_date)\n",
    "        new_row_dict = dict(zip(columns, new_row))\n",
    "        output.append(new_row_dict)\n",
    "    except:\n",
    "        break\n",
    "\n",
    "output_df = pd.DataFrame(output)\n",
    "\n",
    "missing_columns = []\n",
    "first_row = tabula.read_pdf(\n",
    "    url, pages=1, area=[[200, 308, 215, 341]], silent=True)[0]\n",
    "first_row = first_row.columns.tolist()\n",
    "first_row_dict = dict(\n",
    "    zip(['Total Stretcher pts', 'Triage hallway pts'], first_row))\n",
    "missing_columns.append(first_row_dict)\n",
    "for row_start in [212, 224, 236, 248, 260, 272, 284]:\n",
    "    try:\n",
    "        new_row = tabula.read_pdf(\n",
    "            url, pages=1, area=[[row_start, 308, row_start+8, 341]], silent=True)[0]\n",
    "        new_row = new_row.columns.tolist()\n",
    "        new_row_dict = dict(\n",
    "            zip(['Total Stretcher pts', 'Triage hallway pts'], new_row))\n",
    "        missing_columns.append(new_row_dict)\n",
    "    except:\n",
    "        break\n",
    "missing_columns_df = pd.DataFrame(missing_columns)\n",
    "\n",
    "output_df = pd.concat([output_df, missing_columns_df], axis=1)\n",
    "output_df = output_df.dropna()\n",
    "\n",
    "newColumns = [\n",
    "    \"Date\",\n",
    "    \"Time\",\n",
    "    \"Stretcher Pts hrly\",\n",
    "    \"Stretcher Pts cum\",\n",
    "    \"Ambulatory Pts hrly\",\n",
    "    \"Ambulatory Pts cum\",\n",
    "    \"Total Inflow hrly\",\n",
    "    \"Total Inflow cum\",\n",
    "    \"Ambulances hrly\",\n",
    "    \"Ambulances cum\",\n",
    "    \"FLS hrly\",\n",
    "    \"Adm. requests cum\",\n",
    "    \"Admissions cum\",\n",
    "    \"Pts.waiting for admission CUM\",\n",
    "    \"Total Stretcher pts\",\n",
    "    \"Triage hallway pts\",\n",
    "    \"Triage hallway pts TBS\",\n",
    "    \"Re-Oriented Nurse cum\",\n",
    "    \"Re-Oriented MD QTrack D/C\",\n",
    "    \"Re-Oriented MD QTrack NotD/C\",\n",
    "    \"Resus Pts\",\n",
    "    \"Totalpts in PODs except Psych\",\n",
    "    \"Green Pts\",\n",
    "    \"Green Pts TBS\",\n",
    "    \"Yellow PTS\",\n",
    "    \"Yellow Pts TBS\",\n",
    "    \"Orancge Pts except psych\",\n",
    "    \"Orange Pts TBS\",\n",
    "    \"Consults > 2h in PODS except IM\",\n",
    "    \"Consult for IM >4h in PODS\",\n",
    "    \"Plain films reqs > 2 h in PODs\",\n",
    "    \"CTs reqs > 2 h in PODs\",\n",
    "    \"Post POD (Family room)\",\n",
    "    \"Stretcher Pts in Vertical\",\n",
    "    \"Stretcher Pts TBS in Vertical\",\n",
    "    \"Stretcher Pts in Vertical on Lazyboy\",\n",
    "    \"Vertical Pts Waiting for Results\",\n",
    "    \"Ambulatory Pts in Vertical\",\n",
    "    \"Ambulatory Pts TBS in Vertical\",\n",
    "    \"QTrack Patients TBS\",\n",
    "    \"GARAGE patient TBS\",\n",
    "    \"Consults > 2h in Vertical Except IM\",\n",
    "    \"Consult for IM >4h in Vertical\",\n",
    "    \"Plain films reqs > 2 hr in Vertical\",\n",
    "    \"CTs reqs > 2 hrs in Vertical\",\n",
    "    \"Psych Stretcher Pts1pt\",\n",
    "    \"Psych pts waiting for admission\",\n",
    "]\n",
    "output_df = output_df[newColumns]\n",
    "for column in output_df.columns.tolist():\n",
    "    if column in ['Date']:\n",
    "        continue\n",
    "    output_df[column] = output_df[column].astype('float').astype('int')\n",
    "\n",
    "output_df[\"ds\"] = pd.to_datetime(\n",
    "    output_df[\"Date\"] + \" \" + (output_df[\"Time\"] - 1).astype(str) + \":00\") + datetime.timedelta(hours=1)\n",
    "\n",
    "output_df['Total Pod TBS'] = output_df['Green Pts TBS'] + \\\n",
    "    output_df['Yellow Pts TBS']+output_df['Orange Pts TBS'] + \\\n",
    "    output_df[\"Triage hallway pts TBS\"]\n",
    "output_df['Total Vertical TBS'] = output_df['Stretcher Pts TBS in Vertical'] + \\\n",
    "    output_df['Ambulatory Pts TBS in Vertical'] + \\\n",
    "    output_df['QTrack Patients TBS']+output_df['GARAGE patient TBS']\n",
    "output_df['Stretcher Overflow'] = output_df[\"Triage hallway pts TBS\"] + \\\n",
    "    output_df[\"Post POD (Family room)\"]"
   ]
  },
  {
   "cell_type": "code",
   "execution_count": 33,
   "metadata": {},
   "outputs": [
    {
     "data": {
      "text/html": [
       "<div>\n",
       "<style scoped>\n",
       "    .dataframe tbody tr th:only-of-type {\n",
       "        vertical-align: middle;\n",
       "    }\n",
       "\n",
       "    .dataframe tbody tr th {\n",
       "        vertical-align: top;\n",
       "    }\n",
       "\n",
       "    .dataframe thead th {\n",
       "        text-align: right;\n",
       "    }\n",
       "</style>\n",
       "<table border=\"1\" class=\"dataframe\">\n",
       "  <thead>\n",
       "    <tr style=\"text-align: right;\">\n",
       "      <th></th>\n",
       "      <th>Date</th>\n",
       "      <th>Time</th>\n",
       "      <th>Stretcher Pts hrly</th>\n",
       "      <th>Stretcher Pts cum</th>\n",
       "      <th>Ambulatory Pts hrly</th>\n",
       "      <th>Ambulatory Pts cum</th>\n",
       "      <th>Total Inflow hrly</th>\n",
       "      <th>Total Inflow cum</th>\n",
       "      <th>Ambulances hrly</th>\n",
       "      <th>Ambulances cum</th>\n",
       "      <th>...</th>\n",
       "      <th>Consults &gt; 2h in Vertical Except IM</th>\n",
       "      <th>Consult for IM &gt;4h in Vertical</th>\n",
       "      <th>Plain films reqs &gt; 2 hr in Vertical</th>\n",
       "      <th>CTs reqs &gt; 2 hrs in Vertical</th>\n",
       "      <th>Psych Stretcher Pts1pt</th>\n",
       "      <th>Psych pts waiting for admission</th>\n",
       "      <th>ds</th>\n",
       "      <th>Total Pod TBS</th>\n",
       "      <th>Total Vertical TBS</th>\n",
       "      <th>Stretcher Overflow</th>\n",
       "    </tr>\n",
       "  </thead>\n",
       "  <tbody>\n",
       "    <tr>\n",
       "      <th>0</th>\n",
       "      <td>03/02/23</td>\n",
       "      <td>10</td>\n",
       "      <td>6</td>\n",
       "      <td>40</td>\n",
       "      <td>9</td>\n",
       "      <td>24</td>\n",
       "      <td>15</td>\n",
       "      <td>64</td>\n",
       "      <td>1</td>\n",
       "      <td>13</td>\n",
       "      <td>...</td>\n",
       "      <td>2</td>\n",
       "      <td>0</td>\n",
       "      <td>0</td>\n",
       "      <td>5</td>\n",
       "      <td>19</td>\n",
       "      <td>16</td>\n",
       "      <td>2023-03-02 10:00:00</td>\n",
       "      <td>4</td>\n",
       "      <td>10</td>\n",
       "      <td>4</td>\n",
       "    </tr>\n",
       "    <tr>\n",
       "      <th>1</th>\n",
       "      <td>03/02/23</td>\n",
       "      <td>9</td>\n",
       "      <td>8</td>\n",
       "      <td>34</td>\n",
       "      <td>5</td>\n",
       "      <td>15</td>\n",
       "      <td>13</td>\n",
       "      <td>49</td>\n",
       "      <td>2</td>\n",
       "      <td>12</td>\n",
       "      <td>...</td>\n",
       "      <td>1</td>\n",
       "      <td>0</td>\n",
       "      <td>0</td>\n",
       "      <td>3</td>\n",
       "      <td>19</td>\n",
       "      <td>16</td>\n",
       "      <td>2023-03-02 09:00:00</td>\n",
       "      <td>5</td>\n",
       "      <td>6</td>\n",
       "      <td>4</td>\n",
       "    </tr>\n",
       "    <tr>\n",
       "      <th>2</th>\n",
       "      <td>03/02/23</td>\n",
       "      <td>8</td>\n",
       "      <td>6</td>\n",
       "      <td>26</td>\n",
       "      <td>4</td>\n",
       "      <td>10</td>\n",
       "      <td>10</td>\n",
       "      <td>36</td>\n",
       "      <td>2</td>\n",
       "      <td>10</td>\n",
       "      <td>...</td>\n",
       "      <td>1</td>\n",
       "      <td>0</td>\n",
       "      <td>0</td>\n",
       "      <td>4</td>\n",
       "      <td>19</td>\n",
       "      <td>16</td>\n",
       "      <td>2023-03-02 08:00:00</td>\n",
       "      <td>5</td>\n",
       "      <td>13</td>\n",
       "      <td>4</td>\n",
       "    </tr>\n",
       "    <tr>\n",
       "      <th>3</th>\n",
       "      <td>03/02/23</td>\n",
       "      <td>7</td>\n",
       "      <td>4</td>\n",
       "      <td>20</td>\n",
       "      <td>1</td>\n",
       "      <td>6</td>\n",
       "      <td>5</td>\n",
       "      <td>26</td>\n",
       "      <td>2</td>\n",
       "      <td>8</td>\n",
       "      <td>...</td>\n",
       "      <td>4</td>\n",
       "      <td>0</td>\n",
       "      <td>3</td>\n",
       "      <td>4</td>\n",
       "      <td>19</td>\n",
       "      <td>14</td>\n",
       "      <td>2023-03-02 07:00:00</td>\n",
       "      <td>3</td>\n",
       "      <td>12</td>\n",
       "      <td>5</td>\n",
       "    </tr>\n",
       "    <tr>\n",
       "      <th>4</th>\n",
       "      <td>03/02/23</td>\n",
       "      <td>6</td>\n",
       "      <td>2</td>\n",
       "      <td>16</td>\n",
       "      <td>1</td>\n",
       "      <td>5</td>\n",
       "      <td>3</td>\n",
       "      <td>21</td>\n",
       "      <td>1</td>\n",
       "      <td>6</td>\n",
       "      <td>...</td>\n",
       "      <td>2</td>\n",
       "      <td>0</td>\n",
       "      <td>0</td>\n",
       "      <td>0</td>\n",
       "      <td>19</td>\n",
       "      <td>13</td>\n",
       "      <td>2023-03-02 06:00:00</td>\n",
       "      <td>1</td>\n",
       "      <td>14</td>\n",
       "      <td>5</td>\n",
       "    </tr>\n",
       "    <tr>\n",
       "      <th>5</th>\n",
       "      <td>03/02/23</td>\n",
       "      <td>5</td>\n",
       "      <td>1</td>\n",
       "      <td>14</td>\n",
       "      <td>1</td>\n",
       "      <td>4</td>\n",
       "      <td>2</td>\n",
       "      <td>18</td>\n",
       "      <td>1</td>\n",
       "      <td>5</td>\n",
       "      <td>...</td>\n",
       "      <td>2</td>\n",
       "      <td>0</td>\n",
       "      <td>0</td>\n",
       "      <td>0</td>\n",
       "      <td>19</td>\n",
       "      <td>13</td>\n",
       "      <td>2023-03-02 05:00:00</td>\n",
       "      <td>3</td>\n",
       "      <td>13</td>\n",
       "      <td>4</td>\n",
       "    </tr>\n",
       "    <tr>\n",
       "      <th>6</th>\n",
       "      <td>03/02/23</td>\n",
       "      <td>4</td>\n",
       "      <td>3</td>\n",
       "      <td>13</td>\n",
       "      <td>0</td>\n",
       "      <td>3</td>\n",
       "      <td>3</td>\n",
       "      <td>16</td>\n",
       "      <td>0</td>\n",
       "      <td>4</td>\n",
       "      <td>...</td>\n",
       "      <td>3</td>\n",
       "      <td>0</td>\n",
       "      <td>0</td>\n",
       "      <td>2</td>\n",
       "      <td>19</td>\n",
       "      <td>13</td>\n",
       "      <td>2023-03-02 04:00:00</td>\n",
       "      <td>3</td>\n",
       "      <td>15</td>\n",
       "      <td>1</td>\n",
       "    </tr>\n",
       "    <tr>\n",
       "      <th>7</th>\n",
       "      <td>03/02/23</td>\n",
       "      <td>3</td>\n",
       "      <td>0</td>\n",
       "      <td>10</td>\n",
       "      <td>0</td>\n",
       "      <td>3</td>\n",
       "      <td>0</td>\n",
       "      <td>13</td>\n",
       "      <td>0</td>\n",
       "      <td>4</td>\n",
       "      <td>...</td>\n",
       "      <td>3</td>\n",
       "      <td>0</td>\n",
       "      <td>0</td>\n",
       "      <td>1</td>\n",
       "      <td>19</td>\n",
       "      <td>13</td>\n",
       "      <td>2023-03-02 03:00:00</td>\n",
       "      <td>4</td>\n",
       "      <td>16</td>\n",
       "      <td>0</td>\n",
       "    </tr>\n",
       "  </tbody>\n",
       "</table>\n",
       "<p>8 rows × 51 columns</p>\n",
       "</div>"
      ],
      "text/plain": [
       "       Date  Time  Stretcher Pts hrly  Stretcher Pts cum  Ambulatory Pts hrly  \\\n",
       "0  03/02/23    10                   6                 40                    9   \n",
       "1  03/02/23     9                   8                 34                    5   \n",
       "2  03/02/23     8                   6                 26                    4   \n",
       "3  03/02/23     7                   4                 20                    1   \n",
       "4  03/02/23     6                   2                 16                    1   \n",
       "5  03/02/23     5                   1                 14                    1   \n",
       "6  03/02/23     4                   3                 13                    0   \n",
       "7  03/02/23     3                   0                 10                    0   \n",
       "\n",
       "   Ambulatory Pts cum  Total Inflow hrly  Total Inflow cum  Ambulances hrly  \\\n",
       "0                  24                 15                64                1   \n",
       "1                  15                 13                49                2   \n",
       "2                  10                 10                36                2   \n",
       "3                   6                  5                26                2   \n",
       "4                   5                  3                21                1   \n",
       "5                   4                  2                18                1   \n",
       "6                   3                  3                16                0   \n",
       "7                   3                  0                13                0   \n",
       "\n",
       "   Ambulances cum  ...  Consults > 2h in Vertical Except IM  \\\n",
       "0              13  ...                                    2   \n",
       "1              12  ...                                    1   \n",
       "2              10  ...                                    1   \n",
       "3               8  ...                                    4   \n",
       "4               6  ...                                    2   \n",
       "5               5  ...                                    2   \n",
       "6               4  ...                                    3   \n",
       "7               4  ...                                    3   \n",
       "\n",
       "   Consult for IM >4h in Vertical  Plain films reqs > 2 hr in Vertical  \\\n",
       "0                               0                                    0   \n",
       "1                               0                                    0   \n",
       "2                               0                                    0   \n",
       "3                               0                                    3   \n",
       "4                               0                                    0   \n",
       "5                               0                                    0   \n",
       "6                               0                                    0   \n",
       "7                               0                                    0   \n",
       "\n",
       "   CTs reqs > 2 hrs in Vertical  Psych Stretcher Pts1pt  \\\n",
       "0                             5                      19   \n",
       "1                             3                      19   \n",
       "2                             4                      19   \n",
       "3                             4                      19   \n",
       "4                             0                      19   \n",
       "5                             0                      19   \n",
       "6                             2                      19   \n",
       "7                             1                      19   \n",
       "\n",
       "   Psych pts waiting for admission                  ds  Total Pod TBS  \\\n",
       "0                               16 2023-03-02 10:00:00              4   \n",
       "1                               16 2023-03-02 09:00:00              5   \n",
       "2                               16 2023-03-02 08:00:00              5   \n",
       "3                               14 2023-03-02 07:00:00              3   \n",
       "4                               13 2023-03-02 06:00:00              1   \n",
       "5                               13 2023-03-02 05:00:00              3   \n",
       "6                               13 2023-03-02 04:00:00              3   \n",
       "7                               13 2023-03-02 03:00:00              4   \n",
       "\n",
       "   Total Vertical TBS  Stretcher Overflow  \n",
       "0                  10                   4  \n",
       "1                   6                   4  \n",
       "2                  13                   4  \n",
       "3                  12                   5  \n",
       "4                  14                   5  \n",
       "5                  13                   4  \n",
       "6                  15                   1  \n",
       "7                  16                   0  \n",
       "\n",
       "[8 rows x 51 columns]"
      ]
     },
     "execution_count": 33,
     "metadata": {},
     "output_type": "execute_result"
    }
   ],
   "source": [
    "output_df"
   ]
  },
  {
   "cell_type": "code",
   "execution_count": null,
   "metadata": {},
   "outputs": [],
   "source": []
  }
 ],
 "metadata": {
  "kernelspec": {
   "display_name": "base",
   "language": "python",
   "name": "python3"
  },
  "language_info": {
   "codemirror_mode": {
    "name": "ipython",
    "version": 3
   },
   "file_extension": ".py",
   "mimetype": "text/x-python",
   "name": "python",
   "nbconvert_exporter": "python",
   "pygments_lexer": "ipython3",
   "version": "3.8.5"
  },
  "orig_nbformat": 4
 },
 "nbformat": 4,
 "nbformat_minor": 2
}
