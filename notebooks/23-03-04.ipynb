{
 "cells": [
  {
   "cell_type": "code",
   "execution_count": 9,
   "metadata": {},
   "outputs": [],
   "source": [
    "import pandas as pd\n",
    "import pymsteams\n",
    "from dotenv import load_dotenv\n",
    "import os\n",
    "# import plotly.express as px\n",
    "import plotly.graph_objects as go\n",
    "from plotly.subplots import make_subplots\n",
    "\n",
    "load_dotenv()\n",
    "\n",
    "\n",
    "def load_data():\n",
    "\n",
    "    df = pd.read_csv('../data/recent.csv')\n",
    "\n",
    "    df.ds = pd.to_datetime(df.ds)\n",
    "\n",
    "    forecast = pd.read_csv('../data/forecast.csv')\n",
    "\n",
    "    forecast.ds = pd.to_datetime(forecast.ds)\n",
    "\n",
    "    current = df.iloc[0]\n",
    "\n",
    "    current_ds = df.head(1).iloc[0].ds\n",
    "\n",
    "    return df, forecast, current, current_ds\n",
    "\n",
    "\n",
    "df, forecast, current, current_ds = load_data()\n"
   ]
  },
  {
   "cell_type": "code",
   "execution_count": 10,
   "metadata": {},
   "outputs": [
    {
     "data": {
      "text/plain": [
       "Timestamp('2023-03-04 21:00:00')"
      ]
     },
     "execution_count": 10,
     "metadata": {},
     "output_type": "execute_result"
    }
   ],
   "source": [
    "current_ds"
   ]
  },
  {
   "cell_type": "code",
   "execution_count": 11,
   "metadata": {},
   "outputs": [],
   "source": [
    "\n",
    "\n",
    "alert_types = [\n",
    "    # 'Total Inflow hrly',\n",
    "    #  'Ambulances hrly',\n",
    "    'Total Stretcher pts',\n",
    "    'Triage hallway pts',\n",
    "    'Triage hallway pts TBS',\n",
    "    #  'Resus Pts',\n",
    "    #  'Totalpts in PODs except Psych',\n",
    "    # 'Green Pts TBS',\n",
    "    # 'Yellow Pts TBS',\n",
    "    # 'Orange Pts TBS',\n",
    "    # 'Consults > 2h in PODS except IM',\n",
    "    # 'Consult for IM >4h in PODS',\n",
    "    # 'Plain films reqs > 2 h in PODs'\n",
    "    # 'CTs reqs > 2 h in PODs',\n",
    "    #  'Post POD (Family room)',\n",
    "    #  'QTrack Patients TBS',\n",
    "    #  'GARAGE patient TBS',\n",
    "    # 'Consults > 2h in Vertical Except IM',\n",
    "    # 'Consult for IM >4h in Vertical',\n",
    "    # 'Plain films reqs > 2 hr in Vertical',\n",
    "    # 'CTs reqs > 2 hrs in Vertical',\n",
    "    'Total Pod TBS',\n",
    "    'Total Vertical TBS']\n",
    "\n",
    "alert_categories = {\n",
    "    # 'Total Inflow hrly',\n",
    "    #  'Ambulances hrly',\n",
    "    'Total Stretcher pts': 'Patient Volume',\n",
    "    'Triage hallway pts': 'Patient Volume',\n",
    "    'Triage hallway pts TBS': 'Patient Volume',\n",
    "    #  'Resus Pts',\n",
    "    #  'Totalpts in PODs except Psych',\n",
    "    # 'Green Pts TBS': 'Patient Volume',\n",
    "    # 'Yellow Pts TBS',\n",
    "    # 'Orange Pts TBS',\n",
    "    'Consults > 2h in PODS except IM': 'Consultations',\n",
    "    'Consult for IM >4h in PODS': 'Consultations',\n",
    "    'Plain films reqs > 2 h in PODs': 'Radiology',\n",
    "    'CTs reqs > 2 h in PODs': 'Radiology',\n",
    "    #  'Post POD (Family room)',\n",
    "    #  'QTrack Patients TBS',\n",
    "    #  'GARAGE patient TBS',\n",
    "    'Consults > 2h in Vertical Except IM': 'Consultations',\n",
    "    'Consult for IM >4h in Vertical': 'Consultations',\n",
    "    'Plain films reqs > 2 hr in Vertical': 'Radiology',\n",
    "    'CTs reqs > 2 hrs in Vertical': 'Radiology',\n",
    "    'Total Pod TBS': 'Patient Volume',\n",
    "    'Total Vertical TBS': 'Patient Volume'}\n",
    "\n",
    "\n",
    "def create_fig(df, forecast, metric):\n",
    "\n",
    "    fig = make_subplots(\n",
    "        specs=[[{\"secondary_y\": True}]], subplot_titles=[metric])\n",
    "\n",
    "    fig.add_trace(go.Scatter(x=forecast.ds, y=forecast\n",
    "                             [metric+'_yhat'], mode='lines', name='Total Vertical TBS (expected)', showlegend=False, line=dict(color='blue', width=1, dash='dot'), fill='tozeroy', fillcolor='lightgreen'))\n",
    "    fig.add_trace(go.Scatter(x=forecast.ds, y=forecast\n",
    "                             [metric+'_yhat_upper'], mode='lines', name='Total Vertical TBS (expected)', showlegend=False, line=dict(color='blue', width=1, dash='dot'), fill='tonexty', fillcolor='lightyellow'))\n",
    "    fig.add_trace(go.Scatter(x=forecast.ds, y=forecast\n",
    "                             [metric+'_yhat_upper']*10, mode='lines', name='Total Vertical TBS (expected)', showlegend=False, line=dict(color='blue', width=1, dash='dot'), fill='tonexty', fillcolor='lightpink'))\n",
    "    fig.add_trace(go.Scatter(x=forecast.ds, y=forecast\n",
    "                             [metric+'_yhat_lower'], mode='lines', name='Total Vertical TBS (expected)', showlegend=False, line=dict(color='blue', width=1, dash='dot')))\n",
    "\n",
    "    fig.add_trace(go.Scatter(x=df.ds, y=df\n",
    "                             [metric], mode='lines+markers', name=metric, showlegend=False, line=dict(color='red', width=2)))\n",
    "\n",
    "    fig.update_xaxes(range=[df.head(8).ds.min(), df.head(8).ds.max()])\n",
    "    fig.update_yaxes(range=[0, max(df.head(8)[metric].max(\n",
    "    )*1.2, forecast.head(8)[metric+'_yhat_upper'].max()*1.2)])\n",
    "\n",
    "    fig.write_image(\"images/{}.png\".format(metric))\n",
    "    return \"images/{}.png\".format(metric)\n"
   ]
  },
  {
   "cell_type": "code",
   "execution_count": 12,
   "metadata": {},
   "outputs": [],
   "source": [
    "\n",
    "\n",
    "current_forecast = forecast.set_index('ds').loc[current_ds]\n"
   ]
  },
  {
   "cell_type": "code",
   "execution_count": 13,
   "metadata": {},
   "outputs": [
    {
     "name": "stdout",
     "output_type": "stream",
     "text": [
      "No alerts\n"
     ]
    }
   ],
   "source": [
    "\n",
    "\n",
    "alerts = []\n",
    "\n",
    "for column in alert_types:\n",
    "    try:\n",
    "        if current[column] > current_forecast[column+'_yhat_upper']:\n",
    "            alerts.append({'category': alert_categories[column], 'metric': column, 'value': current[column], 'yhat_upper': round(\n",
    "                current_forecast[column+'_yhat_upper'], 1)})\n",
    "    except:\n",
    "        continue\n",
    "\n",
    "\n",
    "if alerts:\n",
    "    alerts_df = pd.DataFrame(alerts)\n",
    "\n",
    "    active_alert_categories = alerts_df.category.unique().tolist()\n",
    "\n",
    "    myTeamsMessage = pymsteams.connectorcard(os.environ.get('TEAMS_WEBHOOK'))\n",
    "\n",
    "    # myTeamsMessage.title(\"Overcrowding alert\")\n",
    "\n",
    "    myTeamsMessage.text(' ')\n",
    "\n",
    "    for category in active_alert_categories:\n",
    "\n",
    "        myMessageSection = pymsteams.cardsection()\n",
    "\n",
    "        myMessageSection.title(category)\n",
    "\n",
    "        for i, row in alerts_df[alerts_df['category'] == category].iterrows():\n",
    "\n",
    "            myMessageSection.addFact(row['metric'], str(row['value']))\n",
    "\n",
    "            create_fig(df, forecast, row['metric'])\n",
    "\n",
    "        myTeamsMessage.addSection(myMessageSection)\n",
    "\n",
    "    myTeamsMessage.printme()\n",
    "\n",
    "    myTeamsMessage.send()\n",
    "\n",
    "else:\n",
    "    print('No alerts')\n"
   ]
  },
  {
   "cell_type": "code",
   "execution_count": null,
   "metadata": {},
   "outputs": [],
   "source": []
  }
 ],
 "metadata": {
  "kernelspec": {
   "display_name": "base",
   "language": "python",
   "name": "python3"
  },
  "language_info": {
   "codemirror_mode": {
    "name": "ipython",
    "version": 3
   },
   "file_extension": ".py",
   "mimetype": "text/x-python",
   "name": "python",
   "nbconvert_exporter": "python",
   "pygments_lexer": "ipython3",
   "version": "3.8.5"
  },
  "orig_nbformat": 4
 },
 "nbformat": 4,
 "nbformat_minor": 2
}
