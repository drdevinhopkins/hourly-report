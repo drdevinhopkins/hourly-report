{
 "cells": [
  {
   "cell_type": "code",
   "execution_count": 27,
   "metadata": {},
   "outputs": [],
   "source": [
    "import pandas as pd\n",
    "from prophet import Prophet\n",
    "import datetime\n",
    "\n",
    "df = pd.read_csv('../data/since-2020.csv')\n",
    "df.ds = pd.to_datetime(df.ds)\n",
    "\n",
    "df = df.dropna(axis=0)"
   ]
  },
  {
   "cell_type": "code",
   "execution_count": 29,
   "metadata": {},
   "outputs": [
    {
     "name": "stderr",
     "output_type": "stream",
     "text": [
      "INFO:prophet:Disabling yearly seasonality. Run prophet with yearly_seasonality=True to override this.\n"
     ]
    },
    {
     "name": "stdout",
     "output_type": "stream",
     "text": [
      "working on Stretcher Pts hrly\n"
     ]
    },
    {
     "name": "stderr",
     "output_type": "stream",
     "text": [
      "INFO:prophet:Disabling yearly seasonality. Run prophet with yearly_seasonality=True to override this.\n"
     ]
    },
    {
     "name": "stdout",
     "output_type": "stream",
     "text": [
      "working on Stretcher Pts cum\n"
     ]
    },
    {
     "name": "stderr",
     "output_type": "stream",
     "text": [
      "INFO:prophet:Disabling yearly seasonality. Run prophet with yearly_seasonality=True to override this.\n"
     ]
    },
    {
     "name": "stdout",
     "output_type": "stream",
     "text": [
      "working on Ambulatory Pts hrly\n"
     ]
    },
    {
     "name": "stderr",
     "output_type": "stream",
     "text": [
      "INFO:prophet:Disabling yearly seasonality. Run prophet with yearly_seasonality=True to override this.\n"
     ]
    },
    {
     "name": "stdout",
     "output_type": "stream",
     "text": [
      "working on Ambulatory Pts cum\n"
     ]
    },
    {
     "name": "stderr",
     "output_type": "stream",
     "text": [
      "INFO:prophet:Disabling yearly seasonality. Run prophet with yearly_seasonality=True to override this.\n"
     ]
    },
    {
     "name": "stdout",
     "output_type": "stream",
     "text": [
      "working on Total Inflow hrly\n"
     ]
    },
    {
     "name": "stderr",
     "output_type": "stream",
     "text": [
      "INFO:prophet:Disabling yearly seasonality. Run prophet with yearly_seasonality=True to override this.\n"
     ]
    },
    {
     "name": "stdout",
     "output_type": "stream",
     "text": [
      "working on Total Inflow cum\n"
     ]
    },
    {
     "name": "stderr",
     "output_type": "stream",
     "text": [
      "INFO:prophet:Disabling yearly seasonality. Run prophet with yearly_seasonality=True to override this.\n"
     ]
    },
    {
     "name": "stdout",
     "output_type": "stream",
     "text": [
      "working on Ambulances hrly\n"
     ]
    },
    {
     "name": "stderr",
     "output_type": "stream",
     "text": [
      "INFO:prophet:Disabling yearly seasonality. Run prophet with yearly_seasonality=True to override this.\n"
     ]
    },
    {
     "name": "stdout",
     "output_type": "stream",
     "text": [
      "working on Ambulances cum\n"
     ]
    },
    {
     "name": "stderr",
     "output_type": "stream",
     "text": [
      "INFO:prophet:Disabling yearly seasonality. Run prophet with yearly_seasonality=True to override this.\n"
     ]
    },
    {
     "name": "stdout",
     "output_type": "stream",
     "text": [
      "working on FLS hrly\n"
     ]
    },
    {
     "name": "stderr",
     "output_type": "stream",
     "text": [
      "INFO:prophet:Disabling yearly seasonality. Run prophet with yearly_seasonality=True to override this.\n"
     ]
    },
    {
     "name": "stdout",
     "output_type": "stream",
     "text": [
      "working on Adm. requests cum\n"
     ]
    },
    {
     "name": "stderr",
     "output_type": "stream",
     "text": [
      "INFO:prophet:Disabling yearly seasonality. Run prophet with yearly_seasonality=True to override this.\n"
     ]
    },
    {
     "name": "stdout",
     "output_type": "stream",
     "text": [
      "working on Admissions cum\n"
     ]
    },
    {
     "name": "stderr",
     "output_type": "stream",
     "text": [
      "INFO:prophet:Disabling yearly seasonality. Run prophet with yearly_seasonality=True to override this.\n"
     ]
    },
    {
     "name": "stdout",
     "output_type": "stream",
     "text": [
      "working on Pts.waiting for admission CUM\n"
     ]
    },
    {
     "name": "stderr",
     "output_type": "stream",
     "text": [
      "INFO:prophet:Disabling yearly seasonality. Run prophet with yearly_seasonality=True to override this.\n"
     ]
    },
    {
     "name": "stdout",
     "output_type": "stream",
     "text": [
      "working on Total Stretcher pts\n"
     ]
    },
    {
     "name": "stderr",
     "output_type": "stream",
     "text": [
      "INFO:prophet:Disabling yearly seasonality. Run prophet with yearly_seasonality=True to override this.\n"
     ]
    },
    {
     "name": "stdout",
     "output_type": "stream",
     "text": [
      "working on Triage hallway pts\n"
     ]
    },
    {
     "name": "stderr",
     "output_type": "stream",
     "text": [
      "INFO:prophet:Disabling yearly seasonality. Run prophet with yearly_seasonality=True to override this.\n"
     ]
    },
    {
     "name": "stdout",
     "output_type": "stream",
     "text": [
      "working on Triage hallway pts TBS\n"
     ]
    },
    {
     "name": "stderr",
     "output_type": "stream",
     "text": [
      "INFO:prophet:Disabling yearly seasonality. Run prophet with yearly_seasonality=True to override this.\n"
     ]
    },
    {
     "name": "stdout",
     "output_type": "stream",
     "text": [
      "working on Re-Oriented Nurse cum\n"
     ]
    },
    {
     "name": "stderr",
     "output_type": "stream",
     "text": [
      "INFO:prophet:Disabling yearly seasonality. Run prophet with yearly_seasonality=True to override this.\n"
     ]
    },
    {
     "name": "stdout",
     "output_type": "stream",
     "text": [
      "working on Re-Oriented MD QTrack D/C\n"
     ]
    },
    {
     "name": "stderr",
     "output_type": "stream",
     "text": [
      "INFO:prophet:Disabling yearly seasonality. Run prophet with yearly_seasonality=True to override this.\n"
     ]
    },
    {
     "name": "stdout",
     "output_type": "stream",
     "text": [
      "working on Re-Oriented MD QTrack NotD/C\n"
     ]
    },
    {
     "name": "stderr",
     "output_type": "stream",
     "text": [
      "INFO:prophet:Disabling yearly seasonality. Run prophet with yearly_seasonality=True to override this.\n"
     ]
    },
    {
     "name": "stdout",
     "output_type": "stream",
     "text": [
      "working on Resus Pts\n"
     ]
    },
    {
     "name": "stderr",
     "output_type": "stream",
     "text": [
      "INFO:prophet:Disabling yearly seasonality. Run prophet with yearly_seasonality=True to override this.\n"
     ]
    },
    {
     "name": "stdout",
     "output_type": "stream",
     "text": [
      "working on Totalpts in PODs except Psych\n"
     ]
    },
    {
     "name": "stderr",
     "output_type": "stream",
     "text": [
      "INFO:prophet:Disabling yearly seasonality. Run prophet with yearly_seasonality=True to override this.\n"
     ]
    },
    {
     "name": "stdout",
     "output_type": "stream",
     "text": [
      "working on Green Pts\n"
     ]
    },
    {
     "name": "stderr",
     "output_type": "stream",
     "text": [
      "INFO:prophet:Disabling yearly seasonality. Run prophet with yearly_seasonality=True to override this.\n"
     ]
    },
    {
     "name": "stdout",
     "output_type": "stream",
     "text": [
      "working on Green Pts TBS\n"
     ]
    },
    {
     "name": "stderr",
     "output_type": "stream",
     "text": [
      "INFO:prophet:Disabling yearly seasonality. Run prophet with yearly_seasonality=True to override this.\n"
     ]
    },
    {
     "name": "stdout",
     "output_type": "stream",
     "text": [
      "working on Yellow PTS\n"
     ]
    },
    {
     "name": "stderr",
     "output_type": "stream",
     "text": [
      "INFO:prophet:Disabling yearly seasonality. Run prophet with yearly_seasonality=True to override this.\n"
     ]
    },
    {
     "name": "stdout",
     "output_type": "stream",
     "text": [
      "working on Yellow Pts TBS\n"
     ]
    },
    {
     "name": "stderr",
     "output_type": "stream",
     "text": [
      "INFO:prophet:Disabling yearly seasonality. Run prophet with yearly_seasonality=True to override this.\n"
     ]
    },
    {
     "name": "stdout",
     "output_type": "stream",
     "text": [
      "working on Orancge Pts except psych\n"
     ]
    },
    {
     "name": "stderr",
     "output_type": "stream",
     "text": [
      "INFO:prophet:Disabling yearly seasonality. Run prophet with yearly_seasonality=True to override this.\n"
     ]
    },
    {
     "name": "stdout",
     "output_type": "stream",
     "text": [
      "working on Orange Pts TBS\n"
     ]
    },
    {
     "name": "stderr",
     "output_type": "stream",
     "text": [
      "INFO:prophet:Disabling yearly seasonality. Run prophet with yearly_seasonality=True to override this.\n"
     ]
    },
    {
     "name": "stdout",
     "output_type": "stream",
     "text": [
      "working on Consults > 2h in PODS except IM\n"
     ]
    },
    {
     "name": "stderr",
     "output_type": "stream",
     "text": [
      "INFO:prophet:Disabling yearly seasonality. Run prophet with yearly_seasonality=True to override this.\n"
     ]
    },
    {
     "name": "stdout",
     "output_type": "stream",
     "text": [
      "working on Consult for IM >4h in PODS\n"
     ]
    },
    {
     "name": "stderr",
     "output_type": "stream",
     "text": [
      "INFO:prophet:Disabling yearly seasonality. Run prophet with yearly_seasonality=True to override this.\n"
     ]
    },
    {
     "name": "stdout",
     "output_type": "stream",
     "text": [
      "working on Plain films reqs > 2 h in PODs\n"
     ]
    },
    {
     "name": "stderr",
     "output_type": "stream",
     "text": [
      "INFO:prophet:Disabling yearly seasonality. Run prophet with yearly_seasonality=True to override this.\n"
     ]
    },
    {
     "name": "stdout",
     "output_type": "stream",
     "text": [
      "working on CTs reqs > 2 h in PODs\n"
     ]
    },
    {
     "name": "stderr",
     "output_type": "stream",
     "text": [
      "INFO:prophet:Disabling yearly seasonality. Run prophet with yearly_seasonality=True to override this.\n"
     ]
    },
    {
     "name": "stdout",
     "output_type": "stream",
     "text": [
      "working on Post POD (Family room)\n"
     ]
    },
    {
     "name": "stderr",
     "output_type": "stream",
     "text": [
      "INFO:prophet:Disabling yearly seasonality. Run prophet with yearly_seasonality=True to override this.\n"
     ]
    },
    {
     "name": "stdout",
     "output_type": "stream",
     "text": [
      "working on Stretcher Pts in Vertical\n"
     ]
    },
    {
     "name": "stderr",
     "output_type": "stream",
     "text": [
      "INFO:prophet:Disabling yearly seasonality. Run prophet with yearly_seasonality=True to override this.\n"
     ]
    },
    {
     "name": "stdout",
     "output_type": "stream",
     "text": [
      "working on Stretcher Pts TBS in Vertical\n"
     ]
    },
    {
     "name": "stderr",
     "output_type": "stream",
     "text": [
      "INFO:prophet:Disabling yearly seasonality. Run prophet with yearly_seasonality=True to override this.\n"
     ]
    },
    {
     "name": "stdout",
     "output_type": "stream",
     "text": [
      "working on Stretcher Pts in Vertical on Lazyboy\n"
     ]
    },
    {
     "name": "stderr",
     "output_type": "stream",
     "text": [
      "INFO:prophet:Disabling yearly seasonality. Run prophet with yearly_seasonality=True to override this.\n"
     ]
    },
    {
     "name": "stdout",
     "output_type": "stream",
     "text": [
      "working on Vertical Pts Waiting for Results\n"
     ]
    },
    {
     "name": "stderr",
     "output_type": "stream",
     "text": [
      "INFO:prophet:Disabling yearly seasonality. Run prophet with yearly_seasonality=True to override this.\n"
     ]
    },
    {
     "name": "stdout",
     "output_type": "stream",
     "text": [
      "working on Ambulatory Pts in Vertical\n"
     ]
    },
    {
     "name": "stderr",
     "output_type": "stream",
     "text": [
      "INFO:prophet:Disabling yearly seasonality. Run prophet with yearly_seasonality=True to override this.\n"
     ]
    },
    {
     "name": "stdout",
     "output_type": "stream",
     "text": [
      "working on Ambulatory Pts TBS in Vertical\n"
     ]
    },
    {
     "name": "stderr",
     "output_type": "stream",
     "text": [
      "INFO:prophet:Disabling yearly seasonality. Run prophet with yearly_seasonality=True to override this.\n"
     ]
    },
    {
     "name": "stdout",
     "output_type": "stream",
     "text": [
      "working on QTrack Patients TBS\n"
     ]
    },
    {
     "name": "stderr",
     "output_type": "stream",
     "text": [
      "INFO:prophet:Disabling yearly seasonality. Run prophet with yearly_seasonality=True to override this.\n"
     ]
    },
    {
     "name": "stdout",
     "output_type": "stream",
     "text": [
      "working on GARAGE patient TBS\n"
     ]
    },
    {
     "name": "stderr",
     "output_type": "stream",
     "text": [
      "INFO:prophet:Disabling yearly seasonality. Run prophet with yearly_seasonality=True to override this.\n"
     ]
    },
    {
     "name": "stdout",
     "output_type": "stream",
     "text": [
      "working on Consults > 2h in Vertical Except IM\n"
     ]
    },
    {
     "name": "stderr",
     "output_type": "stream",
     "text": [
      "INFO:prophet:Disabling yearly seasonality. Run prophet with yearly_seasonality=True to override this.\n"
     ]
    },
    {
     "name": "stdout",
     "output_type": "stream",
     "text": [
      "working on Consult for IM >4h in Vertical\n"
     ]
    },
    {
     "name": "stderr",
     "output_type": "stream",
     "text": [
      "INFO:prophet:Disabling yearly seasonality. Run prophet with yearly_seasonality=True to override this.\n"
     ]
    },
    {
     "name": "stdout",
     "output_type": "stream",
     "text": [
      "working on Plain films reqs > 2 hr in Vertical\n"
     ]
    },
    {
     "name": "stderr",
     "output_type": "stream",
     "text": [
      "INFO:prophet:Disabling yearly seasonality. Run prophet with yearly_seasonality=True to override this.\n"
     ]
    },
    {
     "name": "stdout",
     "output_type": "stream",
     "text": [
      "working on CTs reqs > 2 hrs in Vertical\n"
     ]
    },
    {
     "name": "stderr",
     "output_type": "stream",
     "text": [
      "INFO:prophet:Disabling yearly seasonality. Run prophet with yearly_seasonality=True to override this.\n"
     ]
    },
    {
     "name": "stdout",
     "output_type": "stream",
     "text": [
      "working on Psych Stretcher Pts1pt\n"
     ]
    },
    {
     "name": "stderr",
     "output_type": "stream",
     "text": [
      "INFO:prophet:Disabling yearly seasonality. Run prophet with yearly_seasonality=True to override this.\n"
     ]
    },
    {
     "name": "stdout",
     "output_type": "stream",
     "text": [
      "working on Psych pts waiting for admission\n"
     ]
    },
    {
     "name": "stderr",
     "output_type": "stream",
     "text": [
      "INFO:prophet:Disabling yearly seasonality. Run prophet with yearly_seasonality=True to override this.\n"
     ]
    },
    {
     "name": "stdout",
     "output_type": "stream",
     "text": [
      "working on Total Pod TBS\n"
     ]
    },
    {
     "name": "stderr",
     "output_type": "stream",
     "text": [
      "INFO:prophet:Disabling yearly seasonality. Run prophet with yearly_seasonality=True to override this.\n"
     ]
    },
    {
     "name": "stdout",
     "output_type": "stream",
     "text": [
      "working on Total Vertical TBS\n"
     ]
    }
   ],
   "source": [
    "output = pd.DataFrame()\n",
    "\n",
    "for column in df.columns.to_list():\n",
    "# for column in [\"GARAGE patient TBS\"]:\n",
    "    if column in ['Date', 'Time', 'ds']:\n",
    "        continue\n",
    "    try:\n",
    "        # column = 'Total Inflow hrly'\n",
    "        print('working on '+column)\n",
    "        df2 = df[['ds', column]]\n",
    "        df2.columns = ['ds', 'y']\n",
    "        df2 = df2.reset_index(drop=True)\n",
    "        m = Prophet(interval_width=0.95)\n",
    "        m.fit(df2)\n",
    "        future = m.make_future_dataframe(periods=24*7, freq='H')\n",
    "        forecast = m.predict(future.tail(24*14))\n",
    "        output['ds'] = forecast['ds']\n",
    "        forecast = forecast[['yhat', 'yhat_lower', 'yhat_upper']]\n",
    "        for forecast_column in forecast.columns.tolist():\n",
    "            output[column+'_'+forecast_column] = forecast[forecast_column]\n",
    "    except:\n",
    "        print(column + ' failed')\n",
    "\n"
   ]
  },
  {
   "cell_type": "code",
   "execution_count": 30,
   "metadata": {},
   "outputs": [
    {
     "data": {
      "text/html": [
       "<div>\n",
       "<style scoped>\n",
       "    .dataframe tbody tr th:only-of-type {\n",
       "        vertical-align: middle;\n",
       "    }\n",
       "\n",
       "    .dataframe tbody tr th {\n",
       "        vertical-align: top;\n",
       "    }\n",
       "\n",
       "    .dataframe thead th {\n",
       "        text-align: right;\n",
       "    }\n",
       "</style>\n",
       "<table border=\"1\" class=\"dataframe\">\n",
       "  <thead>\n",
       "    <tr style=\"text-align: right;\">\n",
       "      <th></th>\n",
       "      <th>ds</th>\n",
       "      <th>Stretcher Pts hrly_yhat</th>\n",
       "      <th>Stretcher Pts hrly_yhat_lower</th>\n",
       "      <th>Stretcher Pts hrly_yhat_upper</th>\n",
       "      <th>Stretcher Pts cum_yhat</th>\n",
       "      <th>Stretcher Pts cum_yhat_lower</th>\n",
       "      <th>Stretcher Pts cum_yhat_upper</th>\n",
       "      <th>Ambulatory Pts hrly_yhat</th>\n",
       "      <th>Ambulatory Pts hrly_yhat_lower</th>\n",
       "      <th>Ambulatory Pts hrly_yhat_upper</th>\n",
       "      <th>...</th>\n",
       "      <th>Psych Stretcher Pts1pt_yhat_upper</th>\n",
       "      <th>Psych pts waiting for admission_yhat</th>\n",
       "      <th>Psych pts waiting for admission_yhat_lower</th>\n",
       "      <th>Psych pts waiting for admission_yhat_upper</th>\n",
       "      <th>Total Pod TBS_yhat</th>\n",
       "      <th>Total Pod TBS_yhat_lower</th>\n",
       "      <th>Total Pod TBS_yhat_upper</th>\n",
       "      <th>Total Vertical TBS_yhat</th>\n",
       "      <th>Total Vertical TBS_yhat_lower</th>\n",
       "      <th>Total Vertical TBS_yhat_upper</th>\n",
       "    </tr>\n",
       "  </thead>\n",
       "  <tbody>\n",
       "    <tr>\n",
       "      <th>0</th>\n",
       "      <td>2022-01-10 12:00:00</td>\n",
       "      <td>8.981442</td>\n",
       "      <td>4.799867</td>\n",
       "      <td>13.115031</td>\n",
       "      <td>47.593372</td>\n",
       "      <td>15.804911</td>\n",
       "      <td>78.313230</td>\n",
       "      <td>7.971203</td>\n",
       "      <td>3.764278</td>\n",
       "      <td>12.024128</td>\n",
       "      <td>...</td>\n",
       "      <td>10.641819</td>\n",
       "      <td>3.213321</td>\n",
       "      <td>-1.131649</td>\n",
       "      <td>7.261679</td>\n",
       "      <td>3.688864</td>\n",
       "      <td>-0.180674</td>\n",
       "      <td>7.548485</td>\n",
       "      <td>8.842448</td>\n",
       "      <td>-2.791757</td>\n",
       "      <td>20.582303</td>\n",
       "    </tr>\n",
       "    <tr>\n",
       "      <th>1</th>\n",
       "      <td>2022-01-10 13:00:00</td>\n",
       "      <td>8.973323</td>\n",
       "      <td>4.462745</td>\n",
       "      <td>13.412401</td>\n",
       "      <td>51.919530</td>\n",
       "      <td>19.951275</td>\n",
       "      <td>83.809312</td>\n",
       "      <td>7.423712</td>\n",
       "      <td>3.023853</td>\n",
       "      <td>12.065515</td>\n",
       "      <td>...</td>\n",
       "      <td>10.487382</td>\n",
       "      <td>2.995166</td>\n",
       "      <td>-1.317149</td>\n",
       "      <td>7.232961</td>\n",
       "      <td>4.257059</td>\n",
       "      <td>-0.014602</td>\n",
       "      <td>8.183690</td>\n",
       "      <td>11.827643</td>\n",
       "      <td>-0.330949</td>\n",
       "      <td>23.342239</td>\n",
       "    </tr>\n",
       "    <tr>\n",
       "      <th>2</th>\n",
       "      <td>2022-01-10 14:00:00</td>\n",
       "      <td>8.621758</td>\n",
       "      <td>4.621853</td>\n",
       "      <td>13.194528</td>\n",
       "      <td>59.074539</td>\n",
       "      <td>26.772574</td>\n",
       "      <td>87.428683</td>\n",
       "      <td>6.786024</td>\n",
       "      <td>2.249529</td>\n",
       "      <td>11.141457</td>\n",
       "      <td>...</td>\n",
       "      <td>10.109598</td>\n",
       "      <td>2.816722</td>\n",
       "      <td>-1.177303</td>\n",
       "      <td>7.007894</td>\n",
       "      <td>4.575971</td>\n",
       "      <td>0.445951</td>\n",
       "      <td>8.374665</td>\n",
       "      <td>14.456288</td>\n",
       "      <td>2.811472</td>\n",
       "      <td>25.873658</td>\n",
       "    </tr>\n",
       "    <tr>\n",
       "      <th>3</th>\n",
       "      <td>2022-01-10 15:00:00</td>\n",
       "      <td>8.119188</td>\n",
       "      <td>3.784329</td>\n",
       "      <td>12.230623</td>\n",
       "      <td>71.525599</td>\n",
       "      <td>41.467511</td>\n",
       "      <td>100.356186</td>\n",
       "      <td>6.205867</td>\n",
       "      <td>1.639542</td>\n",
       "      <td>10.409450</td>\n",
       "      <td>...</td>\n",
       "      <td>10.104265</td>\n",
       "      <td>2.675821</td>\n",
       "      <td>-1.633515</td>\n",
       "      <td>6.670304</td>\n",
       "      <td>4.680990</td>\n",
       "      <td>0.611910</td>\n",
       "      <td>8.655355</td>\n",
       "      <td>15.708503</td>\n",
       "      <td>4.223079</td>\n",
       "      <td>27.767275</td>\n",
       "    </tr>\n",
       "    <tr>\n",
       "      <th>4</th>\n",
       "      <td>2022-01-10 16:00:00</td>\n",
       "      <td>7.556595</td>\n",
       "      <td>2.902966</td>\n",
       "      <td>11.979874</td>\n",
       "      <td>84.733421</td>\n",
       "      <td>54.565059</td>\n",
       "      <td>115.105932</td>\n",
       "      <td>5.643478</td>\n",
       "      <td>1.578860</td>\n",
       "      <td>10.132437</td>\n",
       "      <td>...</td>\n",
       "      <td>10.368119</td>\n",
       "      <td>2.547143</td>\n",
       "      <td>-1.719005</td>\n",
       "      <td>7.084439</td>\n",
       "      <td>4.679709</td>\n",
       "      <td>0.672977</td>\n",
       "      <td>8.759728</td>\n",
       "      <td>15.265768</td>\n",
       "      <td>3.662419</td>\n",
       "      <td>26.838741</td>\n",
       "    </tr>\n",
       "    <tr>\n",
       "      <th>...</th>\n",
       "      <td>...</td>\n",
       "      <td>...</td>\n",
       "      <td>...</td>\n",
       "      <td>...</td>\n",
       "      <td>...</td>\n",
       "      <td>...</td>\n",
       "      <td>...</td>\n",
       "      <td>...</td>\n",
       "      <td>...</td>\n",
       "      <td>...</td>\n",
       "      <td>...</td>\n",
       "      <td>...</td>\n",
       "      <td>...</td>\n",
       "      <td>...</td>\n",
       "      <td>...</td>\n",
       "      <td>...</td>\n",
       "      <td>...</td>\n",
       "      <td>...</td>\n",
       "      <td>...</td>\n",
       "      <td>...</td>\n",
       "      <td>...</td>\n",
       "    </tr>\n",
       "    <tr>\n",
       "      <th>331</th>\n",
       "      <td>2022-01-24 11:00:00</td>\n",
       "      <td>8.245349</td>\n",
       "      <td>3.965223</td>\n",
       "      <td>12.545885</td>\n",
       "      <td>38.063432</td>\n",
       "      <td>7.472320</td>\n",
       "      <td>66.594972</td>\n",
       "      <td>7.556296</td>\n",
       "      <td>3.064527</td>\n",
       "      <td>12.049863</td>\n",
       "      <td>...</td>\n",
       "      <td>10.065701</td>\n",
       "      <td>2.813211</td>\n",
       "      <td>-1.367253</td>\n",
       "      <td>6.946773</td>\n",
       "      <td>2.641675</td>\n",
       "      <td>-1.162852</td>\n",
       "      <td>6.716495</td>\n",
       "      <td>3.894789</td>\n",
       "      <td>-7.713337</td>\n",
       "      <td>15.922111</td>\n",
       "    </tr>\n",
       "    <tr>\n",
       "      <th>332</th>\n",
       "      <td>2022-01-24 12:00:00</td>\n",
       "      <td>8.817743</td>\n",
       "      <td>4.404491</td>\n",
       "      <td>13.060619</td>\n",
       "      <td>45.646319</td>\n",
       "      <td>14.886460</td>\n",
       "      <td>79.607059</td>\n",
       "      <td>7.478010</td>\n",
       "      <td>3.047855</td>\n",
       "      <td>12.045411</td>\n",
       "      <td>...</td>\n",
       "      <td>9.487992</td>\n",
       "      <td>2.591450</td>\n",
       "      <td>-1.618709</td>\n",
       "      <td>6.974153</td>\n",
       "      <td>3.389684</td>\n",
       "      <td>-0.456848</td>\n",
       "      <td>7.313788</td>\n",
       "      <td>6.268144</td>\n",
       "      <td>-5.507537</td>\n",
       "      <td>16.526961</td>\n",
       "    </tr>\n",
       "    <tr>\n",
       "      <th>333</th>\n",
       "      <td>2022-01-24 13:00:00</td>\n",
       "      <td>8.809624</td>\n",
       "      <td>4.422792</td>\n",
       "      <td>13.055084</td>\n",
       "      <td>49.972477</td>\n",
       "      <td>19.450547</td>\n",
       "      <td>80.464647</td>\n",
       "      <td>6.930518</td>\n",
       "      <td>2.300823</td>\n",
       "      <td>11.460856</td>\n",
       "      <td>...</td>\n",
       "      <td>9.322871</td>\n",
       "      <td>2.373296</td>\n",
       "      <td>-1.716219</td>\n",
       "      <td>6.847835</td>\n",
       "      <td>3.957879</td>\n",
       "      <td>0.134850</td>\n",
       "      <td>8.005726</td>\n",
       "      <td>9.253338</td>\n",
       "      <td>-2.907303</td>\n",
       "      <td>20.744057</td>\n",
       "    </tr>\n",
       "    <tr>\n",
       "      <th>334</th>\n",
       "      <td>2022-01-24 14:00:00</td>\n",
       "      <td>8.458060</td>\n",
       "      <td>4.285089</td>\n",
       "      <td>12.724293</td>\n",
       "      <td>57.127485</td>\n",
       "      <td>28.617784</td>\n",
       "      <td>89.407048</td>\n",
       "      <td>6.292830</td>\n",
       "      <td>1.647424</td>\n",
       "      <td>10.803894</td>\n",
       "      <td>...</td>\n",
       "      <td>9.307081</td>\n",
       "      <td>2.194851</td>\n",
       "      <td>-1.929702</td>\n",
       "      <td>6.667982</td>\n",
       "      <td>4.276791</td>\n",
       "      <td>0.409813</td>\n",
       "      <td>8.188091</td>\n",
       "      <td>11.881983</td>\n",
       "      <td>0.119450</td>\n",
       "      <td>24.279302</td>\n",
       "    </tr>\n",
       "    <tr>\n",
       "      <th>335</th>\n",
       "      <td>2022-01-24 15:00:00</td>\n",
       "      <td>7.955489</td>\n",
       "      <td>3.645560</td>\n",
       "      <td>12.705870</td>\n",
       "      <td>69.578545</td>\n",
       "      <td>40.246067</td>\n",
       "      <td>100.926058</td>\n",
       "      <td>5.712673</td>\n",
       "      <td>1.369052</td>\n",
       "      <td>10.071909</td>\n",
       "      <td>...</td>\n",
       "      <td>9.260262</td>\n",
       "      <td>2.053950</td>\n",
       "      <td>-2.311420</td>\n",
       "      <td>5.996894</td>\n",
       "      <td>4.381811</td>\n",
       "      <td>0.152129</td>\n",
       "      <td>8.461596</td>\n",
       "      <td>13.134199</td>\n",
       "      <td>1.216518</td>\n",
       "      <td>24.778586</td>\n",
       "    </tr>\n",
       "  </tbody>\n",
       "</table>\n",
       "<p>336 rows × 142 columns</p>\n",
       "</div>"
      ],
      "text/plain": [
       "                     ds  Stretcher Pts hrly_yhat  \\\n",
       "0   2022-01-10 12:00:00                 8.981442   \n",
       "1   2022-01-10 13:00:00                 8.973323   \n",
       "2   2022-01-10 14:00:00                 8.621758   \n",
       "3   2022-01-10 15:00:00                 8.119188   \n",
       "4   2022-01-10 16:00:00                 7.556595   \n",
       "..                  ...                      ...   \n",
       "331 2022-01-24 11:00:00                 8.245349   \n",
       "332 2022-01-24 12:00:00                 8.817743   \n",
       "333 2022-01-24 13:00:00                 8.809624   \n",
       "334 2022-01-24 14:00:00                 8.458060   \n",
       "335 2022-01-24 15:00:00                 7.955489   \n",
       "\n",
       "     Stretcher Pts hrly_yhat_lower  Stretcher Pts hrly_yhat_upper  \\\n",
       "0                         4.799867                      13.115031   \n",
       "1                         4.462745                      13.412401   \n",
       "2                         4.621853                      13.194528   \n",
       "3                         3.784329                      12.230623   \n",
       "4                         2.902966                      11.979874   \n",
       "..                             ...                            ...   \n",
       "331                       3.965223                      12.545885   \n",
       "332                       4.404491                      13.060619   \n",
       "333                       4.422792                      13.055084   \n",
       "334                       4.285089                      12.724293   \n",
       "335                       3.645560                      12.705870   \n",
       "\n",
       "     Stretcher Pts cum_yhat  Stretcher Pts cum_yhat_lower  \\\n",
       "0                 47.593372                     15.804911   \n",
       "1                 51.919530                     19.951275   \n",
       "2                 59.074539                     26.772574   \n",
       "3                 71.525599                     41.467511   \n",
       "4                 84.733421                     54.565059   \n",
       "..                      ...                           ...   \n",
       "331               38.063432                      7.472320   \n",
       "332               45.646319                     14.886460   \n",
       "333               49.972477                     19.450547   \n",
       "334               57.127485                     28.617784   \n",
       "335               69.578545                     40.246067   \n",
       "\n",
       "     Stretcher Pts cum_yhat_upper  Ambulatory Pts hrly_yhat  \\\n",
       "0                       78.313230                  7.971203   \n",
       "1                       83.809312                  7.423712   \n",
       "2                       87.428683                  6.786024   \n",
       "3                      100.356186                  6.205867   \n",
       "4                      115.105932                  5.643478   \n",
       "..                            ...                       ...   \n",
       "331                     66.594972                  7.556296   \n",
       "332                     79.607059                  7.478010   \n",
       "333                     80.464647                  6.930518   \n",
       "334                     89.407048                  6.292830   \n",
       "335                    100.926058                  5.712673   \n",
       "\n",
       "     Ambulatory Pts hrly_yhat_lower  Ambulatory Pts hrly_yhat_upper  ...  \\\n",
       "0                          3.764278                       12.024128  ...   \n",
       "1                          3.023853                       12.065515  ...   \n",
       "2                          2.249529                       11.141457  ...   \n",
       "3                          1.639542                       10.409450  ...   \n",
       "4                          1.578860                       10.132437  ...   \n",
       "..                              ...                             ...  ...   \n",
       "331                        3.064527                       12.049863  ...   \n",
       "332                        3.047855                       12.045411  ...   \n",
       "333                        2.300823                       11.460856  ...   \n",
       "334                        1.647424                       10.803894  ...   \n",
       "335                        1.369052                       10.071909  ...   \n",
       "\n",
       "     Psych Stretcher Pts1pt_yhat_upper  Psych pts waiting for admission_yhat  \\\n",
       "0                            10.641819                              3.213321   \n",
       "1                            10.487382                              2.995166   \n",
       "2                            10.109598                              2.816722   \n",
       "3                            10.104265                              2.675821   \n",
       "4                            10.368119                              2.547143   \n",
       "..                                 ...                                   ...   \n",
       "331                          10.065701                              2.813211   \n",
       "332                           9.487992                              2.591450   \n",
       "333                           9.322871                              2.373296   \n",
       "334                           9.307081                              2.194851   \n",
       "335                           9.260262                              2.053950   \n",
       "\n",
       "     Psych pts waiting for admission_yhat_lower  \\\n",
       "0                                     -1.131649   \n",
       "1                                     -1.317149   \n",
       "2                                     -1.177303   \n",
       "3                                     -1.633515   \n",
       "4                                     -1.719005   \n",
       "..                                          ...   \n",
       "331                                   -1.367253   \n",
       "332                                   -1.618709   \n",
       "333                                   -1.716219   \n",
       "334                                   -1.929702   \n",
       "335                                   -2.311420   \n",
       "\n",
       "     Psych pts waiting for admission_yhat_upper  Total Pod TBS_yhat  \\\n",
       "0                                      7.261679            3.688864   \n",
       "1                                      7.232961            4.257059   \n",
       "2                                      7.007894            4.575971   \n",
       "3                                      6.670304            4.680990   \n",
       "4                                      7.084439            4.679709   \n",
       "..                                          ...                 ...   \n",
       "331                                    6.946773            2.641675   \n",
       "332                                    6.974153            3.389684   \n",
       "333                                    6.847835            3.957879   \n",
       "334                                    6.667982            4.276791   \n",
       "335                                    5.996894            4.381811   \n",
       "\n",
       "     Total Pod TBS_yhat_lower  Total Pod TBS_yhat_upper  \\\n",
       "0                   -0.180674                  7.548485   \n",
       "1                   -0.014602                  8.183690   \n",
       "2                    0.445951                  8.374665   \n",
       "3                    0.611910                  8.655355   \n",
       "4                    0.672977                  8.759728   \n",
       "..                        ...                       ...   \n",
       "331                 -1.162852                  6.716495   \n",
       "332                 -0.456848                  7.313788   \n",
       "333                  0.134850                  8.005726   \n",
       "334                  0.409813                  8.188091   \n",
       "335                  0.152129                  8.461596   \n",
       "\n",
       "     Total Vertical TBS_yhat  Total Vertical TBS_yhat_lower  \\\n",
       "0                   8.842448                      -2.791757   \n",
       "1                  11.827643                      -0.330949   \n",
       "2                  14.456288                       2.811472   \n",
       "3                  15.708503                       4.223079   \n",
       "4                  15.265768                       3.662419   \n",
       "..                       ...                            ...   \n",
       "331                 3.894789                      -7.713337   \n",
       "332                 6.268144                      -5.507537   \n",
       "333                 9.253338                      -2.907303   \n",
       "334                11.881983                       0.119450   \n",
       "335                13.134199                       1.216518   \n",
       "\n",
       "     Total Vertical TBS_yhat_upper  \n",
       "0                        20.582303  \n",
       "1                        23.342239  \n",
       "2                        25.873658  \n",
       "3                        27.767275  \n",
       "4                        26.838741  \n",
       "..                             ...  \n",
       "331                      15.922111  \n",
       "332                      16.526961  \n",
       "333                      20.744057  \n",
       "334                      24.279302  \n",
       "335                      24.778586  \n",
       "\n",
       "[336 rows x 142 columns]"
      ]
     },
     "execution_count": 30,
     "metadata": {},
     "output_type": "execute_result"
    }
   ],
   "source": [
    "output"
   ]
  },
  {
   "cell_type": "code",
   "execution_count": 31,
   "metadata": {},
   "outputs": [],
   "source": [
    "output.to_csv('../data/forecast.csv', index=False)\n"
   ]
  },
  {
   "cell_type": "code",
   "execution_count": null,
   "metadata": {},
   "outputs": [],
   "source": []
  }
 ],
 "metadata": {
  "interpreter": {
   "hash": "ac7302cabb1a3d662f9c7a1adafc8e37e705c76124138472479425eda763d1ae"
  },
  "kernelspec": {
   "display_name": "Python 3.8.5 64-bit ('base': conda)",
   "language": "python",
   "name": "python3"
  },
  "language_info": {
   "codemirror_mode": {
    "name": "ipython",
    "version": 3
   },
   "file_extension": ".py",
   "mimetype": "text/x-python",
   "name": "python",
   "nbconvert_exporter": "python",
   "pygments_lexer": "ipython3",
   "version": "3.8.5"
  },
  "orig_nbformat": 4
 },
 "nbformat": 4,
 "nbformat_minor": 2
}
