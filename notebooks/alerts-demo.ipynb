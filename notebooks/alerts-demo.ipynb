{
 "cells": [
  {
   "cell_type": "code",
   "execution_count": 8,
   "metadata": {},
   "outputs": [
    {
     "name": "stdout",
     "output_type": "stream",
     "text": [
      "2022-01-17 03:00:00 Consult for IM >4h in Vertical: 1 (0.8)\n",
      "2022-01-17 00:00:00 Ambulances cum: 33 (31.8)\n",
      "2022-01-17 00:00:00 Yellow Pts TBS: 4 (2.6)\n",
      "2022-01-16 23:00:00 Yellow Pts TBS: 4 (2.7)\n",
      "2022-01-16 22:00:00 Stretcher Pts hrly: 9 (8.5)\n",
      "2022-01-16 22:00:00 FLS hrly: 2 (1.2)\n",
      "2022-01-16 19:00:00 Green Pts TBS: 4 (3.0)\n",
      "2022-01-16 18:00:00 Ambulances hrly: 4 (3.9)\n",
      "2022-01-16 18:00:00 GARAGE patient TBS: 6.0 (5.4)\n"
     ]
    }
   ],
   "source": [
    "import pandas as pd\n",
    "import plotly.express as px\n",
    "import plotly.graph_objects as go\n",
    "from plotly.subplots import make_subplots\n",
    "\n",
    "\n",
    "df = pd.read_csv(\n",
    "    'https://raw.githubusercontent.com/drdevinhopkins/hourly-report/main/data/recent.csv')\n",
    "\n",
    "df.ds = pd.to_datetime(df.ds)\n",
    "\n",
    "forecast = pd.read_csv(\n",
    "    'https://raw.githubusercontent.com/drdevinhopkins/hourly-report/main/data/forecast.csv')\n",
    "\n",
    "forecast.ds = pd.to_datetime(forecast.ds)\n",
    "\n",
    "current = df.iloc[0]\n",
    "\n",
    "current_ds = df.head(1).iloc[0].ds\n",
    "\n",
    "current_forecast = forecast.set_index('ds').loc[current_ds]\n",
    "\n",
    "current_alerts = []\n",
    "\n",
    "for column in df.columns.tolist():\n",
    "    if column in ['Date', 'Time', 'ds']:\n",
    "        continue\n",
    "    try:\n",
    "        if current[column] > current_forecast[column+'_yhat_upper']:\n",
    "            current_alerts.append(column + ': ' + str(current[column]) + ' (' +\n",
    "                                  str(round(current_forecast[column+'_yhat_upper'], 1)) + ')')\n",
    "    except:\n",
    "        continue\n",
    "\n",
    "\n",
    "# recent_alerts = st.expander('History (last 4 hours)')\n",
    "# with recent_alerts:\n",
    "    # st.subheader('Last 4 hours')\n",
    "for lag in range(1,23):\n",
    "    target_report = df.iloc[lag]\n",
    "    target_forecast = forecast.set_index('ds').loc[target_report.ds]\n",
    "    # print('**'+str(target_report.ds)+'**')\n",
    "    for column in df.columns.tolist():\n",
    "        if column in ['Date', 'Time', 'ds']:\n",
    "            continue\n",
    "        try:\n",
    "            if target_report[column] > target_forecast[column+'_yhat_upper']:\n",
    "                print(str(target_report.ds)+' '+column + ': ' + str(target_report[column]) + ' (' +\n",
    "                            str(round(target_forecast[column+'_yhat_upper'], 1)) + ')')\n",
    "        except:\n",
    "            continue"
   ]
  },
  {
   "cell_type": "code",
   "execution_count": null,
   "metadata": {},
   "outputs": [],
   "source": []
  }
 ],
 "metadata": {
  "interpreter": {
   "hash": "ac7302cabb1a3d662f9c7a1adafc8e37e705c76124138472479425eda763d1ae"
  },
  "kernelspec": {
   "display_name": "Python 3.8.5 64-bit ('base': conda)",
   "language": "python",
   "name": "python3"
  },
  "language_info": {
   "codemirror_mode": {
    "name": "ipython",
    "version": 3
   },
   "file_extension": ".py",
   "mimetype": "text/x-python",
   "name": "python",
   "nbconvert_exporter": "python",
   "pygments_lexer": "ipython3",
   "version": "3.8.5"
  },
  "orig_nbformat": 4
 },
 "nbformat": 4,
 "nbformat_minor": 2
}
